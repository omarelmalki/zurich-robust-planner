{
 "cells": [
  {
   "cell_type": "code",
   "execution_count": 1,
   "id": "de478d5e-4613-4b13-985d-42f79ac5159d",
   "metadata": {},
   "outputs": [
    {
     "name": "stdout",
     "output_type": "stream",
     "text": [
      "Requirement already satisfied: networkx in /opt/conda/lib/python3.9/site-packages (3.1)\n"
     ]
    }
   ],
   "source": [
    "!pip install networkx"
   ]
  },
  {
   "cell_type": "code",
   "execution_count": 2,
   "id": "970cfab7-198f-43b5-950f-6cbd9d7121f1",
   "metadata": {},
   "outputs": [
    {
     "name": "stdout",
     "output_type": "stream",
     "text": [
      "your username is elmalki\n",
      "you are connected to iccluster044.iccluster.epfl.ch:10000\n"
     ]
    }
   ],
   "source": [
    "import sys\n",
    "\n",
    "MODULES_PATH = \"../../modules\"\n",
    "if MODULES_PATH not in sys.path:\n",
    "    sys.path.append(MODULES_PATH)\n",
    "    \n",
    "from database import *\n",
    "from route_planner import *\n",
    "\n",
    "%load_ext autoreload\n",
    "%autoreload 2"
   ]
  },
  {
   "cell_type": "markdown",
   "id": "e13da4e6-f58d-4d0e-b6e3-862e56b6f690",
   "metadata": {
    "tags": []
   },
   "source": [
    "**Before you run the next cells, run this in renku terminal or bash notebook (copy the text, I know the format is ugly af)**\n",
    "\n",
    "hdfs dfs -rm -r -f -skipTrash \"/user/${USERNAME:-nobody}/hive\"\n",
    "hdfs dfs -rm -r -f -skipTrash \"/user/${USERNAME:-nobody}/.Trash\"\n",
    "\n",
    "hdfs dfs -mkdir -p                                /user/${USERNAME:-nobody}/hive\n",
    "hdfs dfs -setfacl    -m group::r-x                /user/${USERNAME:-nobody}\n",
    "hdfs dfs -setfacl    -m other::---                /user/${USERNAME:-nobody}\n",
    "hdfs dfs -setfacl    -m default:group::r-x        /user/${USERNAME:-nobody}\n",
    "hdfs dfs -setfacl    -m default:other::---        /user/${USERNAME:-nobody}\n",
    "hdfs dfs -setfacl -R -m group::r-x                /user/${USERNAME:-nobody}/hive\n",
    "hdfs dfs -setfacl -R -m other::---                /user/${USERNAME:-nobody}/hive\n",
    "hdfs dfs -setfacl -R -m default:group::r-x        /user/${USERNAME:-nobody}/hive\n",
    "hdfs dfs -setfacl -R -m default:other::---        /user/${USERNAME:-nobody}/hive\n",
    "hdfs dfs -setfacl    -m user:hive:rwx             /user/${USERNAME:-nobody}/hive\n",
    "hdfs dfs -setfacl    -m default:user:hive:rwx     /user/${USERNAME:-nobody}/hive"
   ]
  },
  {
   "cell_type": "code",
   "execution_count": 9,
   "id": "ecafc96b-fd54-4d3c-be8c-075f449b4181",
   "metadata": {},
   "outputs": [
    {
     "data": {
      "text/plain": [
       "('elmalki', 'iccluster044.iccluster.epfl.ch', '10000')"
      ]
     },
     "execution_count": 9,
     "metadata": {},
     "output_type": "execute_result"
    }
   ],
   "source": [
    "username, host, port = get_env_vars()\n",
    "username, host, port"
   ]
  },
  {
   "cell_type": "code",
   "execution_count": 10,
   "id": "0735a0d7-731d-4399-9240-9ae8a8eabb5a",
   "metadata": {},
   "outputs": [
    {
     "data": {
      "text/plain": [
       "('elmalki', 'elmalki/hive')"
      ]
     },
     "execution_count": 10,
     "metadata": {},
     "output_type": "execute_result"
    }
   ],
   "source": [
    "hive_conn = HiveConnection(username, host, port, location=None) # location=None uses default location\n",
    "hive_conn.name, hive_conn.location"
   ]
  },
  {
   "cell_type": "code",
   "execution_count": 11,
   "id": "d9965d1c-c91e-401b-98ed-349dac05b9c5",
   "metadata": {},
   "outputs": [
    {
     "data": {
      "text/plain": [
       "<database.HiveConnection at 0x7f8ba89cb6d0>"
      ]
     },
     "execution_count": 11,
     "metadata": {},
     "output_type": "execute_result"
    }
   ],
   "source": [
    "hive_conn.create_tables()"
   ]
  },
  {
   "cell_type": "code",
   "execution_count": 12,
   "id": "4e6afc46-4e6f-474c-9385-0d8bcf8c8fee",
   "metadata": {},
   "outputs": [
    {
     "name": "stderr",
     "output_type": "stream",
     "text": [
      "243.91s - pydevd: Sending message related to process being replaced timed-out after 5 seconds\n"
     ]
    },
    {
     "name": "stdout",
     "output_type": "stream",
     "text": [
      "+----------------+\n",
      "| database_name  |\n",
      "+----------------+\n",
      "| elmalki        |\n",
      "+----------------+\n"
     ]
    }
   ],
   "source": [
    "!beeline -u \"${HIVE_JDBC_URL}\" --silent -e \"SHOW DATABASES LIKE '${USERNAME:-nobody}';\""
   ]
  },
  {
   "cell_type": "code",
   "execution_count": 13,
   "id": "36ae09f5-5a0e-4592-a713-a65b0593bc8d",
   "metadata": {},
   "outputs": [
    {
     "name": "stderr",
     "output_type": "stream",
     "text": [
      "251.35s - pydevd: Sending message related to process being replaced timed-out after 5 seconds\n"
     ]
    },
    {
     "name": "stdout",
     "output_type": "stream",
     "text": [
      "+-------------+\n",
      "|  tab_name   |\n",
      "+-------------+\n",
      "| calendar    |\n",
      "| istdaten    |\n",
      "| routes      |\n",
      "| stop_times  |\n",
      "| stops       |\n",
      "| trips       |\n",
      "+-------------+\n"
     ]
    }
   ],
   "source": [
    "!beeline -u \"${HIVE_JDBC_URL}\" --silent -e \"SHOW TABLES IN ${USERNAME:-nobody};\""
   ]
  },
  {
   "cell_type": "code",
   "execution_count": 14,
   "id": "7a52697e-cd92-4d37-839a-e76bab883be8",
   "metadata": {},
   "outputs": [],
   "source": [
    "hive_conn.close()"
   ]
  },
  {
   "cell_type": "code",
   "execution_count": null,
   "id": "b9830ae5-3f2f-4f72-8859-56ff133f4c46",
   "metadata": {},
   "outputs": [],
   "source": []
  }
 ],
 "metadata": {
  "kernelspec": {
   "display_name": "Python 3 (ipykernel)",
   "language": "python",
   "name": "python3"
  },
  "language_info": {
   "codemirror_mode": {
    "name": "ipython",
    "version": 3
   },
   "file_extension": ".py",
   "mimetype": "text/x-python",
   "name": "python",
   "nbconvert_exporter": "python",
   "pygments_lexer": "ipython3",
   "version": "3.9.12"
  }
 },
 "nbformat": 4,
 "nbformat_minor": 5
}
