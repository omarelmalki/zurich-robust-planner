{
 "cells": [
  {
   "cell_type": "code",
   "execution_count": 1,
   "id": "6a0d3f18-6878-4bde-88a4-37355cd2f43d",
   "metadata": {},
   "outputs": [],
   "source": [
    "import sys\n",
    "import pickle\n",
    "from route_planner_omar import * \n",
    "from datetime import timedelta, datetime\n",
    "\n",
    "MODULES_PATH = \"../../modules\"\n",
    "if MODULES_PATH not in sys.path:\n",
    "    sys.path.append(MODULES_PATH)\n",
    "    \n",
    "from hive_wrapper import *\n",
    "from database import *\n",
    "from utils import *\n",
    "from route_planner import *\n",
    "from validation_utils import *\n",
    "from visualization import *\n",
    "\n",
    "%reload_ext autoreload\n",
    "%autoreload 2"
   ]
  },
  {
   "cell_type": "code",
   "execution_count": 2,
   "id": "8c50c9bd-15bb-4fd6-ad98-152057007b08",
   "metadata": {},
   "outputs": [
    {
     "name": "stdout",
     "output_type": "stream",
     "text": [
      "Cleaning up livy sessions on exit is enabled\n"
     ]
    }
   ],
   "source": [
    "%reload_ext sparkmagic.magics"
   ]
  },
  {
   "cell_type": "code",
   "execution_count": 3,
   "id": "789d3dbf-5f3c-4f21-a989-ed31f7d30ec7",
   "metadata": {},
   "outputs": [],
   "source": [
    "username, _, _ = get_env_vars()"
   ]
  },
  {
   "cell_type": "code",
   "execution_count": 4,
   "id": "d1c7cc93-f0bf-41d8-95ad-0bf11938a28e",
   "metadata": {},
   "outputs": [
    {
     "name": "stdout",
     "output_type": "stream",
     "text": [
      "Starting Spark application\n"
     ]
    },
    {
     "data": {
      "text/html": [
       "<table>\n",
       "<tr><th>ID</th><th>YARN Application ID</th><th>Kind</th><th>State</th><th>Spark UI</th><th>Driver log</th><th>User</th><th>Current session?</th></tr><tr><td>5614</td><td>application_1680948035106_5110</td><td>pyspark</td><td>idle</td><td><a target=\"_blank\" href=\"http://iccluster044.iccluster.epfl.ch:8088/proxy/application_1680948035106_5110/\">Link</a></td><td><a target=\"_blank\" href=\"http://iccluster063.iccluster.epfl.ch:8042/node/containerlogs/container_e01_1680948035106_5110_01_000001/ebouille\">Link</a></td><td>None</td><td>✔</td></tr></table>"
      ],
      "text/plain": [
       "<IPython.core.display.HTML object>"
      ]
     },
     "metadata": {},
     "output_type": "display_data"
    },
    {
     "data": {
      "application/vnd.jupyter.widget-view+json": {
       "model_id": "",
       "version_major": 2,
       "version_minor": 0
      },
      "text/plain": [
       "FloatProgress(value=0.0, bar_style='info', description='Progress:', layout=Layout(height='25px', width='50%'),…"
      ]
     },
     "metadata": {},
     "output_type": "display_data"
    },
    {
     "name": "stdout",
     "output_type": "stream",
     "text": [
      "SparkSession available as 'spark'.\n"
     ]
    }
   ],
   "source": [
    "setup_spark(username)"
   ]
  },
  {
   "cell_type": "markdown",
   "id": "53430c09-de55-41a2-950e-5531c55745fd",
   "metadata": {},
   "source": [
    "# Validation"
   ]
  },
  {
   "cell_type": "markdown",
   "id": "9c9d34d3-4072-4f15-8ac6-220db1e0ffe9",
   "metadata": {},
   "source": [
    "## Simple examples \n",
    "We are first going to check the viability of our route planner based on a few frequent trips that a Zürich citizen might take :"
   ]
  },
  {
   "cell_type": "markdown",
   "id": "0f5a0465-287b-44ef-ba2e-aeb9f4ed217e",
   "metadata": {},
   "source": [
    "**Start** : Zürich HB   \n",
    "**End** : Zürich Auzelg   \n",
    "**Deadline Date** : 29/05/2023  16:30:00  \n",
    "**Path picking condition** : Path with the latest departure time"
   ]
  },
  {
   "cell_type": "code",
   "execution_count": 13,
   "id": "82c02654-c19c-48de-8ad1-c438498c30b3",
   "metadata": {
    "collapsed": true,
    "jupyter": {
     "outputs_hidden": true
    },
    "tags": []
   },
   "outputs": [
    {
     "name": "stdout",
     "output_type": "stream",
     "text": [
      "set()\n",
      "('8503000:0:33', '8503000', {'trip_id': None, 'trip_headsign': None, 'route_name': None, 'transport_type': 'walk', 'transport_subtype': 'walk', 'stop_name': 'zürich hb', 'departure_time': '16:10:00', 'next_stop_name': 'zürich hb', 'next_arrival_time': None, 'next_departure_time': None, 'is_walkable': True, 'duration_s': 120.0})\n",
      "('8503006:0:2', '8503000:0:33', {'trip_id': '303.TA.91-14-C-j23-1.104.R', 'trip_headsign': 'Hinwil', 'route_name': 's14', 'transport_type': 'train', 'transport_subtype': 's', 'stop_name': 'zürich hb', 'departure_time': '16:12:00', 'next_stop_name': 'zürich oerlikon', 'next_arrival_time': '16:16:00', 'next_departure_time': '16:18:00', 'is_walkable': False, 'duration_s': 240.0})\n",
      "('8503129:0:3', '8503006:0:2', {'trip_id': '303.TA.91-14-C-j23-1.104.R', 'trip_headsign': 'Hinwil', 'route_name': 's14', 'transport_type': 'train', 'transport_subtype': 's', 'stop_name': 'zürich oerlikon', 'departure_time': '16:18:00', 'next_stop_name': 'wallisellen', 'next_arrival_time': '16:21:00', 'next_departure_time': '16:21:00', 'is_walkable': False, 'duration_s': 180.0})\n",
      "('8587655', '8503129:0:3', {'trip_id': None, 'trip_headsign': None, 'route_name': None, 'transport_type': 'walk', 'transport_subtype': 'walk', 'stop_name': 'wallisellen', 'departure_time': '16:23:05', 'next_stop_name': 'wallisellen, bahnhof', 'next_arrival_time': None, 'next_departure_time': None, 'is_walkable': True, 'duration_s': 175.0})\n",
      "('8590881', '8587655', {'trip_id': '391.TA.91-12-C-j23-1.5.R', 'trip_headsign': 'Zürich Flughafen, Fracht', 'route_name': '12', 'transport_type': 'bus', 'transport_subtype': 'nfb', 'stop_name': 'wallisellen, bahnhof', 'departure_time': '16:26:00', 'next_stop_name': 'wallisellen, belair', 'next_arrival_time': '16:27:00', 'next_departure_time': '16:27:00', 'is_walkable': False, 'duration_s': 60.0})\n",
      "('8590889', '8590881', {'trip_id': '391.TA.91-12-C-j23-1.5.R', 'trip_headsign': 'Zürich Flughafen, Fracht', 'route_name': '12', 'transport_type': 'bus', 'transport_subtype': 'nfb', 'stop_name': 'wallisellen, belair', 'departure_time': '16:27:00', 'next_stop_name': 'wallisellen, herti', 'next_arrival_time': '16:28:00', 'next_departure_time': '16:29:00', 'is_walkable': False, 'duration_s': 60.0})\n",
      "('8591049', '8590889', {'trip_id': '391.TA.91-12-C-j23-1.5.R', 'trip_headsign': 'Zürich Flughafen, Fracht', 'route_name': '12', 'transport_type': 'bus', 'transport_subtype': 'nfb', 'stop_name': 'wallisellen, herti', 'departure_time': '16:29:00', 'next_stop_name': 'zürich, auzelg', 'next_arrival_time': '16:30:00', 'next_departure_time': '16:30:00', 'is_walkable': False, 'duration_s': 60.0})\n",
      "\n",
      "---------------\n"
     ]
    },
    {
     "data": {
      "text/plain": [
       "{'wallisellen',\n",
       " 'wallisellen, bahnhof',\n",
       " 'wallisellen, belair',\n",
       " 'wallisellen, herti',\n",
       " 'zürich hb',\n",
       " 'zürich oerlikon',\n",
       " 'zürich, auzelg'}"
      ]
     },
     "execution_count": 13,
     "metadata": {},
     "output_type": "execute_result"
    }
   ],
   "source": [
    "# TOY EXAMPLE : zürich hb -> zürich, auzelg\n",
    "def plan_route(deadline_hr, source_id, source_name, target_id, target_name):\n",
    "    \n",
    "    deadline_datetime = datetime.strptime(deadline_hr, \"%H:%M:%S\")\n",
    "\n",
    "    rp = RoutePlanner(graph, source_id, target_id, deadline=deadline_datetime)\n",
    "    routes = rp.find_paths(1)\n",
    "\n",
    "    stop_names_rp = {source_name, target_name}\n",
    "    for route in routes:\n",
    "        for edge in route:\n",
    "            print(edge)\n",
    "            stop_names_rp.add(edge[2][\"stop_name\"])\n",
    "            stop_names_rp.add(edge[2][\"next_stop_name\"])\n",
    "        print()\n",
    "\n",
    "    print(\"---------------\")\n",
    "    #print(\"Route planner stops\", stop_names_rp, \"\\n\")\n",
    "    return stop_names_rp\n",
    "\n",
    "deadline_hr = \"16:30:00\"\n",
    "source_id = \"8503000\"\n",
    "target_id = \"8591049\"\n",
    "source_rp = \"zürich hb\"\n",
    "target_rp = \"zürich, auzelg\"\n",
    "plan_route(deadline_hr, source_id, source_rp, target_id, target_rp)"
   ]
  },
  {
   "cell_type": "markdown",
   "id": "41394973-4f1b-4ef2-bd84-6da7b230f0fb",
   "metadata": {},
   "source": [
    "You can see that fundamentally this first example corresponds to the following SBB query : \n",
    "![Zürich HB -> Zürich Aulzeg](./validation_images/toy_example.png)\n",
    "\n",
    "Our route planner algorithm had the assumptions of having a deadline hour to choose, and pick the latest arrival time to give to the user. In this example, we see that the deadline hour is 16:30:00, so our algorithm will pick the path arriving in source station at 16:12:00 :\n",
    "![Path picked](./validation_images/toy_example_hb_auzelg.png)"
   ]
  },
  {
   "cell_type": "markdown",
   "id": "447fe718-9ec2-44e9-baca-593560048ddb",
   "metadata": {},
   "source": [
    "**Start** : Zürich HB  \n",
    "**End** : Kloten, Kasern OST  \n",
    "**Deadline Date** : 29/05/2023  16:00:00  \n",
    "**Path picking condition** : Path with the latest departure time"
   ]
  },
  {
   "cell_type": "code",
   "execution_count": 21,
   "id": "ac9ef8b8-daec-44f4-a63f-4c4852da5f3d",
   "metadata": {
    "collapsed": true,
    "jupyter": {
     "outputs_hidden": true
    },
    "tags": []
   },
   "outputs": [
    {
     "name": "stdout",
     "output_type": "stream",
     "text": [
      "set()\n",
      "('8503000:0:41/42', '8503000', {'trip_id': None, 'trip_headsign': None, 'route_name': None, 'transport_type': 'walk', 'transport_subtype': 'walk', 'stop_name': 'zürich hb', 'departure_time': '13:17:00', 'next_stop_name': 'zürich hb', 'next_arrival_time': None, 'next_departure_time': None, 'is_walkable': True, 'duration_s': 120.0})\n",
      "('8503020:0:3', '8503000:0:41/42', {'trip_id': '129.TA.91-7-C-j23-1.20.H', 'trip_headsign': 'Winterthur', 'route_name': 's7', 'transport_type': 'train', 'transport_subtype': 's', 'stop_name': 'zürich hb', 'departure_time': '13:19:00', 'next_stop_name': 'zürich hardbrücke', 'next_arrival_time': '13:21:00', 'next_departure_time': '13:21:00', 'is_walkable': False, 'duration_s': 120.0})\n",
      "('8503006:0:8', '8503020:0:3', {'trip_id': '129.TA.91-7-C-j23-1.20.H', 'trip_headsign': 'Winterthur', 'route_name': 's7', 'transport_type': 'train', 'transport_subtype': 's', 'stop_name': 'zürich hardbrücke', 'departure_time': '13:21:00', 'next_stop_name': 'zürich oerlikon', 'next_arrival_time': '13:26:00', 'next_departure_time': '13:27:00', 'is_walkable': False, 'duration_s': 300.0})\n",
      "('8503340:0:1', '8503006:0:8', {'trip_id': '129.TA.91-7-C-j23-1.20.H', 'trip_headsign': 'Winterthur', 'route_name': 's7', 'transport_type': 'train', 'transport_subtype': 's', 'stop_name': 'zürich oerlikon', 'departure_time': '13:27:00', 'next_stop_name': 'opfikon', 'next_arrival_time': '13:30:00', 'next_departure_time': '13:30:00', 'is_walkable': False, 'duration_s': 180.0})\n",
      "('8503309:0:1', '8503340:0:1', {'trip_id': '129.TA.91-7-C-j23-1.20.H', 'trip_headsign': 'Winterthur', 'route_name': 's7', 'transport_type': 'train', 'transport_subtype': 's', 'stop_name': 'opfikon', 'departure_time': '13:30:00', 'next_stop_name': 'kloten balsberg', 'next_arrival_time': '13:32:00', 'next_departure_time': '13:32:00', 'is_walkable': False, 'duration_s': 120.0})\n",
      "('8503308:0:3', '8503309:0:1', {'trip_id': '129.TA.91-7-C-j23-1.20.H', 'trip_headsign': 'Winterthur', 'route_name': 's7', 'transport_type': 'train', 'transport_subtype': 's', 'stop_name': 'kloten balsberg', 'departure_time': '13:32:00', 'next_stop_name': 'kloten', 'next_arrival_time': '13:35:00', 'next_departure_time': '13:36:00', 'is_walkable': False, 'duration_s': 180.0})\n",
      "('8587420', '8503308:0:3', {'trip_id': None, 'trip_headsign': None, 'route_name': None, 'transport_type': 'walk', 'transport_subtype': 'walk', 'stop_name': 'kloten', 'departure_time': '13:37:12', 'next_stop_name': 'kloten, bahnhof', 'next_arrival_time': None, 'next_departure_time': None, 'is_walkable': True, 'duration_s': 168.0})\n",
      "('8576152', '8587420', {'trip_id': '155.TA.92-732-A-j23-1.5.R', 'trip_headsign': 'Egetswil, Dorf', 'route_name': '732', 'transport_type': 'bus', 'transport_subtype': 'b', 'stop_name': 'kloten, bahnhof', 'departure_time': '13:40:00', 'next_stop_name': 'kloten, kirchgasse', 'next_arrival_time': '13:41:00', 'next_departure_time': '13:41:00', 'is_walkable': False, 'duration_s': 60.0})\n",
      "('8573211', '8576152', {'trip_id': '155.TA.92-732-A-j23-1.5.R', 'trip_headsign': 'Egetswil, Dorf', 'route_name': '732', 'transport_type': 'bus', 'transport_subtype': 'b', 'stop_name': 'kloten, kirchgasse', 'departure_time': '13:41:00', 'next_stop_name': 'kloten, zum wilden mann', 'next_arrival_time': '13:42:00', 'next_departure_time': '13:43:00', 'is_walkable': False, 'duration_s': 60.0})\n",
      "('8573233', '8573211', {'trip_id': None, 'trip_headsign': None, 'route_name': None, 'transport_type': 'walk', 'transport_subtype': 'walk', 'stop_name': 'kloten, zum wilden mann', 'departure_time': '13:49:26', 'next_stop_name': 'kloten, kaserne ost', 'next_arrival_time': None, 'next_departure_time': None, 'is_walkable': True, 'duration_s': 634.0})\n",
      "\n",
      "---------------\n"
     ]
    },
    {
     "data": {
      "text/plain": [
       "{'kloten',\n",
       " 'kloten balsberg',\n",
       " 'kloten, bahnhof',\n",
       " 'kloten, kaserne ost',\n",
       " 'kloten, kirchgasse',\n",
       " 'kloten, zum wilden mann',\n",
       " 'opfikon',\n",
       " 'zürich hardbrücke',\n",
       " 'zürich hb',\n",
       " 'zürich oerlikon'}"
      ]
     },
     "execution_count": 21,
     "metadata": {},
     "output_type": "execute_result"
    }
   ],
   "source": [
    "deadline_hr = \"14:00:00\"\n",
    "source_id = \"8503000\"\n",
    "target_id = \"8573233\"\n",
    "source_rp = \"zürich hb\"\n",
    "target_rp = \"kloten, kaserne ost\"\n",
    "plan_route(deadline_hr, source_id, source_rp, target_id, target_rp)"
   ]
  },
  {
   "cell_type": "markdown",
   "id": "5ffb85b2-9d71-44c4-ad1f-7e8db3b07c23",
   "metadata": {},
   "source": [
    "![Staffeln AG -> Illnau, Horben](./validation_images/zurich_kloten.png)\n",
    "![Staffeln AG -> Illnau, Horben](./validation_images/zurich_kloten_2.png)"
   ]
  },
  {
   "cell_type": "markdown",
   "id": "c4c9a68d-8e03-412d-8aae-81da366e60cd",
   "metadata": {},
   "source": [
    "In this example, we see a small difference in the end of "
   ]
  },
  {
   "cell_type": "markdown",
   "id": "87fdf20c-8b73-4d14-b5b2-493ab7c7451e",
   "metadata": {},
   "source": [
    "## Distance based validation\n",
    "We first compute the pairwise of all stops in the Zürich area, and order them by their Haversine distance which is the angular distance between two points on the surface of a sphere. As explained earlier, we are going to randomly choose several stop pairs from different distance quartiles, extreme points and compare the path outputed by our planner with the official SBB planner, with the assumptions presented earlier."
   ]
  },
  {
   "cell_type": "code",
   "execution_count": 38,
   "id": "3bea3152-bef8-4220-9c7e-f9f0a088596f",
   "metadata": {},
   "outputs": [
    {
     "data": {
      "application/vnd.jupyter.widget-view+json": {
       "model_id": "",
       "version_major": 2,
       "version_minor": 0
      },
      "text/plain": [
       "FloatProgress(value=0.0, bar_style='info', description='Progress:', layout=Layout(height='25px', width='50%'),…"
      ]
     },
     "metadata": {},
     "output_type": "display_data"
    },
    {
     "name": "stdout",
     "output_type": "stream",
     "text": [
      "Quantile 0.25: 0.0\n",
      "----------------------\n",
      "Quantile 0.5: 31648.71460268367\n",
      "----------------------\n",
      "Quantile 0.75: 31848.710981768763\n",
      "----------------------\n",
      "[('8503056', 'ringlikon', 47.3602952403085, 8.47742828687451, '8503061', 'langwies zh', 47.2960526930082, 8.69438939432526, 17844.102198839013), ('8503056', 'ringlikon', 47.3602952403085, 8.47742828687451, '8503147:0:2', 'stettbach', 47.3972125517017, 8.59614065168743, 9836.060680752431), ('8503056', 'ringlikon', 47.3602952403085, 8.47742828687451, '8503303:0:2', 'illnau', 47.4088195240113, 8.72273124154318, 19240.228583997417), ('8503056', 'ringlikon', 47.3602952403085, 8.47742828687451, '8573205:0:N', 'zürich flughafen, bahnhof', 47.4501618688915, 8.56374740253758, 11918.666352882656), ('8503056', 'ringlikon', 47.3602952403085, 8.47742828687451, '8573260', 'höri, fuhrstrasse', 47.509538772054, 8.51530125925827, 16837.83763362294), ('8503056', 'ringlikon', 47.3602952403085, 8.47742828687451, '8576131', 'volketswil, eichstrasse', 47.3947862558512, 8.68225315483512, 15892.450993160162), ('8503056', 'ringlikon', 47.3602952403085, 8.47742828687451, '8576240', 'zürich, meierhofplatz', 47.4020100860391, 8.49937412926861, 4923.996767784535), ('8503056', 'ringlikon', 47.3602952403085, 8.47742828687451, '8576242', 'zürich, grünwald', 47.4173847899242, 8.48316852154084, 6362.759485471535), ('8503056', 'ringlikon', 47.3602952403085, 8.47742828687451, '8582701', 'mettmenstetten, oberdorf', 47.2473331818188, 8.46972972488854, 12574.214156134716), ('8503056', 'ringlikon', 47.3602952403085, 8.47742828687451, '8587651:0', 'wallisellen, glatt (bus)', 47.4092086081654, 8.59554776359983, 10424.235054474591), ('8503056', 'ringlikon', 47.3602952403085, 8.47742828687451, '8588094', 'dänikon, rotflue', 47.4470029358486, 8.39710991731021, 11379.662874009346), ('8503056', 'ringlikon', 47.3602952403085, 8.47742828687451, '8590503', 'bassersdorf, chlupfgasse', 47.4446275362315, 8.62462622935083, 14514.273775531932), ('8503056', 'ringlikon', 47.3602952403085, 8.47742828687451, '8590813', 'thalwil, archstrasse', 47.2960770628697, 8.56172619314803, 9557.981290783988), ('8503056', 'ringlikon', 47.3602952403085, 8.47742828687451, '8590846', 'urdorf, schlierenstrasse', 47.3911618063527, 8.42315207740046, 5336.995302399695), ('8503056', 'ringlikon', 47.3602952403085, 8.47742828687451, '8591225', 'zürich, genossenschaftsstrasse', 47.415202572668, 8.56237298015268, 8841.40127380842), ('8503056', 'ringlikon', 47.3602952403085, 8.47742828687451, '8591240', 'zürich, lägernstrasse', 47.3959112440089, 8.53218060344922, 5716.677980332101), ('8503056', 'ringlikon', 47.3602952403085, 8.47742828687451, '8591270', 'zürich, marbachweg', 47.3303482449491, 8.51537312448101, 4388.830084632615), ('8503056', 'ringlikon', 47.3602952403085, 8.47742828687451, '8591330', 'zürich, saatlenstrasse', 47.4108074706865, 8.56286705355902, 8539.448138282283), ('8503056', 'ringlikon', 47.3602952403085, 8.47742828687451, 'Parent8502208', 'horgen oberdorf', 47.2587475534877, 8.58981651208635, 14117.32834022867), ('8503056', 'ringlikon', 47.3602952403085, 8.47742828687451, '8502208:0', 'horgen oberdorf', 47.2587475534877, 8.58981651208635, 14117.32834022867)]"
     ]
    }
   ],
   "source": [
    "%%spark\n",
    "import numpy as np\n",
    "\n",
    "from pyspark.sql import functions as F\n",
    "from pyspark.sql.window import Window\n",
    "import pickle\n",
    "\n",
    "username = \"ouerghem\"\n",
    "stops_df = spark.read.orc(f\"/user/{username}/preprocessed/pp_stops\")\n",
    "\n",
    "# Constants\n",
    "EARTH_RADIUS = 6371 * 1e3  # in meters\n",
    "\n",
    "def haversine_dist(x_lat, x_lon, y_lat, y_lon, in_radian=False):\n",
    "    \"\"\"\n",
    "    Calculate the Haversine distance between two points given their latitudes and longitudes.\n",
    "    \"\"\"\n",
    "    # Convert to radians if needed\n",
    "    if not in_radian:\n",
    "        x_lon = F.radians(x_lon)\n",
    "        x_lat = F.radians(x_lat)\n",
    "        y_lon = F.radians(y_lon)\n",
    "        y_lat = F.radians(y_lat)\n",
    "\n",
    "    sin2_lat = F.pow(F.sin(0.5 * (y_lat - x_lat)), 2)\n",
    "    sin2_lon = F.pow(F.sin(0.5 * (y_lon - x_lon)), 2)\n",
    "    cos_lat_prod = F.cos(y_lat) * F.cos(x_lat)\n",
    "\n",
    "    # Distance in meters\n",
    "    dist = 2 * EARTH_RADIUS * F.asin(F.sqrt(sin2_lat + cos_lat_prod * sin2_lon))\n",
    "    return dist\n",
    "stops_df = stops_df.filter(F.col(\"stop_name\") != \"hausen am albis, post\")\n",
    "distance_df = stops_df.alias(\"a\").crossJoin(stops_df.alias(\"b\")) \\\n",
    "    .select(\n",
    "        F.col(\"a.stop_id\").alias(\"stop_id_a\"),\n",
    "        F.col(\"a.stop_name\").alias(\"stop_name_a\"),\n",
    "        F.col(\"a.stop_lat\").alias(\"stop_lat_a\"),\n",
    "        F.col(\"a.stop_lon\").alias(\"stop_lon_a\"),\n",
    "        F.col(\"b.stop_id\").alias(\"stop_id_b\"),\n",
    "        F.col(\"b.stop_name\").alias(\"stop_name_b\"),\n",
    "        F.col(\"b.stop_lat\").alias(\"stop_lat_b\"),\n",
    "        F.col(\"b.stop_lon\").alias(\"stop_lon_b\")\n",
    "    ) \\\n",
    "    .withColumn(\"distance\", haversine_dist(\n",
    "        F.col(\"stop_lat_a\"),\n",
    "        F.col(\"stop_lon_a\"),\n",
    "        F.col(\"stop_lat_b\"),\n",
    "        F.col(\"stop_lon_b\")\n",
    "    ))\n",
    "\n",
    "window_spec = Window.partitionBy(\"stop_id_a\").orderBy(F.desc(\"distance\"))\n",
    "farthest_stops_df = distance_df.withColumn(\"rank\", F.row_number().over(window_spec)) \\\n",
    "    .filter(F.col(\"rank\") == 1) \\\n",
    "    .select(\n",
    "        F.col(\"stop_id_a\"),\n",
    "        F.col(\"stop_name_a\"),\n",
    "        F.col(\"stop_id_b\"),\n",
    "        F.col(\"stop_name_b\"),\n",
    "        F.col(\"distance\")\n",
    "    ) \\\n",
    "    .orderBy(F.desc(\"distance\"))\n",
    "\n",
    "quantiles = [0.25, 0.5, 0.75]  \n",
    "\n",
    "quantile_values = distance_df.approxQuantile(\"distance\", quantiles, 0.25)\n",
    "quantile_dataframes = []\n",
    "for i, quantile in enumerate(quantiles):\n",
    "    lower_bound = quantile_values[i-1] if i > 0 else float(\"-inf\")\n",
    "    upper_bound = quantile_values[i]\n",
    "    quantile_df = distance_df.filter((F.col(\"distance\") > lower_bound) & (F.col(\"distance\") <= upper_bound))\n",
    "    quantile_dataframes.append(quantile_df)\n",
    "    \n",
    "quantile_stop_list = []\n",
    "for i, quantile in enumerate(quantiles):\n",
    "    print(f\"Quantile {quantile}: {quantile_values[i]}\")\n",
    "    quantile_stop_list.append(quantile_dataframes[i].rdd.map(tuple).take(20))\n",
    "    print(\"----------------------\")\n",
    "    \n",
    "farthest_stops_list = farthest_stops_df.rdd.map(tuple).take(40)\n",
    "median_distance_stops = quantile_stop_list[1]\n",
    "median_distance_stops"
   ]
  },
  {
   "cell_type": "markdown",
   "id": "04ed135a-b8a6-4388-a14d-465c0cb7006f",
   "metadata": {},
   "source": [
    "### Median distanced stops"
   ]
  },
  {
   "cell_type": "code",
   "execution_count": 39,
   "id": "bf3d4bf1-65a8-4314-b8eb-31495b36064b",
   "metadata": {},
   "outputs": [],
   "source": [
    "median_stops = [('8503056', 'ringlikon', '8503061', 'langwies zh', 17844.102198839013), \n",
    "                ('8503056', 'ringlikon', '8503147:0:2', 'stettbach', 9836.060680752431), \n",
    "                ('8503056', 'ringlikon', '8503303:0:2', 'illnau', 19240.228583997417), \n",
    "                ('8503056', 'ringlikon', '8573205:0:N', 'zürich flughafen, bahnhof', 11918.666352882656), \n",
    "                ('8503056', 'ringlikon', '8573260', 'höri, fuhrstrasse', 16837.83763362294), \n",
    "                ('8503056', 'ringlikon', '8576131', 'volketswil, eichstrasse', 15892.450993160162)]"
   ]
  },
  {
   "cell_type": "markdown",
   "id": "35fcf1c2-e32c-4fab-b9ff-eabb666bf7d6",
   "metadata": {},
   "source": [
    "**Start** : Ringlikon   \n",
    "**End** : Langwies ZH     \n",
    "**Deadline Date** : 29/05/2023  8:30:00  \n",
    "**Path picking condition** : Path with the latest departure time"
   ]
  },
  {
   "cell_type": "code",
   "execution_count": 37,
   "id": "9477e3f6-0368-47f5-bd33-cbceb70cf2d2",
   "metadata": {},
   "outputs": [
    {
     "name": "stdout",
     "output_type": "stream",
     "text": [
      "set()\n",
      "('8503056:0:1', '8503056', {'trip_id': None, 'trip_headsign': None, 'route_name': None, 'transport_type': 'walk', 'transport_subtype': 'walk', 'stop_name': 'ringlikon', 'departure_time': '06:58:00', 'next_stop_name': 'ringlikon', 'next_arrival_time': None, 'next_departure_time': None, 'is_walkable': True, 'duration_s': 120.0})\n",
      "('8503055:0:1', '8503056:0:1', {'trip_id': '74.TA.91-10-A-j23-1.7.H', 'trip_headsign': 'Zürich HB SZU', 'route_name': 's10', 'transport_type': 'bus', 'transport_subtype': 'b', 'stop_name': 'ringlikon', 'departure_time': '07:00:00', 'next_stop_name': 'uitikon waldegg', 'next_arrival_time': '07:02:00', 'next_departure_time': '07:03:00', 'is_walkable': False, 'duration_s': 120.0})\n",
      "('8503054:0:1', '8503055:0:1', {'trip_id': '74.TA.91-10-A-j23-1.7.H', 'trip_headsign': 'Zürich HB SZU', 'route_name': 's10', 'transport_type': 'bus', 'transport_subtype': 'b', 'stop_name': 'uitikon waldegg', 'departure_time': '07:03:00', 'next_stop_name': 'zürich triemli', 'next_arrival_time': '07:07:00', 'next_departure_time': '07:07:00', 'is_walkable': False, 'duration_s': 240.0})\n",
      "('8503053:0:1', '8503054:0:1', {'trip_id': '17.TA.91-10-A-j23-1.1.H', 'trip_headsign': 'Zürich HB SZU', 'route_name': 's10', 'transport_type': 'bus', 'transport_subtype': 'b', 'stop_name': 'zürich triemli', 'departure_time': '07:27:00', 'next_stop_name': 'zürich schweighof', 'next_arrival_time': '07:28:00', 'next_departure_time': '07:28:00', 'is_walkable': False, 'duration_s': 60.0})\n",
      "('8503052:0:1', '8503053:0:1', {'trip_id': '17.TA.91-10-A-j23-1.1.H', 'trip_headsign': 'Zürich HB SZU', 'route_name': 's10', 'transport_type': 'bus', 'transport_subtype': 'b', 'stop_name': 'zürich schweighof', 'departure_time': '07:28:00', 'next_stop_name': 'zürich friesenberg', 'next_arrival_time': '07:29:00', 'next_departure_time': '07:29:00', 'is_walkable': False, 'duration_s': 60.0})\n",
      "('8503051:0:1', '8503052:0:1', {'trip_id': '17.TA.91-10-A-j23-1.1.H', 'trip_headsign': 'Zürich HB SZU', 'route_name': 's10', 'transport_type': 'bus', 'transport_subtype': 'b', 'stop_name': 'zürich friesenberg', 'departure_time': '07:29:00', 'next_stop_name': 'zürich binz', 'next_arrival_time': '07:31:00', 'next_departure_time': '07:32:00', 'is_walkable': False, 'duration_s': 120.0})\n",
      "('8503090:0:1', '8503051:0:1', {'trip_id': '17.TA.91-10-A-j23-1.1.H', 'trip_headsign': 'Zürich HB SZU', 'route_name': 's10', 'transport_type': 'bus', 'transport_subtype': 'b', 'stop_name': 'zürich binz', 'departure_time': '07:32:00', 'next_stop_name': 'zürich selnau', 'next_arrival_time': '07:34:00', 'next_departure_time': '07:34:00', 'is_walkable': False, 'duration_s': 120.0})\n",
      "('8591064', '8503090:0:1', {'trip_id': None, 'trip_headsign': None, 'route_name': None, 'transport_type': 'walk', 'transport_subtype': 'walk', 'stop_name': 'zürich selnau', 'departure_time': '07:36:29', 'next_stop_name': 'zürich selnau, bahnhof', 'next_arrival_time': None, 'next_departure_time': None, 'is_walkable': True, 'duration_s': 331.0})\n",
      "('8591384', '8591064', {'trip_id': '640.TA.91-8-H-j23-1.9.H', 'trip_headsign': 'Zürich, Klusplatz', 'route_name': '8', 'transport_type': 'train', 'transport_subtype': '', 'stop_name': 'zürich selnau, bahnhof', 'departure_time': '07:42:00', 'next_stop_name': 'zürich, stockerstrasse', 'next_arrival_time': '07:44:00', 'next_departure_time': '07:44:00', 'is_walkable': False, 'duration_s': 120.0})\n",
      "('8591299', '8591384', {'trip_id': '640.TA.91-8-H-j23-1.9.H', 'trip_headsign': 'Zürich, Klusplatz', 'route_name': '8', 'transport_type': 'train', 'transport_subtype': '', 'stop_name': 'zürich, stockerstrasse', 'departure_time': '07:44:00', 'next_stop_name': 'zürich, paradeplatz', 'next_arrival_time': '07:45:00', 'next_departure_time': '07:45:00', 'is_walkable': False, 'duration_s': 60.0})\n",
      "('8591093', '8591299', {'trip_id': '640.TA.91-8-H-j23-1.9.H', 'trip_headsign': 'Zürich, Klusplatz', 'route_name': '8', 'transport_type': 'train', 'transport_subtype': '', 'stop_name': 'zürich, paradeplatz', 'departure_time': '07:45:00', 'next_stop_name': 'zürich, kantonalbank', 'next_arrival_time': '07:46:00', 'next_departure_time': '07:46:00', 'is_walkable': False, 'duration_s': 60.0})\n",
      "('8591105', '8591093', {'trip_id': '640.TA.91-8-H-j23-1.9.H', 'trip_headsign': 'Zürich, Klusplatz', 'route_name': '8', 'transport_type': 'train', 'transport_subtype': '', 'stop_name': 'zürich, kantonalbank', 'departure_time': '07:46:00', 'next_stop_name': 'zürich, bürkliplatz', 'next_arrival_time': '07:48:00', 'next_departure_time': '07:48:00', 'is_walkable': False, 'duration_s': 120.0})\n",
      "('8576193', '8591105', {'trip_id': '640.TA.91-8-H-j23-1.9.H', 'trip_headsign': 'Zürich, Klusplatz', 'route_name': '8', 'transport_type': 'train', 'transport_subtype': '', 'stop_name': 'zürich, bürkliplatz', 'departure_time': '07:48:00', 'next_stop_name': 'zürich, bellevue', 'next_arrival_time': '07:50:00', 'next_departure_time': '07:50:00', 'is_walkable': False, 'duration_s': 120.0})\n",
      "('8503059', '8576193', {'trip_id': '640.TA.91-8-H-j23-1.9.H', 'trip_headsign': 'Zürich, Klusplatz', 'route_name': '8', 'transport_type': 'train', 'transport_subtype': '', 'stop_name': 'zürich, bellevue', 'departure_time': '07:50:00', 'next_stop_name': 'zürich stadelhofen, bahnhof', 'next_arrival_time': '07:51:00', 'next_departure_time': '07:52:00', 'is_walkable': False, 'duration_s': 60.0})\n",
      "('8530813', '8503059', {'trip_id': '1024.TA.91-18-A-j23-1.16.R', 'trip_headsign': 'Esslingen', 'route_name': 's18', 'transport_type': 'bus', 'transport_subtype': 'b', 'stop_name': 'zürich stadelhofen, bahnhof', 'departure_time': '07:54:00', 'next_stop_name': 'zürich, kreuzplatz', 'next_arrival_time': '07:55:00', 'next_departure_time': '07:55:00', 'is_walkable': False, 'duration_s': 60.0})\n",
      "('8530812', '8530813', {'trip_id': '1024.TA.91-18-A-j23-1.16.R', 'trip_headsign': 'Esslingen', 'route_name': 's18', 'transport_type': 'bus', 'transport_subtype': 'b', 'stop_name': 'zürich, kreuzplatz', 'departure_time': '07:55:00', 'next_stop_name': 'zürich, hegibachplatz', 'next_arrival_time': '07:57:00', 'next_departure_time': '07:57:00', 'is_walkable': False, 'duration_s': 120.0})\n",
      "('8530811', '8530812', {'trip_id': '1024.TA.91-18-A-j23-1.16.R', 'trip_headsign': 'Esslingen', 'route_name': 's18', 'transport_type': 'bus', 'transport_subtype': 'b', 'stop_name': 'zürich, hegibachplatz', 'departure_time': '07:57:00', 'next_stop_name': 'zürich, balgrist', 'next_arrival_time': '08:00:00', 'next_departure_time': '08:00:00', 'is_walkable': False, 'duration_s': 180.0})\n",
      "('8591315', '8530811', {'trip_id': '1024.TA.91-18-A-j23-1.16.R', 'trip_headsign': 'Esslingen', 'route_name': 's18', 'transport_type': 'bus', 'transport_subtype': 'b', 'stop_name': 'zürich, balgrist', 'departure_time': '08:00:00', 'next_stop_name': 'zürich, rehalp', 'next_arrival_time': '08:03:00', 'next_departure_time': '08:03:00', 'is_walkable': False, 'duration_s': 180.0})\n",
      "('8503065:0:2', '8591315', {'trip_id': '1024.TA.91-18-A-j23-1.16.R', 'trip_headsign': 'Esslingen', 'route_name': 's18', 'transport_type': 'bus', 'transport_subtype': 'b', 'stop_name': 'zürich, rehalp', 'departure_time': '08:03:00', 'next_stop_name': 'forch', 'next_arrival_time': '08:09:00', 'next_departure_time': '08:12:00', 'is_walkable': False, 'duration_s': 360.0})\n",
      "('8503064', '8503065:0:2', {'trip_id': '1024.TA.91-18-A-j23-1.16.R', 'trip_headsign': 'Esslingen', 'route_name': 's18', 'transport_type': 'bus', 'transport_subtype': 'b', 'stop_name': 'forch', 'departure_time': '08:12:00', 'next_stop_name': 'scheuren', 'next_arrival_time': '08:12:00', 'next_departure_time': '08:13:00', 'is_walkable': False, 'duration_s': 0.0})\n",
      "('8503072', '8503064', {'trip_id': '1024.TA.91-18-A-j23-1.16.R', 'trip_headsign': 'Esslingen', 'route_name': 's18', 'transport_type': 'bus', 'transport_subtype': 'b', 'stop_name': 'scheuren', 'departure_time': '08:13:00', 'next_stop_name': 'neuhaus bei hinteregg', 'next_arrival_time': '08:14:00', 'next_departure_time': '08:14:00', 'is_walkable': False, 'duration_s': 60.0})\n",
      "('8503063', '8503072', {'trip_id': '1024.TA.91-18-A-j23-1.16.R', 'trip_headsign': 'Esslingen', 'route_name': 's18', 'transport_type': 'bus', 'transport_subtype': 'b', 'stop_name': 'neuhaus bei hinteregg', 'departure_time': '08:14:00', 'next_stop_name': 'hinteregg', 'next_arrival_time': '08:16:00', 'next_departure_time': '08:17:00', 'is_walkable': False, 'duration_s': 120.0})\n",
      "('8503062', '8503063', {'trip_id': '1024.TA.91-18-A-j23-1.16.R', 'trip_headsign': 'Esslingen', 'route_name': 's18', 'transport_type': 'bus', 'transport_subtype': 'b', 'stop_name': 'hinteregg', 'departure_time': '08:17:00', 'next_stop_name': 'egg', 'next_arrival_time': '08:19:00', 'next_departure_time': '08:19:00', 'is_walkable': False, 'duration_s': 120.0})\n",
      "('8503061', '8503062', {'trip_id': '1024.TA.91-18-A-j23-1.16.R', 'trip_headsign': 'Esslingen', 'route_name': 's18', 'transport_type': 'bus', 'transport_subtype': 'b', 'stop_name': 'egg', 'departure_time': '08:19:00', 'next_stop_name': 'langwies zh', 'next_arrival_time': '08:20:00', 'next_departure_time': '08:20:00', 'is_walkable': False, 'duration_s': 60.0})\n",
      "\n",
      "---------------\n"
     ]
    },
    {
     "data": {
      "text/plain": [
       "{'egg',\n",
       " 'forch',\n",
       " 'hinteregg',\n",
       " 'langwies zh',\n",
       " 'neuhaus bei hinteregg',\n",
       " 'ringlikon',\n",
       " 'scheuren',\n",
       " 'uitikon waldegg',\n",
       " 'zürich binz',\n",
       " 'zürich friesenberg',\n",
       " 'zürich hb',\n",
       " 'zürich schweighof',\n",
       " 'zürich selnau',\n",
       " 'zürich selnau, bahnhof',\n",
       " 'zürich stadelhofen, bahnhof',\n",
       " 'zürich triemli',\n",
       " 'zürich, auzelg',\n",
       " 'zürich, balgrist',\n",
       " 'zürich, bellevue',\n",
       " 'zürich, bürkliplatz',\n",
       " 'zürich, hegibachplatz',\n",
       " 'zürich, kantonalbank',\n",
       " 'zürich, kreuzplatz',\n",
       " 'zürich, paradeplatz',\n",
       " 'zürich, rehalp',\n",
       " 'zürich, stockerstrasse'}"
      ]
     },
     "execution_count": 37,
     "metadata": {},
     "output_type": "execute_result"
    }
   ],
   "source": [
    "deadline_hr = \"8:30:00\"\n",
    "source_id, source_name, target_id, target_name, _ = median_stops[0]\n",
    "plan_route(deadline_hr, source_id, source_rp, target_id, target_rp)"
   ]
  },
  {
   "cell_type": "markdown",
   "id": "a095a236-9168-417a-a043-00501ad01898",
   "metadata": {},
   "source": [
    "**Start** :   \n",
    "**End** :   \n",
    "**Deadline Date** : 29/05/2023  16:00:00  \n",
    "**Path picking condition** : Path with the latest departure time"
   ]
  },
  {
   "cell_type": "code",
   "execution_count": null,
   "id": "385b3697-d3fa-4c90-b295-9b3370401f80",
   "metadata": {},
   "outputs": [],
   "source": [
    "deadline_hr = \"16:00:00\"\n",
    "source_id, source_name, target_id, target_name, _ = median_stops[1]\n",
    "plan_route(deadline_hr, source_id, source_rp, target_id, target_rp)"
   ]
  },
  {
   "cell_type": "markdown",
   "id": "bf6b0652-0ab9-4f4a-866f-b0043f24de64",
   "metadata": {},
   "source": [
    "### Farthest distanced stops"
   ]
  },
  {
   "cell_type": "code",
   "execution_count": 18,
   "id": "5776d94d-bc02-4388-aa53-feb1ac66240a",
   "metadata": {},
   "outputs": [],
   "source": [
    "farthest_stops = [('8572644', 'staffeln ag, gass', '8575929', 'illnau, horben', 31805.94865060654),\n",
    "('8580840', 'staffeln ag, schulhaus', '8575929', 'illnau, horben', 31754.29007937755),\n",
    "('8580846', 'bremgarten ag, kaserne', '8575929', 'illnau, horben', 31672.301820298693),\n",
    "('8503783', 'neerach, post', '8590499', 'au zh, seeguet', 31665.621728303966),\n",
    "('8573559', 'horgenberg, vorderklausen', '8573272', 'steinmaur, heitlig', 31659.006961176536),\n",
    "('8503302:0:2', 'fehraltorf', '8572567', 'künten, gried', 31648.71460268367)]"
   ]
  },
  {
   "cell_type": "markdown",
   "id": "853da910-26be-47c6-a4eb-cd19c1e4d4df",
   "metadata": {},
   "source": [
    "Based on the previous cell, we found that the two stops with the largest distance separation are Staffeln AG, Gass and Illnau, Horben. We are thus going to check the following trip :  \n",
    "**Start** : Staffeln AG, Gass  \n",
    "**End** : Illnau, Horben  \n",
    "**Deadline Date** : 29/05/2023  16:00:00  \n",
    "**Path picking condition** : Path with the latest departure time"
   ]
  },
  {
   "cell_type": "code",
   "execution_count": 17,
   "id": "6ce5acb0-47f7-478d-a4fe-000283cd6d95",
   "metadata": {
    "collapsed": true,
    "jupyter": {
     "outputs_hidden": true
    },
    "tags": []
   },
   "outputs": [
    {
     "name": "stdout",
     "output_type": "stream",
     "text": [
      "set()\n",
      "('8572645', '8572644', {'trip_id': None, 'trip_headsign': None, 'route_name': None, 'transport_type': 'walk', 'transport_subtype': 'walk', 'stop_name': 'staffeln ag, gass', 'departure_time': '13:02:26', 'next_stop_name': 'hermetschwil, kloster', 'next_arrival_time': None, 'next_departure_time': None, 'is_walkable': True, 'duration_s': 454.0})\n",
      "('8572643', '8572645', {'trip_id': '55.TA.96-170-3-j23-1.4.R', 'trip_headsign': 'Bremgarten AG, Obertorplatz', 'route_name': '339', 'transport_type': 'bus', 'transport_subtype': 'b', 'stop_name': 'hermetschwil, kloster', 'departure_time': '13:10:00', 'next_stop_name': 'bremgarten ag, west', 'next_arrival_time': '13:12:00', 'next_departure_time': '13:13:00', 'is_walkable': False, 'duration_s': 120.0})\n",
      "('8502272:0:1/2', '8572643', {'trip_id': None, 'trip_headsign': None, 'route_name': None, 'transport_type': 'walk', 'transport_subtype': 'walk', 'stop_name': 'bremgarten ag, west', 'departure_time': '13:42:41', 'next_stop_name': 'bremgarten west', 'next_arrival_time': None, 'next_departure_time': None, 'is_walkable': True, 'duration_s': 139.0})\n",
      "('8502185', '8502272:0:1/2', {'trip_id': '184.TA.91-17-A-j23-1.16.R', 'trip_headsign': 'Dietikon', 'route_name': 's17', 'transport_type': 'train', 'transport_subtype': 's', 'stop_name': 'bremgarten west', 'departure_time': '13:45:00', 'next_stop_name': 'bremgarten isenlauf', 'next_arrival_time': '13:46:00', 'next_departure_time': '13:46:00', 'is_walkable': False, 'duration_s': 60.0})\n",
      "('8502248', '8502185', {'trip_id': '184.TA.91-17-A-j23-1.16.R', 'trip_headsign': 'Dietikon', 'route_name': 's17', 'transport_type': 'train', 'transport_subtype': 's', 'stop_name': 'bremgarten isenlauf', 'departure_time': '13:46:00', 'next_stop_name': 'bremgarten obertor', 'next_arrival_time': '13:47:00', 'next_departure_time': '13:47:00', 'is_walkable': False, 'duration_s': 60.0})\n",
      "('8502273:0:1', '8502248', {'trip_id': '184.TA.91-17-A-j23-1.16.R', 'trip_headsign': 'Dietikon', 'route_name': 's17', 'transport_type': 'train', 'transport_subtype': 's', 'stop_name': 'bremgarten obertor', 'departure_time': '13:47:00', 'next_stop_name': 'bremgarten', 'next_arrival_time': '13:48:00', 'next_departure_time': '13:49:00', 'is_walkable': False, 'duration_s': 60.0})\n",
      "('8517377:0:1/2', '8502273:0:1', {'trip_id': '184.TA.91-17-A-j23-1.16.R', 'trip_headsign': 'Dietikon', 'route_name': 's17', 'transport_type': 'train', 'transport_subtype': 's', 'stop_name': 'bremgarten', 'departure_time': '13:49:00', 'next_stop_name': 'bibenlos-sonnenhof', 'next_arrival_time': '13:50:00', 'next_departure_time': '13:50:00', 'is_walkable': False, 'duration_s': 60.0})\n",
      "('8502274', '8517377:0:1/2', {'trip_id': '184.TA.91-17-A-j23-1.16.R', 'trip_headsign': 'Dietikon', 'route_name': 's17', 'transport_type': 'train', 'transport_subtype': 's', 'stop_name': 'bibenlos-sonnenhof', 'departure_time': '13:50:00', 'next_stop_name': 'zufikon', 'next_arrival_time': '13:51:00', 'next_departure_time': '13:51:00', 'is_walkable': False, 'duration_s': 60.0})\n",
      "('8502188:0:1/2', '8502274', {'trip_id': '184.TA.91-17-A-j23-1.16.R', 'trip_headsign': 'Dietikon', 'route_name': 's17', 'transport_type': 'train', 'transport_subtype': 's', 'stop_name': 'zufikon', 'departure_time': '13:51:00', 'next_stop_name': 'zufikon hammergut', 'next_arrival_time': '13:53:00', 'next_departure_time': '13:53:00', 'is_walkable': False, 'duration_s': 120.0})\n",
      "('8502275', '8502188:0:1/2', {'trip_id': '184.TA.91-17-A-j23-1.16.R', 'trip_headsign': 'Dietikon', 'route_name': 's17', 'transport_type': 'train', 'transport_subtype': 's', 'stop_name': 'zufikon hammergut', 'departure_time': '13:53:00', 'next_stop_name': 'widen heinrüti', 'next_arrival_time': '13:55:00', 'next_departure_time': '13:55:00', 'is_walkable': False, 'duration_s': 120.0})\n",
      "('8502268', '8502275', {'trip_id': '184.TA.91-17-A-j23-1.16.R', 'trip_headsign': 'Dietikon', 'route_name': 's17', 'transport_type': 'train', 'transport_subtype': 's', 'stop_name': 'widen heinrüti', 'departure_time': '13:55:00', 'next_stop_name': 'zufikon belvédère', 'next_arrival_time': '13:56:00', 'next_departure_time': '13:56:00', 'is_walkable': False, 'duration_s': 60.0})\n",
      "('8502276:0:1/2', '8502268', {'trip_id': '184.TA.91-17-A-j23-1.16.R', 'trip_headsign': 'Dietikon', 'route_name': 's17', 'transport_type': 'train', 'transport_subtype': 's', 'stop_name': 'zufikon belvédère', 'departure_time': '13:56:00', 'next_stop_name': 'berikon-widen', 'next_arrival_time': '13:58:00', 'next_departure_time': '13:59:00', 'is_walkable': False, 'duration_s': 120.0})\n",
      "('8572560', '8502276:0:1/2', {'trip_id': None, 'trip_headsign': None, 'route_name': None, 'transport_type': 'walk', 'transport_subtype': 'walk', 'stop_name': 'berikon-widen', 'departure_time': '14:00:09', 'next_stop_name': 'berikon-widen, bahnhof', 'next_arrival_time': None, 'next_departure_time': None, 'is_walkable': True, 'duration_s': 171.0})\n",
      "('8572599', '8572560', {'trip_id': '62.TA.96-165-4-j23-1.3.H', 'trip_headsign': 'Zürich Wiedikon, Bahnhof', 'route_name': '350', 'transport_type': 'train', 'transport_subtype': '', 'stop_name': 'berikon-widen, bahnhof', 'departure_time': '14:03:00', 'next_stop_name': 'berikon, kreisschule', 'next_arrival_time': '14:04:00', 'next_departure_time': '14:04:00', 'is_walkable': False, 'duration_s': 60.0})\n",
      "('8502560', '8572599', {'trip_id': '62.TA.96-165-4-j23-1.3.H', 'trip_headsign': 'Zürich Wiedikon, Bahnhof', 'route_name': '350', 'transport_type': 'train', 'transport_subtype': '', 'stop_name': 'berikon, kreisschule', 'departure_time': '14:04:00', 'next_stop_name': 'berikon, kirche', 'next_arrival_time': '14:06:00', 'next_departure_time': '14:06:00', 'is_walkable': False, 'duration_s': 120.0})\n",
      "('8580317', '8502560', {'trip_id': '62.TA.96-165-4-j23-1.3.H', 'trip_headsign': 'Zürich Wiedikon, Bahnhof', 'route_name': '350', 'transport_type': 'train', 'transport_subtype': '', 'stop_name': 'berikon, kirche', 'departure_time': '14:06:00', 'next_stop_name': 'berikon, stalden', 'next_arrival_time': '14:07:00', 'next_departure_time': '14:07:00', 'is_walkable': False, 'duration_s': 60.0})\n",
      "('8572598', '8580317', {'trip_id': '62.TA.96-165-4-j23-1.3.H', 'trip_headsign': 'Zürich Wiedikon, Bahnhof', 'route_name': '350', 'transport_type': 'train', 'transport_subtype': '', 'stop_name': 'berikon, stalden', 'departure_time': '14:07:00', 'next_stop_name': 'berikon, mattenhof', 'next_arrival_time': '14:08:00', 'next_departure_time': '14:08:00', 'is_walkable': False, 'duration_s': 60.0})\n",
      "('8581346', '8572598', {'trip_id': '62.TA.96-165-4-j23-1.3.H', 'trip_headsign': 'Zürich Wiedikon, Bahnhof', 'route_name': '350', 'transport_type': 'train', 'transport_subtype': '', 'stop_name': 'berikon, mattenhof', 'departure_time': '14:08:00', 'next_stop_name': 'oberwil-lieli, bündtenmättli', 'next_arrival_time': '14:08:00', 'next_departure_time': '14:08:00', 'is_walkable': False, 'duration_s': 0.0})\n",
      "('8502894', '8581346', {'trip_id': '62.TA.96-165-4-j23-1.3.H', 'trip_headsign': 'Zürich Wiedikon, Bahnhof', 'route_name': '350', 'transport_type': 'train', 'transport_subtype': '', 'stop_name': 'oberwil-lieli, bündtenmättli', 'departure_time': '14:08:00', 'next_stop_name': 'oberwil-lieli, dreispitz', 'next_arrival_time': '14:09:00', 'next_departure_time': '14:09:00', 'is_walkable': False, 'duration_s': 60.0})\n",
      "('8572597', '8502894', {'trip_id': '62.TA.96-165-4-j23-1.3.H', 'trip_headsign': 'Zürich Wiedikon, Bahnhof', 'route_name': '350', 'transport_type': 'train', 'transport_subtype': '', 'stop_name': 'oberwil-lieli, dreispitz', 'departure_time': '14:09:00', 'next_stop_name': 'oberwil-lieli, im moos', 'next_arrival_time': '14:10:00', 'next_departure_time': '14:10:00', 'is_walkable': False, 'duration_s': 60.0})\n",
      "('8502979', '8572597', {'trip_id': '62.TA.96-165-4-j23-1.3.H', 'trip_headsign': 'Zürich Wiedikon, Bahnhof', 'route_name': '350', 'transport_type': 'train', 'transport_subtype': '', 'stop_name': 'oberwil-lieli, im moos', 'departure_time': '14:10:00', 'next_stop_name': 'oberwil-lieli, lieli dorf', 'next_arrival_time': '14:11:00', 'next_departure_time': '14:11:00', 'is_walkable': False, 'duration_s': 60.0})\n",
      "('8572596', '8502979', {'trip_id': '62.TA.96-165-4-j23-1.3.H', 'trip_headsign': 'Zürich Wiedikon, Bahnhof', 'route_name': '350', 'transport_type': 'train', 'transport_subtype': '', 'stop_name': 'oberwil-lieli, lieli dorf', 'departure_time': '14:11:00', 'next_stop_name': 'oberwil-lieli, englisächer', 'next_arrival_time': '14:12:00', 'next_departure_time': '14:12:00', 'is_walkable': False, 'duration_s': 60.0})\n",
      "('8572595', '8572596', {'trip_id': '62.TA.96-165-4-j23-1.3.H', 'trip_headsign': 'Zürich Wiedikon, Bahnhof', 'route_name': '350', 'transport_type': 'train', 'transport_subtype': '', 'stop_name': 'oberwil-lieli, englisächer', 'departure_time': '14:12:00', 'next_stop_name': 'birmensdorf zh, altenberg', 'next_arrival_time': '14:14:00', 'next_departure_time': '14:14:00', 'is_walkable': False, 'duration_s': 120.0})\n",
      "('8502950', '8572595', {'trip_id': '62.TA.96-165-4-j23-1.3.H', 'trip_headsign': 'Zürich Wiedikon, Bahnhof', 'route_name': '350', 'transport_type': 'train', 'transport_subtype': '', 'stop_name': 'birmensdorf zh, altenberg', 'departure_time': '14:14:00', 'next_stop_name': 'birmensdorf zh, zentrum', 'next_arrival_time': '14:17:00', 'next_departure_time': '14:17:00', 'is_walkable': False, 'duration_s': 180.0})\n",
      "('8583870:0:E', '8502950', {'trip_id': '62.TA.96-165-4-j23-1.3.H', 'trip_headsign': 'Zürich Wiedikon, Bahnhof', 'route_name': '350', 'transport_type': 'train', 'transport_subtype': '', 'stop_name': 'birmensdorf zh, zentrum', 'departure_time': '14:17:00', 'next_stop_name': 'birmensdorf zh, bahnhof süd', 'next_arrival_time': '14:19:00', 'next_departure_time': '14:19:00', 'is_walkable': False, 'duration_s': 120.0})\n",
      "('8502221:0:2', '8583870:0:E', {'trip_id': None, 'trip_headsign': None, 'route_name': None, 'transport_type': 'walk', 'transport_subtype': 'walk', 'stop_name': 'birmensdorf zh, bahnhof süd', 'departure_time': '14:22:00', 'next_stop_name': 'birmensdorf zh', 'next_arrival_time': None, 'next_departure_time': None, 'is_walkable': True, 'duration_s': 180.0})\n",
      "('8502229:0:2', '8502221:0:2', {'trip_id': '268.TA.91-14-C-j23-1.97.R', 'trip_headsign': 'Hinwil', 'route_name': 's14', 'transport_type': 'train', 'transport_subtype': 's', 'stop_name': 'birmensdorf zh', 'departure_time': '14:25:00', 'next_stop_name': 'urdorf weihermatt', 'next_arrival_time': '14:27:00', 'next_departure_time': '14:27:00', 'is_walkable': False, 'duration_s': 120.0})\n",
      "('8502220:0:2', '8502229:0:2', {'trip_id': '268.TA.91-14-C-j23-1.97.R', 'trip_headsign': 'Hinwil', 'route_name': 's14', 'transport_type': 'train', 'transport_subtype': 's', 'stop_name': 'urdorf weihermatt', 'departure_time': '14:27:00', 'next_stop_name': 'urdorf', 'next_arrival_time': '14:29:00', 'next_departure_time': '14:29:00', 'is_walkable': False, 'duration_s': 120.0})\n",
      "('8503001:0:4', '8502220:0:2', {'trip_id': '268.TA.91-14-C-j23-1.97.R', 'trip_headsign': 'Hinwil', 'route_name': 's14', 'transport_type': 'train', 'transport_subtype': 's', 'stop_name': 'urdorf', 'departure_time': '14:29:00', 'next_stop_name': 'zürich altstetten', 'next_arrival_time': '14:35:00', 'next_departure_time': '14:35:00', 'is_walkable': False, 'duration_s': 360.0})\n",
      "('8503000:0:34', '8503001:0:4', {'trip_id': '268.TA.91-14-C-j23-1.97.R', 'trip_headsign': 'Hinwil', 'route_name': 's14', 'transport_type': 'train', 'transport_subtype': 's', 'stop_name': 'zürich altstetten', 'departure_time': '14:35:00', 'next_stop_name': 'zürich hb', 'next_arrival_time': '14:40:00', 'next_departure_time': '14:42:00', 'is_walkable': False, 'duration_s': 300.0})\n",
      "('8503000:0:3', '8503000:0:34', {'trip_id': None, 'trip_headsign': None, 'route_name': None, 'transport_type': 'walk', 'transport_subtype': 'walk', 'stop_name': 'zürich hb', 'departure_time': '14:42:00', 'next_stop_name': 'zürich hb', 'next_arrival_time': None, 'next_departure_time': None, 'is_walkable': True, 'duration_s': 120.0})\n",
      "('8503015:0:1', '8503000:0:3', {'trip_id': '648.TA.91-24-j23-1.255.R', 'trip_headsign': 'Schaffhausen', 'route_name': 's24', 'transport_type': 'bus', 'transport_subtype': 'b', 'stop_name': 'zürich hb', 'departure_time': '14:44:00', 'next_stop_name': 'zürich wipkingen', 'next_arrival_time': '14:47:00', 'next_departure_time': '14:47:00', 'is_walkable': False, 'duration_s': 180.0})\n",
      "('8503006:0:6', '8503015:0:1', {'trip_id': '648.TA.91-24-j23-1.255.R', 'trip_headsign': 'Schaffhausen', 'route_name': 's24', 'transport_type': 'bus', 'transport_subtype': 'b', 'stop_name': 'zürich wipkingen', 'departure_time': '14:47:00', 'next_stop_name': 'zürich oerlikon', 'next_arrival_time': '14:51:00', 'next_departure_time': '14:52:00', 'is_walkable': False, 'duration_s': 240.0})\n",
      "('8503016:0:2', '8503006:0:6', {'trip_id': '648.TA.91-24-j23-1.255.R', 'trip_headsign': 'Schaffhausen', 'route_name': 's24', 'transport_type': 'bus', 'transport_subtype': 'b', 'stop_name': 'zürich oerlikon', 'departure_time': '14:52:00', 'next_stop_name': 'zürich flughafen', 'next_arrival_time': '14:56:00', 'next_departure_time': '14:57:00', 'is_walkable': False, 'duration_s': 240.0})\n",
      "('8503307:0:2', '8503016:0:2', {'trip_id': '648.TA.91-24-j23-1.255.R', 'trip_headsign': 'Schaffhausen', 'route_name': 's24', 'transport_type': 'bus', 'transport_subtype': 'b', 'stop_name': 'zürich flughafen', 'departure_time': '14:57:00', 'next_stop_name': 'bassersdorf', 'next_arrival_time': '15:01:00', 'next_departure_time': '15:01:00', 'is_walkable': False, 'duration_s': 240.0})\n",
      "('8503305:0:2', '8503307:0:2', {'trip_id': '648.TA.91-24-j23-1.255.R', 'trip_headsign': 'Schaffhausen', 'route_name': 's24', 'transport_type': 'bus', 'transport_subtype': 'b', 'stop_name': 'bassersdorf', 'departure_time': '15:01:00', 'next_stop_name': 'effretikon', 'next_arrival_time': '15:06:00', 'next_departure_time': '15:08:00', 'is_walkable': False, 'duration_s': 300.0})\n",
      "('8575918:0:D', '8503305:0:2', {'trip_id': None, 'trip_headsign': None, 'route_name': None, 'transport_type': 'walk', 'transport_subtype': 'walk', 'stop_name': 'effretikon', 'departure_time': '15:08:18', 'next_stop_name': 'effretikon, bahnhof', 'next_arrival_time': None, 'next_departure_time': None, 'is_walkable': True, 'duration_s': 222.0})\n",
      "('8575919', '8575918:0:D', {'trip_id': '270.TA.92-652-j23-1.11.R', 'trip_headsign': 'Illnau, Bahnhof', 'route_name': '652', 'transport_type': 'bus', 'transport_subtype': 'b', 'stop_name': 'effretikon, bahnhof', 'departure_time': '15:12:00', 'next_stop_name': 'effretikon, zentrum', 'next_arrival_time': '15:12:00', 'next_departure_time': '15:13:00', 'is_walkable': False, 'duration_s': 0.0})\n",
      "('8503372', '8575919', {'trip_id': '270.TA.92-652-j23-1.11.R', 'trip_headsign': 'Illnau, Bahnhof', 'route_name': '652', 'transport_type': 'bus', 'transport_subtype': 'b', 'stop_name': 'effretikon, zentrum', 'departure_time': '15:13:00', 'next_stop_name': 'effretikon, wattspitz', 'next_arrival_time': '15:14:00', 'next_departure_time': '15:14:00', 'is_walkable': False, 'duration_s': 60.0})\n",
      "('8575920', '8503372', {'trip_id': '270.TA.92-652-j23-1.11.R', 'trip_headsign': 'Illnau, Bahnhof', 'route_name': '652', 'transport_type': 'bus', 'transport_subtype': 'b', 'stop_name': 'effretikon, wattspitz', 'departure_time': '15:14:00', 'next_stop_name': 'effretikon, müselacher', 'next_arrival_time': '15:15:00', 'next_departure_time': '15:16:00', 'is_walkable': False, 'duration_s': 60.0})\n",
      "('8575921', '8575920', {'trip_id': '270.TA.92-652-j23-1.11.R', 'trip_headsign': 'Illnau, Bahnhof', 'route_name': '652', 'transport_type': 'bus', 'transport_subtype': 'b', 'stop_name': 'effretikon, müselacher', 'departure_time': '15:16:00', 'next_stop_name': 'effretikon, lindenwiese', 'next_arrival_time': '15:17:00', 'next_departure_time': '15:17:00', 'is_walkable': False, 'duration_s': 60.0})\n",
      "('8503370', '8575921', {'trip_id': '270.TA.92-652-j23-1.11.R', 'trip_headsign': 'Illnau, Bahnhof', 'route_name': '652', 'transport_type': 'bus', 'transport_subtype': 'b', 'stop_name': 'effretikon, lindenwiese', 'departure_time': '15:17:00', 'next_stop_name': 'effretikon, eselriet', 'next_arrival_time': '15:18:00', 'next_departure_time': '15:18:00', 'is_walkable': False, 'duration_s': 60.0})\n",
      "('8575923', '8503370', {'trip_id': '270.TA.92-652-j23-1.11.R', 'trip_headsign': 'Illnau, Bahnhof', 'route_name': '652', 'transport_type': 'bus', 'transport_subtype': 'b', 'stop_name': 'effretikon, eselriet', 'departure_time': '15:18:00', 'next_stop_name': 'illnau, kirche', 'next_arrival_time': '15:20:00', 'next_departure_time': '15:20:00', 'is_walkable': False, 'duration_s': 120.0})\n",
      "('8575924', '8575923', {'trip_id': '270.TA.92-652-j23-1.11.R', 'trip_headsign': 'Illnau, Bahnhof', 'route_name': '652', 'transport_type': 'bus', 'transport_subtype': 'b', 'stop_name': 'illnau, kirche', 'departure_time': '15:20:00', 'next_stop_name': 'illnau, steinacher', 'next_arrival_time': '15:21:00', 'next_departure_time': '15:21:00', 'is_walkable': False, 'duration_s': 60.0})\n",
      "('8575925', '8575924', {'trip_id': '270.TA.92-652-j23-1.11.R', 'trip_headsign': 'Illnau, Bahnhof', 'route_name': '652', 'transport_type': 'bus', 'transport_subtype': 'b', 'stop_name': 'illnau, steinacher', 'departure_time': '15:21:00', 'next_stop_name': 'illnau, wingert', 'next_arrival_time': '15:22:00', 'next_departure_time': '15:22:00', 'is_walkable': False, 'duration_s': 60.0})\n",
      "('8575926', '8575925', {'trip_id': '270.TA.92-652-j23-1.11.R', 'trip_headsign': 'Illnau, Bahnhof', 'route_name': '652', 'transport_type': 'bus', 'transport_subtype': 'b', 'stop_name': 'illnau, wingert', 'departure_time': '15:22:00', 'next_stop_name': 'illnau, chrummenacher', 'next_arrival_time': '15:24:00', 'next_departure_time': '15:25:00', 'is_walkable': False, 'duration_s': 120.0})\n",
      "('8575927', '8575926', {'trip_id': '270.TA.92-652-j23-1.11.R', 'trip_headsign': 'Illnau, Bahnhof', 'route_name': '652', 'transport_type': 'bus', 'transport_subtype': 'b', 'stop_name': 'illnau, chrummenacher', 'departure_time': '15:25:00', 'next_stop_name': 'illnau, bahnhof', 'next_arrival_time': '15:27:00', 'next_departure_time': '15:27:00', 'is_walkable': False, 'duration_s': 120.0})\n",
      "('8594339', '8575927', {'trip_id': '82.TA.92-640-j23-1.4.R', 'trip_headsign': 'Neschwil, Post', 'route_name': '640', 'transport_type': 'bus', 'transport_subtype': 'b', 'stop_name': 'illnau, bahnhof', 'departure_time': '15:29:00', 'next_stop_name': 'illnau, dorfplatz', 'next_arrival_time': '15:29:00', 'next_departure_time': '15:29:00', 'is_walkable': False, 'duration_s': 0.0})\n",
      "('8503382', '8594339', {'trip_id': '82.TA.92-640-j23-1.4.R', 'trip_headsign': 'Neschwil, Post', 'route_name': '640', 'transport_type': 'bus', 'transport_subtype': 'b', 'stop_name': 'illnau, dorfplatz', 'departure_time': '15:29:00', 'next_stop_name': 'illnau, weisslingerstrasse', 'next_arrival_time': '15:30:00', 'next_departure_time': '15:30:00', 'is_walkable': False, 'duration_s': 60.0})\n",
      "('8575929', '8503382', {'trip_id': '82.TA.92-640-j23-1.4.R', 'trip_headsign': 'Neschwil, Post', 'route_name': '640', 'transport_type': 'bus', 'transport_subtype': 'b', 'stop_name': 'illnau, weisslingerstrasse', 'departure_time': '15:30:00', 'next_stop_name': 'illnau, horben', 'next_arrival_time': '15:33:00', 'next_departure_time': '15:33:00', 'is_walkable': False, 'duration_s': 180.0})\n",
      "\n",
      "---------------\n"
     ]
    },
    {
     "data": {
      "text/plain": [
       "{'bassersdorf',\n",
       " 'berikon, kirche',\n",
       " 'berikon, kreisschule',\n",
       " 'berikon, mattenhof',\n",
       " 'berikon, stalden',\n",
       " 'berikon-widen',\n",
       " 'berikon-widen, bahnhof',\n",
       " 'bibenlos-sonnenhof',\n",
       " 'birmensdorf zh',\n",
       " 'birmensdorf zh, altenberg',\n",
       " 'birmensdorf zh, bahnhof süd',\n",
       " 'birmensdorf zh, zentrum',\n",
       " 'bremgarten',\n",
       " 'bremgarten ag, west',\n",
       " 'bremgarten isenlauf',\n",
       " 'bremgarten obertor',\n",
       " 'bremgarten west',\n",
       " 'effretikon',\n",
       " 'effretikon, bahnhof',\n",
       " 'effretikon, eselriet',\n",
       " 'effretikon, lindenwiese',\n",
       " 'effretikon, müselacher',\n",
       " 'effretikon, wattspitz',\n",
       " 'effretikon, zentrum',\n",
       " 'hermetschwil, kloster',\n",
       " 'illnau, bahnhof',\n",
       " 'illnau, chrummenacher',\n",
       " 'illnau, dorfplatz',\n",
       " 'illnau, horben',\n",
       " 'illnau, kirche',\n",
       " 'illnau, steinacher',\n",
       " 'illnau, weisslingerstrasse',\n",
       " 'illnau, wingert',\n",
       " 'kloten, kaserne ost',\n",
       " 'oberwil-lieli, bündtenmättli',\n",
       " 'oberwil-lieli, dreispitz',\n",
       " 'oberwil-lieli, englisächer',\n",
       " 'oberwil-lieli, im moos',\n",
       " 'oberwil-lieli, lieli dorf',\n",
       " 'staffeln ag, gass',\n",
       " 'urdorf',\n",
       " 'urdorf weihermatt',\n",
       " 'widen heinrüti',\n",
       " 'zufikon',\n",
       " 'zufikon belvédère',\n",
       " 'zufikon hammergut',\n",
       " 'zürich altstetten',\n",
       " 'zürich flughafen',\n",
       " 'zürich hb',\n",
       " 'zürich oerlikon',\n",
       " 'zürich wipkingen'}"
      ]
     },
     "execution_count": 17,
     "metadata": {},
     "output_type": "execute_result"
    }
   ],
   "source": [
    "deadline_hr = \"16:00:00\"\n",
    "source_id, source_name, target_id, target_name, _ = farthest_stops[0]\n",
    "plan_route(deadline_hr, source_id, source_rp, target_id, target_rp)"
   ]
  },
  {
   "cell_type": "markdown",
   "id": "d8743e2b-291e-4ab0-8c6e-cba5ad36347e",
   "metadata": {},
   "source": [
    "In this example, we get a pretty similar path with a small difference in the start of the travel \n",
    "\n",
    "![Staffeln AG -> Illnau, Horben](./validation_images/staffeln_ag.png)\n",
    "![Staffeln AG -> Illnau, Horben](./validation_images/staffeln_ag_2.png)"
   ]
  }
 ],
 "metadata": {
  "kernelspec": {
   "display_name": "Python 3 (ipykernel)",
   "language": "python",
   "name": "python3"
  },
  "language_info": {
   "codemirror_mode": {
    "name": "ipython",
    "version": 3
   },
   "file_extension": ".py",
   "mimetype": "text/x-python",
   "name": "python",
   "nbconvert_exporter": "python",
   "pygments_lexer": "ipython3",
   "version": "3.9.12"
  }
 },
 "nbformat": 4,
 "nbformat_minor": 5
}
