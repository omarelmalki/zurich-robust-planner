{
 "cells": [
  {
   "cell_type": "markdown",
   "id": "cc72d553-fe1e-4871-95ae-6f7f187d7eb5",
   "metadata": {},
   "source": [
    "## Routes (file: routes.txt) - Data Exploration"
   ]
  },
  {
   "cell_type": "code",
   "execution_count": 17,
   "id": "24b6607f-76a3-4ddd-b477-0c0b7bfabe7c",
   "metadata": {},
   "outputs": [
    {
     "name": "stdout",
     "output_type": "stream",
     "text": [
      "your username is boukil\n",
      "you are connected to iccluster044.iccluster.epfl.ch:10000\n"
     ]
    }
   ],
   "source": [
    "\"\"\"\n",
    "import os\n",
    "from pyhive import hive\n",
    "\n",
    "# Set python variables from environment variables\n",
    "username = os.environ['USERNAME']\n",
    "hive_host = os.environ['HIVE_SERVER2'].split(':')[0]\n",
    "hive_port = os.environ['HIVE_SERVER2'].split(':')[1]\n",
    "\n",
    "# create connection\n",
    "conn = hive.connect(\n",
    "    host=hive_host,\n",
    "    port=hive_port\n",
    ")\n",
    "\n",
    "# create cursor\n",
    "cur = conn.cursor()\n",
    "\n",
    "print(f\"your username is {username}\")\n",
    "print(f\"you are connected to {hive_host}:{hive_port}\")\n",
    "\"\"\""
   ]
  },
  {
   "cell_type": "markdown",
   "id": "4a0fce24-3f75-49d3-8f34-9748c0eed67b",
   "metadata": {},
   "source": [
    "### ATTRIBUTES KEPT + DESCRIPTION\n",
    "\n",
    "- route_id \n",
    "- route_desc: type of the route (is it a bus route, a tgv route...etc)\n",
    "- route_name"
   ]
  },
  {
   "cell_type": "code",
   "execution_count": 113,
   "id": "ebae5921-cf38-4175-a4e3-e2687e021a2e",
   "metadata": {},
   "outputs": [],
   "source": [
    "import pandas as pd\n",
    "pd.options.display.max_rows = 10\n",
    "pd.options.mode.use_inf_as_na = True"
   ]
  },
  {
   "cell_type": "code",
   "execution_count": 114,
   "id": "81490a7c-a6ff-4510-9a35-38f58f8242fd",
   "metadata": {},
   "outputs": [],
   "source": [
    "filepath = \"routes.txt\"\n",
    "df = pd.read_csv(filepath)"
   ]
  },
  {
   "cell_type": "code",
   "execution_count": 115,
   "id": "9a1664e9-09aa-41f7-beaf-9de93dc9f3cf",
   "metadata": {},
   "outputs": [],
   "source": [
    "# ACTION TAKEN\n",
    "df = df.convert_dtypes()"
   ]
  },
  {
   "cell_type": "code",
   "execution_count": 116,
   "id": "202973d2-ba7f-4bf4-83d7-80bb28154e08",
   "metadata": {},
   "outputs": [
    {
     "data": {
      "text/html": [
       "<div>\n",
       "<style scoped>\n",
       "    .dataframe tbody tr th:only-of-type {\n",
       "        vertical-align: middle;\n",
       "    }\n",
       "\n",
       "    .dataframe tbody tr th {\n",
       "        vertical-align: top;\n",
       "    }\n",
       "\n",
       "    .dataframe thead th {\n",
       "        text-align: right;\n",
       "    }\n",
       "</style>\n",
       "<table border=\"1\" class=\"dataframe\">\n",
       "  <thead>\n",
       "    <tr style=\"text-align: right;\">\n",
       "      <th></th>\n",
       "      <th>route_id</th>\n",
       "      <th>agency_id</th>\n",
       "      <th>route_short_name</th>\n",
       "      <th>route_long_name</th>\n",
       "      <th>route_desc</th>\n",
       "      <th>route_type</th>\n",
       "    </tr>\n",
       "  </thead>\n",
       "  <tbody>\n",
       "    <tr>\n",
       "      <th>0</th>\n",
       "      <td>10-25-j20-1</td>\n",
       "      <td>11</td>\n",
       "      <td>25</td>\n",
       "      <td>&lt;NA&gt;</td>\n",
       "      <td>S-Bahn</td>\n",
       "      <td>400</td>\n",
       "    </tr>\n",
       "    <tr>\n",
       "      <th>1</th>\n",
       "      <td>10-27-j20-1</td>\n",
       "      <td>82</td>\n",
       "      <td>27</td>\n",
       "      <td>&lt;NA&gt;</td>\n",
       "      <td>S-Bahn</td>\n",
       "      <td>400</td>\n",
       "    </tr>\n",
       "    <tr>\n",
       "      <th>2</th>\n",
       "      <td>10-501-j20-1</td>\n",
       "      <td>801</td>\n",
       "      <td>501</td>\n",
       "      <td>&lt;NA&gt;</td>\n",
       "      <td>Bus</td>\n",
       "      <td>700</td>\n",
       "    </tr>\n",
       "    <tr>\n",
       "      <th>3</th>\n",
       "      <td>10-502-j20-1</td>\n",
       "      <td>801</td>\n",
       "      <td>502</td>\n",
       "      <td>&lt;NA&gt;</td>\n",
       "      <td>Bus</td>\n",
       "      <td>700</td>\n",
       "    </tr>\n",
       "    <tr>\n",
       "      <th>4</th>\n",
       "      <td>10-503-j20-1</td>\n",
       "      <td>801</td>\n",
       "      <td>503</td>\n",
       "      <td>&lt;NA&gt;</td>\n",
       "      <td>Bus</td>\n",
       "      <td>700</td>\n",
       "    </tr>\n",
       "  </tbody>\n",
       "</table>\n",
       "</div>"
      ],
      "text/plain": [
       "       route_id agency_id route_short_name  route_long_name route_desc  \\\n",
       "0   10-25-j20-1        11               25             <NA>     S-Bahn   \n",
       "1   10-27-j20-1        82               27             <NA>     S-Bahn   \n",
       "2  10-501-j20-1       801              501             <NA>        Bus   \n",
       "3  10-502-j20-1       801              502             <NA>        Bus   \n",
       "4  10-503-j20-1       801              503             <NA>        Bus   \n",
       "\n",
       "   route_type  \n",
       "0         400  \n",
       "1         400  \n",
       "2         700  \n",
       "3         700  \n",
       "4         700  "
      ]
     },
     "execution_count": 116,
     "metadata": {},
     "output_type": "execute_result"
    }
   ],
   "source": [
    "df.head()"
   ]
  },
  {
   "cell_type": "code",
   "execution_count": 117,
   "id": "4fb970b1-c823-471b-b87f-602060417c5e",
   "metadata": {},
   "outputs": [
    {
     "data": {
      "text/plain": [
       "route_id            string\n",
       "agency_id           string\n",
       "route_short_name    string\n",
       "route_long_name      Int64\n",
       "route_desc          string\n",
       "route_type           Int64\n",
       "dtype: object"
      ]
     },
     "execution_count": 117,
     "metadata": {},
     "output_type": "execute_result"
    }
   ],
   "source": [
    "df.dtypes"
   ]
  },
  {
   "cell_type": "code",
   "execution_count": 118,
   "id": "964c30a0-9648-4471-a313-fb620171709d",
   "metadata": {},
   "outputs": [
    {
     "name": "stdout",
     "output_type": "stream",
     "text": [
      "Number of rows: 5877\n"
     ]
    }
   ],
   "source": [
    "print(f\"Number of rows: {len(df)}\")"
   ]
  },
  {
   "cell_type": "code",
   "execution_count": 119,
   "id": "b3ce8e28-bee0-440f-9ad6-c75adccbd93d",
   "metadata": {},
   "outputs": [
    {
     "name": "stdout",
     "output_type": "stream",
     "text": [
      "Contains NA (or equivalent) values?\n",
      "\troute_id: False\n",
      "\tagency_id: False\n",
      "\troute_short_name: False\n",
      "\troute_long_name: True\n",
      "\troute_desc: False\n",
      "\troute_type: False\n"
     ]
    }
   ],
   "source": [
    "print(\"Contains NA (or equivalent) values?\")\n",
    "for col in df.columns:\n",
    "    print(f\"\\t{col}: {getattr(df, col).isna().any()}\")"
   ]
  },
  {
   "cell_type": "code",
   "execution_count": 120,
   "id": "8634ef8c-2699-4b9c-8023-44edf3b76dc3",
   "metadata": {},
   "outputs": [
    {
     "name": "stdout",
     "output_type": "stream",
     "text": [
      "Is only NA (or equivalent) values?\n",
      "\troute_id: False\n",
      "\tagency_id: False\n",
      "\troute_short_name: False\n",
      "\troute_long_name: True\n",
      "\troute_desc: False\n",
      "\troute_type: False\n"
     ]
    }
   ],
   "source": [
    "print(\"Is only NA (or equivalent) values?\")\n",
    "for col in df.columns:\n",
    "    print(f\"\\t{col}: {getattr(df, col).isna().all()}\")"
   ]
  },
  {
   "cell_type": "code",
   "execution_count": 121,
   "id": "99ad1444-fd5e-4a2b-990a-bc38fc80b3de",
   "metadata": {},
   "outputs": [],
   "source": [
    "# ACTION TAKEN\n",
    "df = df.drop(columns=[\"route_long_name\"]).rename(columns={\"route_short_name\": \"route_name\"})"
   ]
  },
  {
   "cell_type": "code",
   "execution_count": 122,
   "id": "fa7d5490-7c50-4555-b7bd-7f332f7c7c96",
   "metadata": {},
   "outputs": [
    {
     "name": "stdout",
     "output_type": "stream",
     "text": [
      "Unique values ?\n",
      "\troute_id: True\n",
      "\tagency_id: False\n",
      "\troute_name: False\n",
      "\troute_desc: False\n",
      "\troute_type: False\n"
     ]
    }
   ],
   "source": [
    "print(\"Unique values ?\")\n",
    "for col in df.columns:\n",
    "    print(f\"\\t{col}: {len(getattr(df, col)) == len(getattr(df, col).unique())}\")"
   ]
  },
  {
   "cell_type": "code",
   "execution_count": 123,
   "id": "9c84dc27-dee7-4454-b3f2-f980f103a8ca",
   "metadata": {},
   "outputs": [
    {
     "name": "stdout",
     "output_type": "stream",
     "text": [
      "Top 10 most recurrent values for each column? (except the ID column since the values are unique)\n",
      "\tagency_id: ['801', '11', '87_LEX', '7000', '72', '06____', '693', 'sbg034', '834', '881']\n",
      "\troute_name: ['1', '3', '2', '5', '6', '4', '8', '7', '9', '12']\n",
      "\troute_desc: ['Bus', 'S-Bahn', 'Luftseilbahn', 'RegioExpress', 'Regionalzug', 'TGV', 'Schiff', 'InterRegio', 'Drahtseilbahn', 'Sesselbahn']\n",
      "\troute_type: [700, 1300, 106, 400, 102, 1000, 103, 100, 1400, 1501]\n"
     ]
    }
   ],
   "source": [
    "print(\"Top 10 most recurrent values for each column? (except the ID column since the values are unique)\")\n",
    "for col in df.columns[1:]:\n",
    "    print(f\"\\t{col}: {getattr(df, col).value_counts().sort_values(ascending=False)[:10].index.tolist()}\")"
   ]
  },
  {
   "cell_type": "code",
   "execution_count": 124,
   "id": "bf1e91e3-96ee-497d-8b3d-b84a520a94d8",
   "metadata": {},
   "outputs": [],
   "source": [
    "# ACTION TAKEN\n",
    "df = df.drop(columns=[\"agency_id\", \"route_type\"])\n",
    "df[\"route_desc\"] = df.route_desc.apply(lambda x: x.lower())"
   ]
  },
  {
   "cell_type": "code",
   "execution_count": 125,
   "id": "5f6b6888-742a-4328-bd1d-3345c1b49e95",
   "metadata": {},
   "outputs": [
    {
     "name": "stdout",
     "output_type": "stream",
     "text": [
      "Unique route descriptions:\n",
      "\t['s-bahn', 'bus', 'intercity', 'taxi', 'regioexpress', 'interregio', 'schnelles nachtnetz', 'standseilbahn', 'expressbus', 'extrazug', 'regionalzug', 'metro', 'schiff', 'tram', 'luftseilbahn', 'panoramabus', 'eurocity', 'en', 'ice', 'tgv', 'drahtseilbahn', 'sesselbahn', 'ter200', 'auoreisezug', 'panoramaexpress', 'aufzug', 'fähre', 'zahnradbahn']\n"
     ]
    }
   ],
   "source": [
    "print(f\"Unique route descriptions:\\n\\t{df.route_desc.unique().tolist()}\")"
   ]
  }
 ],
 "metadata": {
  "kernelspec": {
   "display_name": "Python 3 (ipykernel)",
   "language": "python",
   "name": "python3"
  },
  "language_info": {
   "codemirror_mode": {
    "name": "ipython",
    "version": 3
   },
   "file_extension": ".py",
   "mimetype": "text/x-python",
   "name": "python",
   "nbconvert_exporter": "python",
   "pygments_lexer": "ipython3",
   "version": "3.9.12"
  }
 },
 "nbformat": 4,
 "nbformat_minor": 5
}
