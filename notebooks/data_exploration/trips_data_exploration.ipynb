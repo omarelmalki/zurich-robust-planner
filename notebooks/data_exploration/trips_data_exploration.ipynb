{
 "cells": [
  {
   "cell_type": "code",
   "execution_count": null,
   "id": "da8f68c5-5280-45f3-aaea-f2bd0b7ff798",
   "metadata": {},
   "outputs": [],
   "source": [
    "import os\n",
    "from pyhive import hive\n",
    "\n",
    "# Set python variables from environment variables\n",
    "username = os.environ['USERNAME']\n",
    "hive_host = os.environ['HIVE_SERVER2'].split(':')[0]\n",
    "hive_port = os.environ['HIVE_SERVER2'].split(':')[1]\n",
    "\n",
    "# create connection\n",
    "conn = hive.connect(\n",
    "    host=hive_host,\n",
    "    port=hive_port\n",
    ")\n",
    "\n",
    "# create cursor\n",
    "cur = conn.cursor()\n",
    "\n",
    "print(f\"your username is {username}\")\n",
    "print(f\"you are connected to {hive_host}:{hive_port}\")"
   ]
  },
  {
   "cell_type": "code",
   "execution_count": null,
   "id": "11ae71be-94db-4cda-b717-6f904c11d30f",
   "metadata": {},
   "outputs": [],
   "source": [
    "import os\n",
    "import pandas as pd\n",
    "pd.set_option(\"display.max_columns\", 50)\n",
    "import matplotlib.pyplot as plt\n",
    "import warnings\n",
    "import plotly.express as px\n",
    "import plotly.graph_objects as go\n",
    "warnings.simplefilter(action='ignore', category=UserWarning)"
   ]
  },
  {
   "cell_type": "code",
   "execution_count": null,
   "id": "6dd0bd18-82f3-46e1-9315-f75fda8ef84c",
   "metadata": {},
   "outputs": [],
   "source": [
    "query = \"\"\"\n",
    "    create external table trips \n",
    "\"\"\"\n",
    "df = cur.exec(query)"
   ]
  },
  {
   "cell_type": "markdown",
   "id": "fb8698b7-9506-452d-88cf-04a83ee118cd",
   "metadata": {},
   "source": [
    "## Attributes \n",
    "\n",
    "* route_id \n",
    "* service_id\n",
    "* trip_id \n",
    "* direction_id \n",
    "* trip_headsign\n",
    "* trip_short_name"
   ]
  },
  {
   "cell_type": "code",
   "execution_count": null,
   "id": "0889e366-1fe2-4ce0-afad-c94384a2e81a",
   "metadata": {},
   "outputs": [],
   "source": [
    "df.head(2)"
   ]
  },
  {
   "cell_type": "code",
   "execution_count": null,
   "id": "070a0ea8-152f-4b0a-b45b-25dc1e6766ac",
   "metadata": {},
   "outputs": [],
   "source": [
    "df.dtypes"
   ]
  },
  {
   "cell_type": "code",
   "execution_count": null,
   "id": "6ef606b3-7a7c-4d79-9e57-cd9d87063e50",
   "metadata": {},
   "outputs": [],
   "source": [
    "df['trip_headsign'].unique()"
   ]
  },
  {
   "cell_type": "code",
   "execution_count": null,
   "id": "429403c9-9e63-4e2e-94eb-8ce271d91274",
   "metadata": {},
   "outputs": [],
   "source": [
    "\n",
    "df.nunique() "
   ]
  },
  {
   "cell_type": "code",
   "execution_count": null,
   "id": "9f6c8686-89fa-4408-8946-f0746e4b4368",
   "metadata": {},
   "outputs": [],
   "source": [
    "print(\"Contains NA (or equivalent) values?\")\n",
    "for col in df.columns:\n",
    "    print(f\"\\t{col}: {getattr(df, col).isna().any()}\")"
   ]
  },
  {
   "cell_type": "code",
   "execution_count": null,
   "id": "af9e0f14-5353-4775-b822-f8958d40c501",
   "metadata": {},
   "outputs": [],
   "source": [
    "print(\"Top 10 most recurrent values for each column?\")\n",
    "for col in df.columns[:-1]:\n",
    "    print(f\"\\t{col}: {getattr(df, col).value_counts().sort_values(ascending=False)[:10].index.tolist()}\")"
   ]
  }
 ],
 "metadata": {
  "kernelspec": {
   "display_name": "Python 3 (ipykernel)",
   "language": "python",
   "name": "python3"
  },
  "language_info": {
   "codemirror_mode": {
    "name": "ipython",
    "version": 3
   },
   "file_extension": ".py",
   "mimetype": "text/x-python",
   "name": "python",
   "nbconvert_exporter": "python",
   "pygments_lexer": "ipython3",
   "version": "3.9.12"
  }
 },
 "nbformat": 4,
 "nbformat_minor": 5
}
