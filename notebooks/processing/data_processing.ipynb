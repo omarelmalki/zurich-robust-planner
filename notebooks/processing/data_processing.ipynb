{
 "cells": [
  {
   "cell_type": "code",
   "execution_count": 1,
   "id": "9c9b46f1",
   "metadata": {},
   "outputs": [],
   "source": [
    "import sys\n",
    "\n",
    "MODULES_PATH = \"../../modules\"\n",
    "if MODULES_PATH not in sys.path:\n",
    "    sys.path.append(MODULES_PATH)\n",
    "    \n",
    "from utils import get_env_vars, setup_spark    \n",
    "\n",
    "%reload_ext autoreload\n",
    "%autoreload 2"
   ]
  },
  {
   "cell_type": "code",
   "execution_count": 2,
   "id": "83ac1b09",
   "metadata": {},
   "outputs": [
    {
     "name": "stdout",
     "output_type": "stream",
     "text": [
      "Cleaning up livy sessions on exit is enabled\n"
     ]
    }
   ],
   "source": [
    "%reload_ext sparkmagic.magics"
   ]
  },
  {
   "cell_type": "code",
   "execution_count": 3,
   "id": "c52b55f4",
   "metadata": {},
   "outputs": [],
   "source": [
    "username, _, _ = get_env_vars()"
   ]
  },
  {
   "cell_type": "code",
   "execution_count": 4,
   "id": "67b82603",
   "metadata": {},
   "outputs": [
    {
     "name": "stdout",
     "output_type": "stream",
     "text": [
      "Starting Spark application\n"
     ]
    },
    {
     "data": {
      "text/html": [
       "<table>\n",
       "<tr><th>ID</th><th>YARN Application ID</th><th>Kind</th><th>State</th><th>Spark UI</th><th>Driver log</th><th>User</th><th>Current session?</th></tr><tr><td>7472</td><td>application_1680948035106_6865</td><td>pyspark</td><td>idle</td><td><a target=\"_blank\" href=\"http://iccluster044.iccluster.epfl.ch:8088/proxy/application_1680948035106_6865/\">Link</a></td><td><a target=\"_blank\" href=\"http://iccluster062.iccluster.epfl.ch:8042/node/containerlogs/container_e01_1680948035106_6865_01_000001/ebouille\">Link</a></td><td>None</td><td>✔</td></tr></table>"
      ],
      "text/plain": [
       "<IPython.core.display.HTML object>"
      ]
     },
     "metadata": {},
     "output_type": "display_data"
    },
    {
     "data": {
      "application/vnd.jupyter.widget-view+json": {
       "model_id": "",
       "version_major": 2,
       "version_minor": 0
      },
      "text/plain": [
       "FloatProgress(value=0.0, bar_style='info', description='Progress:', layout=Layout(height='25px', width='50%'),…"
      ]
     },
     "metadata": {},
     "output_type": "display_data"
    },
    {
     "name": "stdout",
     "output_type": "stream",
     "text": [
      "SparkSession available as 'spark'.\n"
     ]
    }
   ],
   "source": [
    "setup_spark(username)"
   ]
  },
  {
   "cell_type": "code",
   "execution_count": 5,
   "id": "310bec9a",
   "metadata": {},
   "outputs": [
    {
     "data": {
      "application/vnd.jupyter.widget-view+json": {
       "model_id": "",
       "version_major": 2,
       "version_minor": 0
      },
      "text/plain": [
       "FloatProgress(value=0.0, bar_style='info', description='Progress:', layout=Layout(height='25px', width='50%'),…"
      ]
     },
     "metadata": {},
     "output_type": "display_data"
    }
   ],
   "source": [
    "%%spark\n",
    "usernames = [\"boukil\", \"hdasilva\", \"elmalki\", \"ouerghem\", \"berkane\", \"sly\"]"
   ]
  },
  {
   "cell_type": "code",
   "execution_count": 6,
   "id": "368ed1bf",
   "metadata": {},
   "outputs": [
    {
     "data": {
      "application/vnd.jupyter.widget-view+json": {
       "model_id": "",
       "version_major": 2,
       "version_minor": 0
      },
      "text/plain": [
       "FloatProgress(value=0.0, bar_style='info', description='Progress:', layout=Layout(height='25px', width='50%'),…"
      ]
     },
     "metadata": {},
     "output_type": "display_data"
    },
    {
     "name": "stdout",
     "output_type": "stream",
     "text": [
      "We are using Spark 2.4.8.7.1.8.0-801"
     ]
    }
   ],
   "source": [
    "%%spark\n",
    "print('We are using Spark %s' % spark.version)\n",
    "\n",
    "import pyspark.sql.functions as F\n",
    "from pyspark.sql.window import Window\n",
    "from pyspark.sql.functions import (\n",
    "    col, lit, concat,\n",
    "    to_date, date_format, to_timestamp, unix_timestamp, dayofweek,\n",
    "    when, isnan,\n",
    "    count, lower, trim,\n",
    "    toRadians, sin, cos, sqrt, asin,\n",
    "    lead\n",
    ")"
   ]
  },
  {
   "cell_type": "markdown",
   "id": "3d974cb4-df82-4a41-85c6-79e077231532",
   "metadata": {
    "tags": []
   },
   "source": [
    "#### Preprocess stops"
   ]
  },
  {
   "cell_type": "code",
   "execution_count": 7,
   "id": "27cdacf0-0510-42db-9bac-f964cbc6364b",
   "metadata": {},
   "outputs": [
    {
     "data": {
      "application/vnd.jupyter.widget-view+json": {
       "model_id": "",
       "version_major": 2,
       "version_minor": 0
      },
      "text/plain": [
       "FloatProgress(value=0.0, bar_style='info', description='Progress:', layout=Layout(height='25px', width='50%'),…"
      ]
     },
     "metadata": {},
     "output_type": "display_data"
    },
    {
     "name": "stdout",
     "output_type": "stream",
     "text": [
      "final number of stops = 2260\n",
      "root\n",
      " |-- stop_id: string (nullable = true)\n",
      " |-- stop_name: string (nullable = true)\n",
      " |-- stop_lat: double (nullable = true)\n",
      " |-- stop_lon: double (nullable = true)\n",
      " |-- parent_station: string (nullable = true)\n",
      "\n",
      "+-----------+-------------------+----------------+----------------+--------------+\n",
      "|    stop_id|          stop_name|        stop_lat|        stop_lon|parent_station|\n",
      "+-----------+-------------------+----------------+----------------+--------------+\n",
      "|8503015:0:1|   zürich wipkingen|47.3930409564212|8.52937785976238| Parent8503015|\n",
      "|    8503152|uster, brandschenke|47.3611410570261|8.71073873249851|              |\n",
      "+-----------+-------------------+----------------+----------------+--------------+\n",
      "only showing top 2 rows"
     ]
    }
   ],
   "source": [
    "%%spark\n",
    "import numpy as np\n",
    "\n",
    "EARTH_RADIUS = 6371 * 1e3 # in meters\n",
    "def haversine_dist(\n",
    "    x_lat,\n",
    "    x_lon,\n",
    "    y_lat,\n",
    "    y_lon, \n",
    "    in_radian =False):\n",
    "    # link to the formula: https://fr.wikipedia.org/wiki/Formule_de_haversine\n",
    "    \n",
    "    # convert to radians if needed\n",
    "    if not in_radian:\n",
    "        x_lon = toRadians(x_lon)\n",
    "        x_lat = toRadians(x_lat)\n",
    "        y_lon = toRadians(y_lon)\n",
    "        y_lat = toRadians(y_lat)\n",
    "    \n",
    "    sin2_lat = F.pow(sin(0.5*(y_lat - x_lat)), 2)\n",
    "    sin2_lon = F.pow(sin(0.5*(y_lon - x_lon)), 2)\n",
    "    cos_lat_prod = cos(y_lat) * cos(x_lat)\n",
    "    \n",
    "    # distance in meters\n",
    "    dist = 2 * EARTH_RADIUS * asin(sqrt(sin2_lat + cos_lat_prod * sin2_lon))\n",
    "    return dist\n",
    "\n",
    "# load all the stops\n",
    "stops = spark.read.format(\"orc\").load(\"/data/sbb/orc/allstops\").dropDuplicates()\n",
    "\n",
    "# drop null stops\n",
    "stops = stops.dropna(how=\"any\", subset=[\"stop_id\"])\n",
    "\n",
    "# lowercase the stop names\n",
    "stops = stops.withColumn(\"stop_name\", trim(lower(col(\"stop_name\"))))\n",
    "\n",
    "# only keep stops within 15km (=15'000m) of Zurich\n",
    "ZURICH_TRAIN_STATION_LAT = 47.378177\n",
    "ZURICH_TRAIN_STATION_LON = 8.540192\n",
    "stops = stops.withColumn(\"dist_to_zurich_train_station\", \n",
    "                         haversine_dist(F.col(\"stop_lat\"), F.col(\"stop_lon\"), F.lit(ZURICH_TRAIN_STATION_LAT), F.lit(ZURICH_TRAIN_STATION_LON)))\n",
    "stops = stops.where(\"dist_to_zurich_train_station <= 16000\")\n",
    "\n",
    "# drop useless columns\n",
    "stops = stops.drop(\"location_type\", \"dist_to_zurich_train_station\")\n",
    "\n",
    "# caching\n",
    "stops = stops.cache()\n",
    "\n",
    "# count\n",
    "print(\"final number of stops =\", stops.count())\n",
    "\n",
    "stops.printSchema()\n",
    "stops.show(2)"
   ]
  },
  {
   "cell_type": "markdown",
   "id": "4ed41568-0544-4ddc-b390-3d1149702e34",
   "metadata": {
    "tags": []
   },
   "source": [
    "#### Preprocess stop times"
   ]
  },
  {
   "cell_type": "code",
   "execution_count": 8,
   "id": "8ea29497-d33e-4c33-8265-d9a256e309ba",
   "metadata": {},
   "outputs": [
    {
     "data": {
      "application/vnd.jupyter.widget-view+json": {
       "model_id": "",
       "version_major": 2,
       "version_minor": 0
      },
      "text/plain": [
       "FloatProgress(value=0.0, bar_style='info', description='Progress:', layout=Layout(height='25px', width='50%'),…"
      ]
     },
     "metadata": {},
     "output_type": "display_data"
    },
    {
     "name": "stdout",
     "output_type": "stream",
     "text": [
      "final number of stop times (all trips combined) = 1666786\n",
      "root\n",
      " |-- stop_id: string (nullable = true)\n",
      " |-- trip_id: string (nullable = true)\n",
      " |-- arrival_time: string (nullable = true)\n",
      " |-- departure_time: string (nullable = true)\n",
      " |-- stop_seqnum: integer (nullable = true)\n",
      "\n",
      "+-----------+--------------------+------------+--------------+-----------+\n",
      "|    stop_id|             trip_id|arrival_time|departure_time|stop_seqnum|\n",
      "+-----------+--------------------+------------+--------------+-----------+\n",
      "|8573726:0:A|490.TA.96-199-4-j...|    17:32:00|      17:32:00|          1|\n",
      "|    8573713|493.TA.96-199-4-j...|    21:03:00|      21:03:00|          2|\n",
      "+-----------+--------------------+------------+--------------+-----------+\n",
      "only showing top 2 rows"
     ]
    }
   ],
   "source": [
    "%%spark\n",
    "# most recent stop times file\n",
    "stop_times = spark.read.format(\"orc\").load(\"/data/sbb/part_orc/timetables/stop_times/year=2023/month=3/day=29\")\n",
    "\n",
    "# filter times that are not in reasonable work hours (time should be between 6am included and 10pm excluded)\n",
    "stop_times = stop_times.where(\n",
    "    \"\"\"\n",
    "    departure_time >= '06:00:00' AND departure_time < '22:00:00'\n",
    "    AND arrival_time >= '06:00:00' AND arrival_time < '22:00:00'\"\"\")\n",
    "\n",
    "# keep only stop times of the stops in our area\n",
    "stop_times = stop_times.join(stops, on=\"stop_id\", how=\"leftsemi\")\n",
    "\n",
    "stop_times = stop_times.withColumn(\"arrival_time\", to_timestamp(col(\"arrival_time\"), \"HH:mm:ss\"))\n",
    "stop_times = stop_times.withColumn(\"arrival_time\", date_format(col(\"arrival_time\"), \"HH:mm:ss\"))\n",
    "\n",
    "stop_times = stop_times.withColumn(\"departure_time\", to_timestamp(col(\"departure_time\"), \"HH:mm:ss\"))\n",
    "stop_times = stop_times.withColumn(\"departure_time\", date_format(col(\"departure_time\"), \"HH:mm:ss\"))\n",
    "\n",
    "stop_times = stop_times.withColumn('stop_sequence', col('stop_sequence').cast('int'))\\\n",
    "    .withColumnRenamed(\"stop_sequence\", \"stop_seqnum\")\n",
    "\n",
    "# drop unused columns\n",
    "stop_times = stop_times.drop(\"pickup_type\", \"drop_off_type\")\n",
    "\n",
    "# drop duplicates if any\n",
    "stop_times = stop_times.dropDuplicates()\n",
    "\n",
    "# cache\n",
    "stop_times = stop_times.cache()\n",
    "\n",
    "# count\n",
    "print(\"final number of stop times (all trips combined) =\", stop_times.count())\n",
    "\n",
    "stop_times.printSchema()\n",
    "stop_times.show(2)"
   ]
  },
  {
   "cell_type": "markdown",
   "id": "36854840-171e-4730-90b7-636e2c05e3b5",
   "metadata": {
    "tags": []
   },
   "source": [
    "#### Preprocess calendar"
   ]
  },
  {
   "cell_type": "code",
   "execution_count": 10,
   "id": "0e5c4f10-b1d3-4d96-83ce-293d96eac0ea",
   "metadata": {},
   "outputs": [
    {
     "data": {
      "application/vnd.jupyter.widget-view+json": {
       "model_id": "",
       "version_major": 2,
       "version_minor": 0
      },
      "text/plain": [
       "FloatProgress(value=0.0, bar_style='info', description='Progress:', layout=Layout(height='25px', width='50%'),…"
      ]
     },
     "metadata": {},
     "output_type": "display_data"
    },
    {
     "name": "stdout",
     "output_type": "stream",
     "text": [
      "final number of services = 12263\n",
      "root\n",
      " |-- service_id: string (nullable = true)\n",
      "\n",
      "+----------+\n",
      "|service_id|\n",
      "+----------+\n",
      "|  TA+1ax20|\n",
      "|  TA+23520|\n",
      "+----------+\n",
      "only showing top 2 rows"
     ]
    }
   ],
   "source": [
    "%%spark\n",
    "# most recent calendar file (needs to be filtered a bit)\n",
    "calendar = spark.read.format(\"orc\").load(\"/data/sbb/part_orc/timetables/calendar/year=2023/month=3/day=29\")\n",
    "\n",
    "# drop null columns\n",
    "calendar = calendar.dropna(how=\"any\", subset=[\"service_id\", \"monday\", \"tuesday\", \"wednesday\", \"thursday\", \"friday\"])\n",
    "\n",
    "# format columns\n",
    "calendar = calendar.withColumn(\"start_date\", to_date(col(\"start_date\"),\"yyyyMMdd\"))\n",
    "calendar = calendar.withColumn(\"end_date\", to_date(col(\"end_date\"),\"yyyyMMdd\"))\n",
    "\n",
    "# only include services that are valid for all days between monday and friday\n",
    "calendar = calendar.filter((col(\"monday\") == 'TRUE') & (col(\"tuesday\") == 'TRUE') \n",
    "                           & (col(\"wednesday\") == 'TRUE') & (col(\"thursday\") == 'TRUE') & (col(\"friday\") == 'TRUE'))\n",
    "\n",
    "# drop days columns\n",
    "calendar = calendar.drop(\"monday\", \"tuesday\", \"wednesday\", \"thursday\", \"friday\", \"saturday\", \"sunday\", \n",
    "                         \"start_date\", \"end_date\")\n",
    "\n",
    "# drop duplicates if any\n",
    "calendar = calendar.dropDuplicates([\"service_id\"])\n",
    "\n",
    "# caching\n",
    "calendar = calendar.cache()\n",
    "\n",
    "# count\n",
    "print(\"final number of services =\", calendar.count())\n",
    "\n",
    "calendar.printSchema()\n",
    "calendar.show(2)"
   ]
  },
  {
   "cell_type": "markdown",
   "id": "9989d777-5b51-4673-959a-2ced119e100f",
   "metadata": {
    "tags": []
   },
   "source": [
    "#### Preprocess trips"
   ]
  },
  {
   "cell_type": "code",
   "execution_count": 11,
   "id": "cf711408-1667-49c9-a039-c85dbfa18bc3",
   "metadata": {
    "tags": []
   },
   "outputs": [
    {
     "data": {
      "application/vnd.jupyter.widget-view+json": {
       "model_id": "",
       "version_major": 2,
       "version_minor": 0
      },
      "text/plain": [
       "FloatProgress(value=0.0, bar_style='info', description='Progress:', layout=Layout(height='25px', width='50%'),…"
      ]
     },
     "metadata": {},
     "output_type": "display_data"
    },
    {
     "name": "stdout",
     "output_type": "stream",
     "text": [
      "final number of trips = 643351\n",
      "root\n",
      " |-- service_id: string (nullable = true)\n",
      " |-- route_id: string (nullable = true)\n",
      " |-- trip_id: string (nullable = true)\n",
      " |-- trip_headsign: string (nullable = true)\n",
      " |-- direction_id: string (nullable = true)\n",
      "\n",
      "+----------+-------------+--------------------+------------------+------------+\n",
      "|service_id|     route_id|             trip_id|     trip_headsign|direction_id|\n",
      "+----------+-------------+--------------------+------------------+------------+\n",
      "|     TA+gz| 91-4-A-j23-1|1.TA.91-4-A-j23-1...|     Zürich HB SZU|           0|\n",
      "|  TA+3hg00|91-4A-Y-j23-1|1.TA.91-4A-Y-j23-...|Genova P. Principe|           0|\n",
      "+----------+-------------+--------------------+------------------+------------+\n",
      "only showing top 2 rows"
     ]
    }
   ],
   "source": [
    "%%spark\n",
    "# most recent trips file\n",
    "trips = spark.read.format(\"orc\").load(\"/data/sbb/part_orc/timetables/trips/year=2023/month=3/day=29\")\n",
    "\n",
    "# drop null trip_id and service_id columns, as we cannot use those trips\n",
    "trips = trips.dropna(how=\"any\", subset=[\"trip_id\", \"service_id\"])\n",
    "\n",
    "# drop duplicates\n",
    "trips = trips.dropDuplicates([\"trip_id\"])\n",
    "\n",
    "# drop useless columns\n",
    "trips = trips.drop(\"trip_short_name\")\n",
    "\n",
    "# keep trips with service_id in calendar\n",
    "trips = trips.join(calendar, on=\"service_id\", how=\"leftsemi\")\n",
    "\n",
    "# caching\n",
    "trips.cache()\n",
    "\n",
    "# count\n",
    "print(\"final number of trips =\", trips.count())\n",
    "\n",
    "trips.printSchema()\n",
    "trips.show(2)"
   ]
  },
  {
   "cell_type": "markdown",
   "id": "ba608949-17b6-484a-b1d5-df41de2e644d",
   "metadata": {
    "tags": []
   },
   "source": [
    "#### Trips with Stop Times"
   ]
  },
  {
   "cell_type": "code",
   "execution_count": 12,
   "id": "a08a0c06-736b-474a-a1c8-8121a7be7feb",
   "metadata": {},
   "outputs": [
    {
     "data": {
      "application/vnd.jupyter.widget-view+json": {
       "model_id": "",
       "version_major": 2,
       "version_minor": 0
      },
      "text/plain": [
       "FloatProgress(value=0.0, bar_style='info', description='Progress:', layout=Layout(height='25px', width='50%'),…"
      ]
     },
     "metadata": {},
     "output_type": "display_data"
    },
    {
     "name": "stdout",
     "output_type": "stream",
     "text": [
      "final number of edges (excluding walkable edges) = 387220\n",
      "root\n",
      " |-- trip_id: string (nullable = true)\n",
      " |-- service_id: string (nullable = true)\n",
      " |-- route_id: string (nullable = true)\n",
      " |-- trip_headsign: string (nullable = true)\n",
      " |-- direction_id: string (nullable = true)\n",
      " |-- stop_id: string (nullable = true)\n",
      " |-- arrival_time: string (nullable = true)\n",
      " |-- departure_time: string (nullable = true)\n",
      " |-- stop_seqnum: integer (nullable = true)\n",
      "\n",
      "+--------------------+----------+------------+-------------+------------+------------+------------+--------------+-----------+\n",
      "|             trip_id|service_id|    route_id|trip_headsign|direction_id|     stop_id|arrival_time|departure_time|stop_seqnum|\n",
      "+--------------------+----------+------------+-------------+------------+------------+------------+--------------+-----------+\n",
      "|1.TA.91-4-A-j23-1...|     TA+gz|91-4-A-j23-1|Zürich HB SZU|           0| 8503091:0:1|    17:56:00|      17:56:00|          8|\n",
      "|1.TA.91-4-A-j23-1...|     TA+gz|91-4-A-j23-1|Zürich HB SZU|           0|8503088:0:21|    18:01:00|      18:01:00|         10|\n",
      "+--------------------+----------+------------+-------------+------------+------------+------------+--------------+-----------+\n",
      "only showing top 2 rows"
     ]
    }
   ],
   "source": [
    "%%spark\n",
    "trips_with_stop_times = trips.join(stop_times, on=\"trip_id\", how=\"inner\")\n",
    "trips_with_stop_times = trips_with_stop_times.cache()\n",
    "\n",
    "# count\n",
    "print(\"final number of edges (excluding walkable edges) =\", trips_with_stop_times.count())\n",
    "\n",
    "trips_with_stop_times.printSchema()\n",
    "trips_with_stop_times.show(2)"
   ]
  },
  {
   "cell_type": "markdown",
   "id": "50e46c6b-2e63-425d-bc7e-729a40938aef",
   "metadata": {
    "tags": []
   },
   "source": [
    "#### Preprocess istdaten"
   ]
  },
  {
   "cell_type": "code",
   "execution_count": 13,
   "id": "beb0dcfc-6107-4395-80dd-90bf8619c0cb",
   "metadata": {},
   "outputs": [
    {
     "data": {
      "application/vnd.jupyter.widget-view+json": {
       "model_id": "",
       "version_major": 2,
       "version_minor": 0
      },
      "text/plain": [
       "FloatProgress(value=0.0, bar_style='info', description='Progress:', layout=Layout(height='25px', width='50%'),…"
      ]
     },
     "metadata": {},
     "output_type": "display_data"
    },
    {
     "name": "stdout",
     "output_type": "stream",
     "text": [
      "root\n",
      " |-- stop_name: string (nullable = true)\n",
      " |-- trip_date: string (nullable = true)\n",
      " |-- transport_type: string (nullable = false)\n",
      " |-- transport_subtype: string (nullable = true)\n",
      " |-- route_name: string (nullable = true)\n",
      " |-- real_arrival_time: string (nullable = true)\n",
      " |-- real_departure_time: string (nullable = true)\n",
      " |-- sch_arrival_time: string (nullable = true)\n",
      " |-- sch_departure_time: string (nullable = true)\n",
      " |-- does_not_stop_here: string (nullable = true)\n",
      " |-- irregular: string (nullable = true)\n",
      " |-- failed: string (nullable = true)\n",
      "\n",
      "+--------------------+----------+--------------+-----------------+----------+-------------------+-------------------+----------------+------------------+------------------+---------+------+\n",
      "|           stop_name| trip_date|transport_type|transport_subtype|route_name|  real_arrival_time|real_departure_time|sch_arrival_time|sch_departure_time|does_not_stop_here|irregular|failed|\n",
      "+--------------------+----------+--------------+-----------------+----------+-------------------+-------------------+----------------+------------------+------------------+---------+------+\n",
      "|baden, kantonsschule|13.02.2019|           bus|              nfb|         4|13.02.2019 18:56:22|13.02.2019 18:56:32|13.02.2019 18:55|  13.02.2019 18:55|             false|    false| false|\n",
      "|        baden, stein|13.02.2019|           bus|              nfb|         4|13.02.2019 18:59:57|13.02.2019 18:59:57|13.02.2019 18:59|  13.02.2019 18:59|             false|    false| false|\n",
      "+--------------------+----------+--------------+-----------------+----------+-------------------+-------------------+----------------+------------------+------------------+---------+------+\n",
      "only showing top 2 rows"
     ]
    }
   ],
   "source": [
    "%%spark\n",
    "istdaten = spark.read.format(\"orc\").load(\"/data/sbb/part_orc/istdaten\")\n",
    "\n",
    "cols_deu2eng = {\n",
    "    \"haltestellen_name\": \"stop_name\",\n",
    "    \n",
    "    \"betriebstag\": \"trip_date\",\n",
    "\n",
    "    \"produkt_id\": \"transport_type\",\n",
    "    \"verkehrsmittel_text\": \"transport_subtype\",\n",
    "    \"linien_text\": \"route_name\",\n",
    "    \n",
    "    \"an_prognose\": \"real_arrival_time\",\n",
    "    \"ab_prognose\": \"real_departure_time\",\n",
    "    \n",
    "    \"ankunftszeit\": \"sch_arrival_time\",\n",
    "    \"abfahrtszeit\": \"sch_departure_time\",\n",
    "    \n",
    "    \"durchfahrt_tf\": \"does_not_stop_here\",\n",
    "    \"zusatzfahrt_tf\": \"irregular\",\n",
    "    \"faellt_aus_tf\": \"failed\"\n",
    "}\n",
    "\n",
    "# select translated columns, other columns are not useful\n",
    "istdaten = istdaten.select(*cols_deu2eng.keys())\n",
    "\n",
    "# rename columns with english names\n",
    "istdaten_translated = istdaten\n",
    "for col_deu, col_eng in cols_deu2eng.items():\n",
    "    istdaten_translated = istdaten_translated.withColumnRenamed(col_deu, col_eng)\n",
    "    \n",
    "# lower casing some entries\n",
    "istdaten_translated = istdaten_translated.withColumn(\"stop_name\", trim(lower(col(\"stop_name\"))))\n",
    "istdaten_translated = istdaten_translated.withColumn(\"transport_type\", trim(lower(col(\"transport_type\"))))\n",
    "istdaten_translated = istdaten_translated.withColumn(\"transport_subtype\", trim(lower(col(\"transport_subtype\"))))\n",
    "istdaten_translated = istdaten_translated.withColumn(\"route_name\", trim(lower(col(\"route_name\"))))\n",
    "\n",
    "# only three types of transport means: train (zug), bus (bus) or tram (tram, standseilbahn)\n",
    "train_type_ids = ['en', 'rj', 'ic', 'ag', 're', 'ext', 'ir', 'rb', 'mat', 'te2', 'ice', 'ec', 'cis', \n",
    "                'rjx', 'nj', 'zug', 'p', 'd', 'flx', 'ter', 'pe', 'bex', 'nz', 'mp', 'gex', 'ire', \n",
    "                'sn', 'at', 'vae', 'r', '', 'atz', 'arz', 'tgv', 's']\n",
    "bus_type_ids = ['nb', 'bus', 'exb', 'bn', 'nfb', 'ev', 'rub', 'kb', 'b', 'car', 't']\n",
    "istdaten_translated = istdaten_translated.withColumn(\n",
    "    \"transport_type\",\n",
    "    when((col(\"transport_type\") == \"zug\") | (col(\"transport_subtype\").isin(train_type_ids)), \"train\")\\\n",
    "    .when((col(\"transport_type\") != \"train\") \n",
    "          & ((col(\"transport_type\") == \"bus\") | (col(\"transport_subtype\").isin(bus_type_ids))), \"bus\")\\\n",
    "    .otherwise(\"tram\")\n",
    ")\n",
    "\n",
    "# caching\n",
    "istdaten_translated = istdaten_translated.cache()\n",
    "\n",
    "istdaten_translated.printSchema()\n",
    "istdaten_translated.show(2)"
   ]
  },
  {
   "cell_type": "code",
   "execution_count": 14,
   "id": "a0cff2f1-ad43-4b8f-9609-5498a33f3ca4",
   "metadata": {},
   "outputs": [
    {
     "data": {
      "application/vnd.jupyter.widget-view+json": {
       "model_id": "",
       "version_major": 2,
       "version_minor": 0
      },
      "text/plain": [
       "FloatProgress(value=0.0, bar_style='info', description='Progress:', layout=Layout(height='25px', width='50%'),…"
      ]
     },
     "metadata": {},
     "output_type": "display_data"
    },
    {
     "name": "stdout",
     "output_type": "stream",
     "text": [
      "number of datapoints used to estimate delay distributions = 343310441\n",
      "root\n",
      " |-- stop_name: string (nullable = true)\n",
      " |-- transport_type: string (nullable = false)\n",
      " |-- transport_subtype: string (nullable = true)\n",
      " |-- route_name: string (nullable = true)\n",
      " |-- real_arrival_time: string (nullable = true)\n",
      " |-- sch_arrival_time: string (nullable = true)\n",
      "\n",
      "+--------------------+--------------+-----------------+----------+-------------------+----------------+\n",
      "|           stop_name|transport_type|transport_subtype|route_name|  real_arrival_time|sch_arrival_time|\n",
      "+--------------------+--------------+-----------------+----------+-------------------+----------------+\n",
      "|killwangen, mühle...|           bus|              nfb|         4|13.02.2019 19:43:12|13.02.2019 19:43|\n",
      "| killwangen, bahnhof|           bus|              nfb|         4|13.02.2019 19:45:54|13.02.2019 19:45|\n",
      "+--------------------+--------------+-----------------+----------+-------------------+----------------+\n",
      "only showing top 2 rows"
     ]
    }
   ],
   "source": [
    "%%spark\n",
    "from pyspark.sql.functions import (\n",
    "    dayofweek, from_unixtime, unix_timestamp, when, col, hour\n",
    "    )\n",
    "\n",
    "# FILTERING ISTDATEN\n",
    "\n",
    "# drop irregular trips\n",
    "# drop trips where transport does not stop in that stop\n",
    "# drop trips that failed\n",
    "# finally, drop these columns as we don't use need them anymore\n",
    "istdaten_filtered = istdaten_translated.filter(col(\"irregular\") == \"false\").drop(\"irregular\")\\\n",
    "    .filter(col(\"does_not_stop_here\") == \"false\").drop(\"does_not_stop_here\")\\\n",
    "    .filter(col(\"failed\") == \"false\").drop(\"failed\")\n",
    "\n",
    "# drop trips where arrival time is null or empty, since we cannot use it to estimate arrival delay\n",
    "istdaten_filtered = istdaten_filtered.dropna(how=\"any\", subset=[\"sch_arrival_time\", \"real_arrival_time\"])\\\n",
    "    .withColumn(\"sch_arrival_time\", trim(col(\"sch_arrival_time\")))\\\n",
    "    .withColumn(\"real_arrival_time\", trim(col(\"real_arrival_time\")))\\\n",
    "    .filter(\"sch_arrival_time != '' and real_arrival_time != ''\")\n",
    "# drop trips where departure time is null or empty, since we cannot use them to estimate day period\n",
    "istdaten_filtered = istdaten_filtered.dropna(how=\"any\", subset=[\"sch_departure_time\", \"real_departure_time\"])\\\n",
    "    .withColumn(\"sch_departure_time\", trim(col(\"sch_departure_time\")))\\\n",
    "    .withColumn(\"real_departure_time\", trim(col(\"real_departure_time\")))\\\n",
    "    .filter(\"sch_departure_time != '' and real_departure_time != ''\")\n",
    "# drop no longer needed real departure time\n",
    "istdaten_filtered = istdaten_filtered.drop(\"real_departure_time\")\n",
    "\n",
    "# remove the trips on Sundays (dayofweek=1) and Saturdays (dayofweek=7) since we removed them from our calendar\n",
    "format_ = \"dd.MM.yyyy\"\n",
    "istdaten_filtered = istdaten_filtered.where(~(dayofweek(to_timestamp(col(\"trip_date\"), format_)).isin([1, 7])))\n",
    "# we do not need the trip date anymore\n",
    "istdaten_filtered = istdaten_filtered.drop(\"trip_date\")\n",
    "\n",
    "# keep only trips for which the time is reasonable (between 6am and 10pm)\n",
    "format = \"dd.MM.yyyy HH:mm\"\n",
    "istdaten_filtered = istdaten_filtered.where(\n",
    "    (hour(to_timestamp(col('sch_arrival_time'), format)) >= 6) & (hour(to_timestamp(col('sch_arrival_time'), format)) < 22))\n",
    "istdaten_filtered = istdaten_filtered.where(\n",
    "    (hour(to_timestamp(col('sch_departure_time'), format)) >= 6) & (hour(to_timestamp(col('sch_departure_time'), format)) < 22))\n",
    "# drop no longer needed real departure time\n",
    "istdaten_filtered = istdaten_filtered.drop(\"sch_departure_time\")\n",
    "\n",
    "# keep trips for which we have stop names\n",
    "istdaten_filtered = istdaten_filtered.join(stops, on=\"stop_name\", how=\"leftsemi\")\n",
    "\n",
    "# caching\n",
    "istdaten_filtered = istdaten_filtered.cache()\n",
    "\n",
    "print(\"number of datapoints used to estimate delay distributions =\", istdaten_filtered.count())\n",
    "istdaten_filtered.printSchema()\n",
    "istdaten_filtered.show(2)"
   ]
  },
  {
   "cell_type": "code",
   "execution_count": 15,
   "id": "b2a09d16-6630-4b97-b2a2-8ccffa5af8be",
   "metadata": {},
   "outputs": [
    {
     "data": {
      "application/vnd.jupyter.widget-view+json": {
       "model_id": "",
       "version_major": 2,
       "version_minor": 0
      },
      "text/plain": [
       "FloatProgress(value=0.0, bar_style='info', description='Progress:', layout=Layout(height='25px', width='50%'),…"
      ]
     },
     "metadata": {},
     "output_type": "display_data"
    },
    {
     "name": "stdout",
     "output_type": "stream",
     "text": [
      "root\n",
      " |-- stop_name: string (nullable = true)\n",
      " |-- transport_type: string (nullable = false)\n",
      " |-- transport_subtype: string (nullable = true)\n",
      " |-- route_name: string (nullable = true)\n",
      " |-- arrival_delay: long (nullable = true)\n",
      " |-- day_period: string (nullable = false)\n",
      "\n",
      "+--------------------+--------------+-----------------+----------+-------------+----------+\n",
      "|           stop_name|transport_type|transport_subtype|route_name|arrival_delay|day_period|\n",
      "+--------------------+--------------+-----------------+----------+-------------+----------+\n",
      "|killwangen, mühle...|           bus|              nfb|         4|           12|   evening|\n",
      "| killwangen, bahnhof|           bus|              nfb|         4|           54|   evening|\n",
      "+--------------------+--------------+-----------------+----------+-------------+----------+\n",
      "only showing top 2 rows"
     ]
    }
   ],
   "source": [
    "%%spark\n",
    "\n",
    "# COMPUTE DELAYS\n",
    "\n",
    "# parse schedule/real arrival times to unix timestamp\n",
    "istdaten_delays = istdaten_filtered.withColumn(\"sch_arrival_unix_t\", unix_timestamp(col(\"sch_arrival_time\"), \"dd.MM.yyyy HH:mm\"))\n",
    "istdaten_delays = istdaten_delays.withColumn(\"real_arrival_unix_t\", unix_timestamp(col(\"real_arrival_time\"), \"dd.MM.yyyy HH:mm:ss\"))\n",
    "\n",
    "# compute arrival delay, keep only non-negative delays\n",
    "istdaten_delays = istdaten_delays.withColumn(\"arrival_delay\", col(\"real_arrival_unix_t\") - col(\"sch_arrival_unix_t\"))\\\n",
    "    .withColumn(\"arrival_delay\", when(col(\"arrival_delay\") >= 0, col(\"arrival_delay\")).otherwise(0))\\\n",
    "    .drop(\"real_arrival_unix_t\", \"sch_arrival_unix_t\")\\\n",
    "    .drop(\"real_arrival_time\")\n",
    "\n",
    "# DEFINE DAY PERIODS\n",
    "istdaten_delays = istdaten_delays.withColumn(\"sch_arrival_time\", to_timestamp(col(\"sch_arrival_time\"), \"dd.MM.yyyy HH:mm\"))\n",
    "\n",
    "day_periods = {\n",
    "    \"morning\": (\"06:00\", \"08:30\"),\n",
    "    \"prenoon\": (\"08:30\", \"12:00\"),\n",
    "    \"afternoon\": (\"12:00\", \"15:00\"),\n",
    "    \"latenoon\": (\"15:00\", \"18:00\"),\n",
    "    \"evening\": (\"18:00\", \"22:00\")\n",
    "}\n",
    "\n",
    "istdaten_delays_periods = istdaten_delays.withColumn(\n",
    "    \"day_period\", \n",
    "    when(date_format(col(\"sch_arrival_time\"), \"HH:mm\") < day_periods[\"morning\"][1], \"morning\")\\\n",
    "    .when((day_periods[\"prenoon\"][0] <= date_format(col(\"sch_arrival_time\"), \"HH:mm\")) \n",
    "          & (date_format(col(\"sch_arrival_time\"), \"HH:mm\") < day_periods[\"prenoon\"][1]), \"prenoon\")\\\n",
    "    .when((day_periods[\"afternoon\"][0] <= date_format(col(\"sch_arrival_time\"), \"HH:mm\"))\n",
    "          & (date_format(col(\"sch_arrival_time\"), \"HH:mm\") < day_periods[\"afternoon\"][1]), \"afternoon\")\\\n",
    "    .when((day_periods[\"latenoon\"][0] <= date_format(col(\"sch_arrival_time\"), \"HH:mm\"))\n",
    "          & (date_format(col(\"sch_arrival_time\"), \"HH:mm\") < day_periods[\"latenoon\"][1]), \"latenoon\")\\\n",
    "    .otherwise(\"evening\")\n",
    ").drop(\"sch_arrival_time\")\n",
    "\n",
    "# caching\n",
    "istdaten_delays_periods.cache()\n",
    "\n",
    "istdaten_delays_periods.printSchema()\n",
    "istdaten_delays_periods.show(2)"
   ]
  },
  {
   "cell_type": "code",
   "execution_count": 16,
   "id": "fa8ad7a4-944b-492e-aed1-b473559ab05f",
   "metadata": {},
   "outputs": [
    {
     "data": {
      "application/vnd.jupyter.widget-view+json": {
       "model_id": "",
       "version_major": 2,
       "version_minor": 0
      },
      "text/plain": [
       "FloatProgress(value=0.0, bar_style='info', description='Progress:', layout=Layout(height='25px', width='50%'),…"
      ]
     },
     "metadata": {},
     "output_type": "display_data"
    }
   ],
   "source": [
    "%%spark\n",
    "import pyspark.sql.functions as F\n",
    "from pyspark.sql.types import DoubleType\n",
    "\n",
    "# Define UDF\n",
    "@F.udf(DoubleType())\n",
    "def std_udf(delays):\n",
    "    import numpy as np\n",
    "    return float(np.std(delays))\n",
    "\n",
    "# ESTIMATION OF MEAN DELAY AND STANDARD DEVIATION\n",
    "\n",
    "avg_delay_by_tsptype_tspsubtype_dper = istdaten_delays_periods.groupBy(\n",
    "    \"stop_name\", \"day_period\", \"transport_type\", \"transport_subtype\").agg(F.mean(\"arrival_delay\").alias(\"mean_arrival_delay\"))\n",
    "\n",
    "avg_delay_by_tsptype_dper = istdaten_delays_periods.groupBy(\"stop_name\", \"day_period\", \"transport_type\")\\\n",
    "    .agg(F.mean(\"arrival_delay\").alias(\"mean_arrival_delay\"))\n",
    "\n",
    "avg_delay_by_dper = istdaten_delays_periods.groupBy(\"stop_name\", \"day_period\")\\\n",
    "    .agg(F.mean(\"arrival_delay\").alias(\"mean_arrival_delay\"))\n",
    "\n",
    "avg_delay = istdaten_delays_periods.groupBy(\"stop_name\").agg(F.mean(\"arrival_delay\").alias(\"mean_arrival_delay\"))\n",
    "\n",
    "std_delay_by_tsptype_tspsubtype_dper = istdaten_delays_periods.groupBy(\n",
    "    \"stop_name\", \"day_period\", \"transport_type\", \"transport_subtype\").agg(std_udf(F.collect_list(\"arrival_delay\")).alias(\"std_arrival_delay\"))\n",
    "\n",
    "std_delay_by_tsptype_dper = istdaten_delays_periods.groupBy(\"stop_name\", \"day_period\", \"transport_type\")\\\n",
    "    .agg(std_udf(F.collect_list(\"arrival_delay\")).alias(\"std_arrival_delay\"))\n",
    "\n",
    "std_delay_by_dper = istdaten_delays_periods.groupBy(\"stop_name\", \"day_period\")\\\n",
    "    .agg(std_udf(F.collect_list(\"arrival_delay\")).alias(\"std_arrival_delay\"))\n",
    "\n",
    "std_delay = istdaten_delays_periods.groupBy(\"stop_name\")\\\n",
    "    .agg(std_udf(F.collect_list(\"arrival_delay\")).alias(\"std_arrival_delay\"))"
   ]
  },
  {
   "cell_type": "code",
   "execution_count": 17,
   "id": "e3b12406-1d99-48df-8b58-f01111b93581",
   "metadata": {},
   "outputs": [
    {
     "data": {
      "application/vnd.jupyter.widget-view+json": {
       "model_id": "",
       "version_major": 2,
       "version_minor": 0
      },
      "text/plain": [
       "FloatProgress(value=0.0, bar_style='info', description='Progress:', layout=Layout(height='25px', width='50%'),…"
      ]
     },
     "metadata": {},
     "output_type": "display_data"
    },
    {
     "name": "stdout",
     "output_type": "stream",
     "text": [
      "+-------------------+----------+--------------+-----------------+------------------+\n",
      "|          stop_name|day_period|transport_type|transport_subtype|mean_arrival_delay|\n",
      "+-------------------+----------+--------------+-----------------+------------------+\n",
      "|    uster, buchholz|   evening|           bus|                b|  69.8245228696091|\n",
      "|erlenbach zh, chapf| afternoon|           bus|                b| 90.60486694677871|\n",
      "+-------------------+----------+--------------+-----------------+------------------+\n",
      "only showing top 2 rows"
     ]
    }
   ],
   "source": [
    "%%spark\n",
    "avg_delay_by_tsptype_tspsubtype_dper.show(2)"
   ]
  },
  {
   "cell_type": "code",
   "execution_count": 18,
   "id": "99926289-fceb-42c7-bc09-2928852739cf",
   "metadata": {},
   "outputs": [
    {
     "data": {
      "application/vnd.jupyter.widget-view+json": {
       "model_id": "",
       "version_major": 2,
       "version_minor": 0
      },
      "text/plain": [
       "FloatProgress(value=0.0, bar_style='info', description='Progress:', layout=Layout(height='25px', width='50%'),…"
      ]
     },
     "metadata": {},
     "output_type": "display_data"
    },
    {
     "name": "stdout",
     "output_type": "stream",
     "text": [
      "+-----------------+----------+--------------+------------------+\n",
      "|        stop_name|day_period|transport_type|mean_arrival_delay|\n",
      "+-----------------+----------+--------------+------------------+\n",
      "| meilen, aebleten|  latenoon|           bus| 74.58796111333066|\n",
      "|zürich, sädlenweg|   prenoon|           bus|  71.4975922953451|\n",
      "+-----------------+----------+--------------+------------------+\n",
      "only showing top 2 rows"
     ]
    }
   ],
   "source": [
    "%%spark\n",
    "avg_delay_by_tsptype_dper.show(2)"
   ]
  },
  {
   "cell_type": "code",
   "execution_count": 19,
   "id": "c1ad4634-b4e1-4ce3-8261-7155af3b0909",
   "metadata": {},
   "outputs": [
    {
     "data": {
      "application/vnd.jupyter.widget-view+json": {
       "model_id": "",
       "version_major": 2,
       "version_minor": 0
      },
      "text/plain": [
       "FloatProgress(value=0.0, bar_style='info', description='Progress:', layout=Layout(height='25px', width='50%'),…"
      ]
     },
     "metadata": {},
     "output_type": "display_data"
    },
    {
     "name": "stdout",
     "output_type": "stream",
     "text": [
      "+--------------------+----------+------------------+\n",
      "|           stop_name|day_period|mean_arrival_delay|\n",
      "+--------------------+----------+------------------+\n",
      "| zürich, sihlstrasse|  latenoon|51.977935486896506|\n",
      "|zürich, saalsport...|   morning| 69.96632419184942|\n",
      "+--------------------+----------+------------------+\n",
      "only showing top 2 rows"
     ]
    }
   ],
   "source": [
    "%%spark\n",
    "avg_delay_by_dper.show(2)"
   ]
  },
  {
   "cell_type": "code",
   "execution_count": 20,
   "id": "e40f7e45-cbd1-4ccd-b72f-a03e9daeeb60",
   "metadata": {},
   "outputs": [
    {
     "data": {
      "application/vnd.jupyter.widget-view+json": {
       "model_id": "",
       "version_major": 2,
       "version_minor": 0
      },
      "text/plain": [
       "FloatProgress(value=0.0, bar_style='info', description='Progress:', layout=Layout(height='25px', width='50%'),…"
      ]
     },
     "metadata": {},
     "output_type": "display_data"
    },
    {
     "name": "stdout",
     "output_type": "stream",
     "text": [
      "+--------------------+------------------+\n",
      "|           stop_name|mean_arrival_delay|\n",
      "+--------------------+------------------+\n",
      "|wettswil a.a., st...| 79.44618126272913|\n",
      "|     illnau, wingert| 99.74798847976857|\n",
      "+--------------------+------------------+\n",
      "only showing top 2 rows"
     ]
    }
   ],
   "source": [
    "%%spark\n",
    "avg_delay.show(2)"
   ]
  },
  {
   "cell_type": "code",
   "execution_count": 21,
   "id": "8d540895-241d-49c9-a282-8b1c851a0d01",
   "metadata": {},
   "outputs": [
    {
     "data": {
      "application/vnd.jupyter.widget-view+json": {
       "model_id": "",
       "version_major": 2,
       "version_minor": 0
      },
      "text/plain": [
       "FloatProgress(value=0.0, bar_style='info', description='Progress:', layout=Layout(height='25px', width='50%'),…"
      ]
     },
     "metadata": {},
     "output_type": "display_data"
    },
    {
     "name": "stdout",
     "output_type": "stream",
     "text": [
      "+--------------------+----------+--------------+-----------------+-----------------+\n",
      "|           stop_name|day_period|transport_type|transport_subtype|std_arrival_delay|\n",
      "+--------------------+----------+--------------+-----------------+-----------------+\n",
      "|adliswil, landolt...|   morning|           bus|              bus|53.92332298653285|\n",
      "|     buchs zh, linde|   morning|           bus|              bus|48.94721520536078|\n",
      "+--------------------+----------+--------------+-----------------+-----------------+\n",
      "only showing top 2 rows"
     ]
    }
   ],
   "source": [
    "%%spark\n",
    "std_delay_by_tsptype_tspsubtype_dper.show(2)"
   ]
  },
  {
   "cell_type": "code",
   "execution_count": 22,
   "id": "d1186e99-78eb-40b6-9d55-4c8e214eb0ea",
   "metadata": {},
   "outputs": [
    {
     "data": {
      "application/vnd.jupyter.widget-view+json": {
       "model_id": "",
       "version_major": 2,
       "version_minor": 0
      },
      "text/plain": [
       "FloatProgress(value=0.0, bar_style='info', description='Progress:', layout=Layout(height='25px', width='50%'),…"
      ]
     },
     "metadata": {},
     "output_type": "display_data"
    },
    {
     "name": "stdout",
     "output_type": "stream",
     "text": [
      "+--------------------+----------+--------------+-----------------+-----------------+\n",
      "|           stop_name|day_period|transport_type|transport_subtype|std_arrival_delay|\n",
      "+--------------------+----------+--------------+-----------------+-----------------+\n",
      "|adliswil, landolt...|   morning|           bus|              bus|53.92332298653285|\n",
      "|     buchs zh, linde|   morning|           bus|              bus|48.94721520536078|\n",
      "+--------------------+----------+--------------+-----------------+-----------------+\n",
      "only showing top 2 rows"
     ]
    }
   ],
   "source": [
    "%%spark\n",
    "std_delay_by_tsptype_tspsubtype_dper.show(2)"
   ]
  },
  {
   "cell_type": "code",
   "execution_count": 23,
   "id": "0ee90a0a-2d7c-4673-a3c6-d0de8aaea853",
   "metadata": {},
   "outputs": [
    {
     "data": {
      "application/vnd.jupyter.widget-view+json": {
       "model_id": "",
       "version_major": 2,
       "version_minor": 0
      },
      "text/plain": [
       "FloatProgress(value=0.0, bar_style='info', description='Progress:', layout=Layout(height='25px', width='50%'),…"
      ]
     },
     "metadata": {},
     "output_type": "display_data"
    },
    {
     "name": "stdout",
     "output_type": "stream",
     "text": [
      "+--------------------+----------+------------------+\n",
      "|           stop_name|day_period| std_arrival_delay|\n",
      "+--------------------+----------+------------------+\n",
      "|   bülach, sonnenhof|   prenoon|167.15751763104709|\n",
      "|dietlikon, dübend...|   evening|103.97810238124275|\n",
      "+--------------------+----------+------------------+\n",
      "only showing top 2 rows"
     ]
    }
   ],
   "source": [
    "%%spark\n",
    "std_delay_by_dper.show(2)"
   ]
  },
  {
   "cell_type": "code",
   "execution_count": 24,
   "id": "0e175617-f49f-4dd6-874a-60da5f6a3f1d",
   "metadata": {},
   "outputs": [
    {
     "data": {
      "application/vnd.jupyter.widget-view+json": {
       "model_id": "",
       "version_major": 2,
       "version_minor": 0
      },
      "text/plain": [
       "FloatProgress(value=0.0, bar_style='info', description='Progress:', layout=Layout(height='25px', width='50%'),…"
      ]
     },
     "metadata": {},
     "output_type": "display_data"
    },
    {
     "name": "stdout",
     "output_type": "stream",
     "text": [
      "+---------------+------------------+\n",
      "|      stop_name| std_arrival_delay|\n",
      "+---------------+------------------+\n",
      "|illnau, wingert|266.00226904698036|\n",
      "|      stettbach| 73.48660427804474|\n",
      "+---------------+------------------+\n",
      "only showing top 2 rows"
     ]
    }
   ],
   "source": [
    "%%spark\n",
    "std_delay.show(2)"
   ]
  },
  {
   "cell_type": "markdown",
   "id": "3b884b3d-2771-40ae-8d9d-7daa2c174396",
   "metadata": {
    "tags": []
   },
   "source": [
    "#### Preprocess routes"
   ]
  },
  {
   "cell_type": "code",
   "execution_count": 25,
   "id": "ae2c9c01-a4d8-4c1d-a710-78ab0fb714b5",
   "metadata": {
    "jp-MarkdownHeadingCollapsed": true,
    "tags": []
   },
   "outputs": [
    {
     "data": {
      "application/vnd.jupyter.widget-view+json": {
       "model_id": "",
       "version_major": 2,
       "version_minor": 0
      },
      "text/plain": [
       "FloatProgress(value=0.0, bar_style='info', description='Progress:', layout=Layout(height='25px', width='50%'),…"
      ]
     },
     "metadata": {},
     "output_type": "display_data"
    },
    {
     "name": "stdout",
     "output_type": "stream",
     "text": [
      "root\n",
      " |-- route_id: string (nullable = true)\n",
      " |-- route_name: string (nullable = true)\n",
      " |-- route_type: string (nullable = true)\n",
      " |-- transport_type: string (nullable = true)\n",
      " |-- transport_subtype: string (nullable = true)\n",
      "\n",
      "+--------------+----------+----------+--------------+-----------------+\n",
      "|      route_id|route_name|route_type|transport_type|transport_subtype|\n",
      "+--------------+----------+----------+--------------+-----------------+\n",
      "| 91-10-E-j23-1|        10|       900|          tram|              trm|\n",
      "|92-305-A-j23-1|       305|       700|         train|                 |\n",
      "+--------------+----------+----------+--------------+-----------------+\n",
      "only showing top 2 rows"
     ]
    }
   ],
   "source": [
    "%%spark\n",
    "# most recent routes file\n",
    "routes = spark.read.format(\"orc\").load(\"/data/sbb/part_orc/timetables/routes/year=2023/month=3/day=29\")\n",
    "\n",
    "# drop useless columns\n",
    "# route_long_name is always null, so we use route_short_name as route name\n",
    "routes = routes.drop(\"route_long_name\", \"agency_id\", \"route_desc\")\n",
    "routes = routes.withColumnRenamed(\"route_short_name\", \"route_name\")\n",
    "\n",
    "# lowercase the route names\n",
    "routes = routes.withColumn(\"route_name\", trim(lower(col(\"route_name\"))))\n",
    "\n",
    "# infer transport type of each route from istdaten\n",
    "istdaten_transport_types = istdaten_translated[[\"transport_type\", \"transport_subtype\", \"route_name\"]]\\\n",
    "    .withColumnRenamed(\"route_name\", \"route_name_istdaten\")\\\n",
    "    .dropDuplicates()\n",
    "routes_with_istdaten_types = routes.join(\n",
    "    istdaten_transport_types,\n",
    "    on=((istdaten_transport_types.transport_subtype == routes.route_name) |\n",
    "        (istdaten_transport_types.route_name_istdaten == routes.route_name)),\n",
    "    how=\"left\").drop(\"route_name_istdaten\")\n",
    "\n",
    "# for each (route_id, transport_type), keep the most frequent transport_subtype\n",
    "tspsubtype_window = Window.partitionBy([\"route_id\", \"transport_type\"]).orderBy(F.desc(\"count\"))\n",
    "routes_with_type_and_subtype = routes_with_istdaten_types.withColumn(\"count\", lit(1))\\\n",
    "    .groupBy(\"route_id\", \"transport_type\", \"transport_subtype\")\\\n",
    "    .agg(F.sum(\"count\").alias(\"count\"))\\\n",
    "    .withColumn(\"rank\", F.row_number().over(tspsubtype_window))\\\n",
    "    .filter(\"rank == 1\").drop(\"rank\", \"count\")\n",
    "\n",
    "# for each route_id in the previous result, keep the most frequent transport_type\n",
    "tsptype_window = Window.partitionBy([\"route_id\"]).orderBy(F.desc(\"count\"))\n",
    "routes_with_type = routes_with_type_and_subtype.withColumn(\"count\", lit(1))\\\n",
    "    .groupBy(\"route_id\", \"transport_type\")\\\n",
    "    .agg(F.sum(\"count\").alias(\"count\"))\\\n",
    "    .withColumn(\"rank\", F.row_number().over(tsptype_window))\\\n",
    "    .filter(\"rank == 1\").drop(\"rank\", \"count\")\n",
    "routes_with_type_and_subtype = routes_with_type_and_subtype.join(\n",
    "    routes_with_type, on=[\"route_id\", \"transport_type\"], how=\"inner\")\n",
    "\n",
    "# join the initial collection of routes with the obtained one to get the types\n",
    "routes = routes.join(\n",
    "    routes_with_type_and_subtype,\n",
    "    on=\"route_id\",\n",
    "    how=\"left\")\n",
    "\n",
    "# keep only the routes in trips\n",
    "routes = routes.join(trips_with_stop_times.dropDuplicates([\"trip_id\", \"route_id\"]), on=\"route_id\", how='leftsemi')\n",
    "\n",
    "# caching\n",
    "routes = routes.cache()\n",
    "\n",
    "routes.printSchema()\n",
    "routes.show(2)"
   ]
  },
  {
   "cell_type": "markdown",
   "id": "b796caab-cef5-44af-b241-c18d79922d4d",
   "metadata": {
    "tags": []
   },
   "source": [
    "#### Save pre-processed files"
   ]
  },
  {
   "cell_type": "code",
   "execution_count": 35,
   "id": "9fd315ea-3a10-4e06-b56d-268bca234c7d",
   "metadata": {},
   "outputs": [
    {
     "data": {
      "application/vnd.jupyter.widget-view+json": {
       "model_id": "",
       "version_major": 2,
       "version_minor": 0
      },
      "text/plain": [
       "FloatProgress(value=0.0, bar_style='info', description='Progress:', layout=Layout(height='25px', width='50%'),…"
      ]
     },
     "metadata": {},
     "output_type": "display_data"
    }
   ],
   "source": [
    "%%spark\n",
    "for username in usernames:\n",
    "    stops.write.saveAsTable(f\"{username}.pp_stops\", path=f\"/user/{username}/preprocessed/pp_stops\", mode='overwrite', format='orc')"
   ]
  },
  {
   "cell_type": "code",
   "execution_count": 36,
   "id": "0da085a7-1ea1-42ba-91f6-fc2cfdf17c16",
   "metadata": {},
   "outputs": [
    {
     "data": {
      "application/vnd.jupyter.widget-view+json": {
       "model_id": "",
       "version_major": 2,
       "version_minor": 0
      },
      "text/plain": [
       "FloatProgress(value=0.0, bar_style='info', description='Progress:', layout=Layout(height='25px', width='50%'),…"
      ]
     },
     "metadata": {},
     "output_type": "display_data"
    }
   ],
   "source": [
    "%%spark\n",
    "for username in usernames:\n",
    "    stop_times.write.saveAsTable(\n",
    "        f\"{username}.pp_stop_times\", path=f\"/user/{username}/preprocessed/pp_stop_times\", mode='overwrite', format='orc')"
   ]
  },
  {
   "cell_type": "code",
   "execution_count": 37,
   "id": "7098688d-50dd-45cf-ae04-c39f83e6fb84",
   "metadata": {},
   "outputs": [
    {
     "data": {
      "application/vnd.jupyter.widget-view+json": {
       "model_id": "",
       "version_major": 2,
       "version_minor": 0
      },
      "text/plain": [
       "FloatProgress(value=0.0, bar_style='info', description='Progress:', layout=Layout(height='25px', width='50%'),…"
      ]
     },
     "metadata": {},
     "output_type": "display_data"
    }
   ],
   "source": [
    "%%spark\n",
    "for username in usernames:\n",
    "    trips.write.saveAsTable(\n",
    "        f\"{username}.pp_trips\", path=f\"/user/{username}/preprocessed/pp_trips\", mode='overwrite', format='orc')"
   ]
  },
  {
   "cell_type": "code",
   "execution_count": 38,
   "id": "2ac0ad41-2716-40d0-bc13-02cf8257c666",
   "metadata": {},
   "outputs": [
    {
     "data": {
      "application/vnd.jupyter.widget-view+json": {
       "model_id": "",
       "version_major": 2,
       "version_minor": 0
      },
      "text/plain": [
       "FloatProgress(value=0.0, bar_style='info', description='Progress:', layout=Layout(height='25px', width='50%'),…"
      ]
     },
     "metadata": {},
     "output_type": "display_data"
    }
   ],
   "source": [
    "%%spark\n",
    "for username in usernames:\n",
    "    routes.write.saveAsTable(\n",
    "        f\"{username}.pp_routes\", path=f\"/user/{username}/preprocessed/pp_routes\", mode='overwrite', format='orc')"
   ]
  },
  {
   "cell_type": "code",
   "execution_count": 39,
   "id": "ff3dc3f3-b315-4073-af2e-85110223c7b7",
   "metadata": {},
   "outputs": [
    {
     "data": {
      "application/vnd.jupyter.widget-view+json": {
       "model_id": "",
       "version_major": 2,
       "version_minor": 0
      },
      "text/plain": [
       "FloatProgress(value=0.0, bar_style='info', description='Progress:', layout=Layout(height='25px', width='50%'),…"
      ]
     },
     "metadata": {},
     "output_type": "display_data"
    }
   ],
   "source": [
    "%%spark\n",
    "for username in usernames:\n",
    "    trips_with_stop_times.write.saveAsTable(\n",
    "        f\"{username}.pp_trips_with_stop_times\", path=f\"/user/{username}/preprocessed/pp_trips_with_stop_times\", mode='overwrite', format='orc')"
   ]
  },
  {
   "cell_type": "code",
   "execution_count": 40,
   "id": "c798f8c3-a9b4-4ed4-b095-19101b0d9d41",
   "metadata": {},
   "outputs": [
    {
     "data": {
      "application/vnd.jupyter.widget-view+json": {
       "model_id": "",
       "version_major": 2,
       "version_minor": 0
      },
      "text/plain": [
       "FloatProgress(value=0.0, bar_style='info', description='Progress:', layout=Layout(height='25px', width='50%'),…"
      ]
     },
     "metadata": {},
     "output_type": "display_data"
    }
   ],
   "source": [
    "%%spark\n",
    "\n",
    "fname_to_df = {\n",
    "    # files with mean values\n",
    "    \"delays/avg_delay_tsptype_tspsubtype_dper\": avg_delay_by_tsptype_tspsubtype_dper,\n",
    "    \"delays/avg_delay_tsptype_dper\": avg_delay_by_tsptype_dper,\n",
    "    \"delays/avg_delay_dper\": avg_delay_by_dper,\n",
    "    \"delays/avg_delay\": avg_delay,\n",
    "    \n",
    "    # files with std values\n",
    "    \"delays/std_delay_tsptype_tspsubtype_dper\": std_delay_by_tsptype_tspsubtype_dper,\n",
    "    \"delays/std_delay_tsptype_dper\": std_delay_by_tsptype_dper,\n",
    "    \"delays/std_delay_dper\": std_delay_by_dper,\n",
    "    \"delays/std_delay\": std_delay,\n",
    "}\n",
    "\n",
    "for username in usernames:\n",
    "    for fname, df in fname_to_df.items():\n",
    "        df.write.parquet(f\"/user/{username}/{fname}\", mode=\"overwrite\", compression=\"gzip\")"
   ]
  },
  {
   "cell_type": "markdown",
   "id": "94eeb330-71c7-4abb-969f-b469b879ec73",
   "metadata": {},
   "source": [
    "#### Create edges"
   ]
  },
  {
   "cell_type": "markdown",
   "id": "869d9be9-fbcf-4f2d-a7bf-9d40e01dd452",
   "metadata": {
    "tags": []
   },
   "source": [
    "##### Add sbb edges"
   ]
  },
  {
   "cell_type": "code",
   "execution_count": 26,
   "id": "a50c99a1-6aec-43b5-bf35-998da622ac0b",
   "metadata": {},
   "outputs": [
    {
     "data": {
      "application/vnd.jupyter.widget-view+json": {
       "model_id": "",
       "version_major": 2,
       "version_minor": 0
      },
      "text/plain": [
       "FloatProgress(value=0.0, bar_style='info', description='Progress:', layout=Layout(height='25px', width='50%'),…"
      ]
     },
     "metadata": {},
     "output_type": "display_data"
    },
    {
     "name": "stdout",
     "output_type": "stream",
     "text": [
      "final number of non-walkable edges = 358009\n",
      "root\n",
      " |-- trip_id: string (nullable = true)\n",
      " |-- trip_headsign: string (nullable = true)\n",
      " |-- route_id: string (nullable = true)\n",
      " |-- route_name: string (nullable = true)\n",
      " |-- route_type: string (nullable = true)\n",
      " |-- transport_type: string (nullable = true)\n",
      " |-- transport_subtype: string (nullable = true)\n",
      " |-- stop_id: string (nullable = true)\n",
      " |-- stop_name: string (nullable = true)\n",
      " |-- arrival_time: string (nullable = true)\n",
      " |-- departure_time: string (nullable = true)\n",
      " |-- stop_seqnum: integer (nullable = true)\n",
      " |-- parent_station: string (nullable = true)\n",
      " |-- next_stop_id: string (nullable = true)\n",
      " |-- next_stop_name: string (nullable = true)\n",
      " |-- next_arrival_time: string (nullable = true)\n",
      " |-- next_parent_station: string (nullable = true)\n",
      " |-- next_departure_time: string (nullable = true)\n",
      " |-- is_walkable: boolean (nullable = false)\n",
      " |-- duration_s: integer (nullable = true)\n",
      " |-- waiting_time_s: integer (nullable = true)\n",
      "\n",
      "+--------------------+-------------+------------+----------+----------+--------------+-----------------+-----------+----------------+------------+--------------+-----------+--------------+------------+-----------------+-----------------+-------------------+-------------------+-----------+----------+--------------+\n",
      "|             trip_id|trip_headsign|    route_id|route_name|route_type|transport_type|transport_subtype|    stop_id|       stop_name|arrival_time|departure_time|stop_seqnum|parent_station|next_stop_id|   next_stop_name|next_arrival_time|next_parent_station|next_departure_time|is_walkable|duration_s|waiting_time_s|\n",
      "+--------------------+-------------+------------+----------+----------+--------------+-----------------+-----------+----------------+------------+--------------+-----------+--------------+------------+-----------------+-----------------+-------------------+-------------------+-----------+----------+--------------+\n",
      "|1.TA.91-4-A-j23-1...|Zürich HB SZU|91-4-A-j23-1|        s4|       109|         train|                s|8503097:0:2|langnau-gattikon|    17:40:00|      17:40:00|          1| Parent8503097| 8503096:0:3|         adliswil|         17:45:00|      Parent8503096|           17:45:00|      false|       300|             0|\n",
      "|1.TA.91-4-A-j23-1...|Zürich HB SZU|91-4-A-j23-1|        s4|       109|         train|                s|8503096:0:3|        adliswil|    17:45:00|      17:45:00|          2| Parent8503096| 8503095:0:1|sood-oberleimbach|         17:46:00|                   |           17:46:00|      false|        60|             0|\n",
      "+--------------------+-------------+------------+----------+----------+--------------+-----------------+-----------+----------------+------------+--------------+-----------+--------------+------------+-----------------+-----------------+-------------------+-------------------+-----------+----------+--------------+\n",
      "only showing top 2 rows"
     ]
    }
   ],
   "source": [
    "%%spark\n",
    "from pyspark.sql.window import Window\n",
    "\n",
    "# join trips_with_stop_times with routes\n",
    "edges = trips_with_stop_times.join(routes, on=\"route_id\", how=\"left\")\n",
    "\n",
    "# join edges with stops\n",
    "edges = edges.join(stops, on=\"stop_id\", how=\"inner\")\\\n",
    "    .select([\n",
    "    \"trip_id\", \"trip_headsign\",\n",
    "    \"route_id\", \"route_name\", \"route_type\", \n",
    "    \"transport_type\", \"transport_subtype\",\n",
    "    \"stop_id\", \"stop_name\",\n",
    "    \"arrival_time\", \"departure_time\", \"stop_seqnum\",\n",
    "    \"parent_station\"])\n",
    "\n",
    "# replicate stop_id, departure_time and arrival_time column and shift it by one row\n",
    "# and remove last edge of trip that points to None\n",
    "window = Window.partitionBy(\"trip_id\").orderBy(\"stop_seqnum\")\n",
    "edges = edges.withColumn(\"next_stop_id\", lead(\"stop_id\").over(window))\n",
    "edges = edges.withColumn(\"next_stop_name\", lead(\"stop_name\").over(window))\n",
    "edges = edges.withColumn(\"next_arrival_time\", lead(\"arrival_time\").over(window))\n",
    "edges = edges.withColumn(\"next_parent_station\", lead(\"parent_station\").over(window))\n",
    "edges = edges.withColumn(\"next_departure_time\", lead(\"departure_time\").over(window))\n",
    "edges = edges.dropna(subset=[\"next_stop_id\"])\n",
    "\n",
    "# add is_walkable attribute\n",
    "edges = edges.withColumn(\"is_walkable\", lit(False))\n",
    "# compute duration as difference between next_arrival_time and departure_time in seconds\n",
    "edges = edges.withColumn(\"duration_s\", \n",
    "                         unix_timestamp(col(\"next_arrival_time\"), \"HH:mm:ss\") - unix_timestamp(col(\"departure_time\"), \"HH:mm:ss\"))\\\n",
    "                        .withColumn(\"duration_s\", col(\"duration_s\").cast(\"int\"))\n",
    "\n",
    "# stop waiting time = stop's departure time - stop's arrival time\n",
    "edges = edges.withColumn(\"waiting_time_s\", \n",
    "                         unix_timestamp(col(\"departure_time\"), \"HH:mm:ss\") - unix_timestamp(col(\"arrival_time\"), \"HH:mm:ss\"))\\\n",
    "                         .withColumn(\"waiting_time_s\", col(\"waiting_time_s\").cast(\"int\"))\n",
    "\n",
    "print(\"final number of non-walkable edges =\", edges.count())\n",
    "edges.printSchema()\n",
    "edges.show(2)"
   ]
  },
  {
   "cell_type": "markdown",
   "id": "7f6dfaf2-9e4b-4cff-9513-98a36fac4cf5",
   "metadata": {
    "tags": []
   },
   "source": [
    "##### Add walkable edges"
   ]
  },
  {
   "cell_type": "code",
   "execution_count": 27,
   "id": "72fcfdda-15ad-4b51-8f25-3529945c7e6b",
   "metadata": {},
   "outputs": [
    {
     "data": {
      "application/vnd.jupyter.widget-view+json": {
       "model_id": "",
       "version_major": 2,
       "version_minor": 0
      },
      "text/plain": [
       "FloatProgress(value=0.0, bar_style='info', description='Progress:', layout=Layout(height='25px', width='50%'),…"
      ]
     },
     "metadata": {},
     "output_type": "display_data"
    },
    {
     "name": "stdout",
     "output_type": "stream",
     "text": [
      "final number of walkable edges = 19012\n",
      "root\n",
      " |-- stop_id: string (nullable = true)\n",
      " |-- stop_name: string (nullable = true)\n",
      " |-- parent_station: string (nullable = true)\n",
      " |-- next_stop_id: string (nullable = true)\n",
      " |-- next_stop_name: string (nullable = true)\n",
      " |-- next_parent_station: string (nullable = true)\n",
      " |-- duration_s: double (nullable = true)\n",
      " |-- is_walkable: boolean (nullable = false)\n",
      " |-- departure_time: null (nullable = true)\n",
      " |-- arrival_time: null (nullable = true)\n",
      " |-- next_departure_time: null (nullable = true)\n",
      " |-- next_arrival_time: null (nullable = true)\n",
      " |-- waiting_time_s: null (nullable = true)\n",
      " |-- trip_id: null (nullable = true)\n",
      " |-- trip_headsign: null (nullable = true)\n",
      " |-- stop_seqnum: null (nullable = true)\n",
      " |-- route_id: null (nullable = true)\n",
      " |-- route_name: null (nullable = true)\n",
      " |-- route_type: null (nullable = true)\n",
      " |-- transport_type: string (nullable = false)\n",
      " |-- transport_subtype: string (nullable = false)\n",
      "\n",
      "+-----------+----------------+--------------+-------------+----------------+-------------------+----------+-----------+--------------+------------+-------------------+-----------------+--------------+-------+-------------+-----------+--------+----------+----------+--------------+-----------------+\n",
      "|    stop_id|       stop_name|parent_station| next_stop_id|  next_stop_name|next_parent_station|duration_s|is_walkable|departure_time|arrival_time|next_departure_time|next_arrival_time|waiting_time_s|trip_id|trip_headsign|stop_seqnum|route_id|route_name|route_type|transport_type|transport_subtype|\n",
      "+-----------+----------------+--------------+-------------+----------------+-------------------+----------+-----------+--------------+------------+-------------------+-----------------+--------------+-------+-------------+-----------+--------+----------+----------+--------------+-----------------+\n",
      "|8503015:0:1|zürich wipkingen| Parent8503015|  8503015:0:2|zürich wipkingen|      Parent8503015|     120.0|       true|          null|        null|               null|             null|          null|   null|         null|       null|    null|      null|      null|          walk|             walk|\n",
      "|8503015:0:1|zürich wipkingen| Parent8503015|Parent8503015|zürich wipkingen|                   |     120.0|       true|          null|        null|               null|             null|          null|   null|         null|       null|    null|      null|      null|          walk|             walk|\n",
      "+-----------+----------------+--------------+-------------+----------------+-------------------+----------+-----------+--------------+------------+-------------------+-----------------+--------------+-------+-------------+-----------+--------+----------+----------+--------------+-----------------+\n",
      "only showing top 2 rows"
     ]
    }
   ],
   "source": [
    "%%spark\n",
    "\n",
    "# a walkable edge is one between two stops in the area of 16km around Zurich, such that the distance between them is at most 500m\n",
    "stops_2 = stops\n",
    "for colname in [\"stop_id\", \"stop_name\", \"stop_lat\", \"stop_lon\", \"parent_station\"]:\n",
    "    stops_2 = stops_2.withColumnRenamed(colname, colname+\"_2\")\n",
    "\n",
    "all_stops_pairs = stops.crossJoin(stops_2).where(col(\"stop_id\") != col(\"stop_id_2\"))\n",
    "\n",
    "# calculate distance between stops using haversine_dist function\n",
    "all_stops_pairs = all_stops_pairs.withColumn(\"distance_m\",\n",
    "                                             haversine_dist(col(\"stop_lat\"), col(\"stop_lon\"), col(\"stop_lat_2\"), col(\"stop_lon_2\")))\\\n",
    "    .drop(\"stop_lat\", \"stop_lon\", \"stop_lat_2\", \"stop_lon_2\")\n",
    "\n",
    "# filter out rows where distance > 500m\n",
    "walkable_edges = all_stops_pairs.filter(col(\"distance_m\") <= 500)\n",
    "\n",
    "# transfer time is at least 2 min, we compute it is seconds \n",
    "walkable_edges = walkable_edges.withColumn(\"duration_s\", F.round((2 + col(\"distance_m\") / 50) * 60)).drop(\"distance_m\") # in seconds\n",
    "\n",
    "# create column is_walkable with value to True \n",
    "walkable_edges = walkable_edges.withColumn(\"is_walkable\", lit(True))\n",
    "\n",
    "# create edge columns not used for walkable edges\n",
    "walkable_edges = walkable_edges.withColumn(\"departure_time\", lit(None))\n",
    "walkable_edges = walkable_edges.withColumn(\"arrival_time\", lit(None))\n",
    "walkable_edges = walkable_edges.withColumn(\"next_departure_time\", lit(None))\n",
    "walkable_edges = walkable_edges.withColumn(\"next_arrival_time\", lit(None))\n",
    "walkable_edges = walkable_edges.withColumn(\"waiting_time_s\", lit(None))\n",
    "\n",
    "walkable_edges = walkable_edges.withColumn(\"trip_id\", lit(None))\n",
    "walkable_edges = walkable_edges.withColumn(\"trip_headsign\", lit(None))\n",
    "walkable_edges = walkable_edges.withColumn(\"stop_seqnum\", lit(None))\n",
    "\n",
    "walkable_edges = walkable_edges.withColumn(\"route_id\", lit(None))\n",
    "walkable_edges = walkable_edges.withColumn(\"route_name\", lit(None))\n",
    "walkable_edges = walkable_edges.withColumn(\"route_type\", lit(None))\n",
    "\n",
    "walkable_edges = walkable_edges.withColumn(\"transport_type\", lit(\"walk\"))\n",
    "walkable_edges = walkable_edges.withColumn(\"transport_subtype\", lit(\"walk\"))\n",
    "\n",
    "# rename columns\n",
    "walkable_edges = walkable_edges.withColumnRenamed(\"stop_id_2\", \"next_stop_id\")\n",
    "walkable_edges = walkable_edges.withColumnRenamed(\"stop_name_2\", \"next_stop_name\")\n",
    "walkable_edges = walkable_edges.withColumnRenamed(\"parent_station_2\", \"next_parent_station\")\n",
    "\n",
    "walkable_edges = walkable_edges.cache()\n",
    "\n",
    "print(\"final number of walkable edges =\", walkable_edges.count())\n",
    "walkable_edges.printSchema()\n",
    "walkable_edges.show(2)"
   ]
  },
  {
   "cell_type": "markdown",
   "id": "01260219-daac-4c0b-bd35-b17482e4e19e",
   "metadata": {
    "tags": []
   },
   "source": [
    "##### Merge edges"
   ]
  },
  {
   "cell_type": "code",
   "execution_count": 28,
   "id": "5712b0db-5ce8-4abe-a9fb-fdbdb44e82b8",
   "metadata": {},
   "outputs": [
    {
     "data": {
      "application/vnd.jupyter.widget-view+json": {
       "model_id": "",
       "version_major": 2,
       "version_minor": 0
      },
      "text/plain": [
       "FloatProgress(value=0.0, bar_style='info', description='Progress:', layout=Layout(height='25px', width='50%'),…"
      ]
     },
     "metadata": {},
     "output_type": "display_data"
    },
    {
     "name": "stdout",
     "output_type": "stream",
     "text": [
      "final total number of edges in the network = 377021\n",
      "root\n",
      " |-- trip_id: string (nullable = true)\n",
      " |-- trip_headsign: string (nullable = true)\n",
      " |-- route_id: string (nullable = true)\n",
      " |-- route_name: string (nullable = true)\n",
      " |-- route_type: string (nullable = true)\n",
      " |-- transport_type: string (nullable = true)\n",
      " |-- transport_subtype: string (nullable = true)\n",
      " |-- stop_id: string (nullable = true)\n",
      " |-- stop_name: string (nullable = true)\n",
      " |-- arrival_time: string (nullable = true)\n",
      " |-- departure_time: string (nullable = true)\n",
      " |-- stop_seqnum: integer (nullable = true)\n",
      " |-- parent_station: string (nullable = true)\n",
      " |-- next_stop_id: string (nullable = true)\n",
      " |-- next_stop_name: string (nullable = true)\n",
      " |-- next_arrival_time: string (nullable = true)\n",
      " |-- next_parent_station: string (nullable = true)\n",
      " |-- next_departure_time: string (nullable = true)\n",
      " |-- is_walkable: boolean (nullable = false)\n",
      " |-- duration_s: double (nullable = true)\n",
      " |-- waiting_time_s: integer (nullable = true)\n",
      "\n",
      "+-------+-------------+--------+----------+----------+--------------+-----------------+-----------+----------------+------------+--------------+-----------+--------------+-------------+----------------+-----------------+-------------------+-------------------+-----------+----------+--------------+\n",
      "|trip_id|trip_headsign|route_id|route_name|route_type|transport_type|transport_subtype|    stop_id|       stop_name|arrival_time|departure_time|stop_seqnum|parent_station| next_stop_id|  next_stop_name|next_arrival_time|next_parent_station|next_departure_time|is_walkable|duration_s|waiting_time_s|\n",
      "+-------+-------------+--------+----------+----------+--------------+-----------------+-----------+----------------+------------+--------------+-----------+--------------+-------------+----------------+-----------------+-------------------+-------------------+-----------+----------+--------------+\n",
      "|   null|         null|    null|      null|      null|          walk|             walk|8503015:0:1|zürich wipkingen|        null|          null|       null| Parent8503015|  8503015:0:2|zürich wipkingen|             null|      Parent8503015|               null|       true|     120.0|          null|\n",
      "|   null|         null|    null|      null|      null|          walk|             walk|8503015:0:1|zürich wipkingen|        null|          null|       null| Parent8503015|Parent8503015|zürich wipkingen|             null|                   |               null|       true|     120.0|          null|\n",
      "+-------+-------------+--------+----------+----------+--------------+-----------------+-----------+----------------+------------+--------------+-----------+--------------+-------------+----------------+-----------------+-------------------+-------------------+-----------+----------+--------------+\n",
      "only showing top 2 rows\n",
      "\n",
      "+--------------------+-------------+------------+----------+----------+--------------+-----------------+-----------+----------------+------------+--------------+-----------+--------------+------------+-----------------+-----------------+-------------------+-------------------+-----------+----------+--------------+\n",
      "|             trip_id|trip_headsign|    route_id|route_name|route_type|transport_type|transport_subtype|    stop_id|       stop_name|arrival_time|departure_time|stop_seqnum|parent_station|next_stop_id|   next_stop_name|next_arrival_time|next_parent_station|next_departure_time|is_walkable|duration_s|waiting_time_s|\n",
      "+--------------------+-------------+------------+----------+----------+--------------+-----------------+-----------+----------------+------------+--------------+-----------+--------------+------------+-----------------+-----------------+-------------------+-------------------+-----------+----------+--------------+\n",
      "|1.TA.91-4-A-j23-1...|Zürich HB SZU|91-4-A-j23-1|        s4|       109|         train|                s|8503097:0:2|langnau-gattikon|    17:40:00|      17:40:00|          1| Parent8503097| 8503096:0:3|         adliswil|         17:45:00|      Parent8503096|           17:45:00|      false|     300.0|             0|\n",
      "|1.TA.91-4-A-j23-1...|Zürich HB SZU|91-4-A-j23-1|        s4|       109|         train|                s|8503096:0:3|        adliswil|    17:45:00|      17:45:00|          2| Parent8503096| 8503095:0:1|sood-oberleimbach|         17:46:00|                   |           17:46:00|      false|      60.0|             0|\n",
      "+--------------------+-------------+------------+----------+----------+--------------+-----------------+-----------+----------------+------------+--------------+-----------+--------------+------------+-----------------+-----------------+-------------------+-------------------+-----------+----------+--------------+\n",
      "only showing top 2 rows"
     ]
    }
   ],
   "source": [
    "%%spark\n",
    "all_edges = edges.unionByName(walkable_edges)\n",
    "\n",
    "print(\"final total number of edges in the network =\", all_edges.count())\n",
    "all_edges.printSchema()\n",
    "all_edges.filter(\"is_walkable == 'true'\").show(2)\n",
    "all_edges.filter(\"is_walkable == 'false'\").show(2)"
   ]
  },
  {
   "cell_type": "code",
   "execution_count": 29,
   "id": "d572c084-58ae-4f27-9cae-6a43a3614d84",
   "metadata": {},
   "outputs": [
    {
     "data": {
      "application/vnd.jupyter.widget-view+json": {
       "model_id": "",
       "version_major": 2,
       "version_minor": 0
      },
      "text/plain": [
       "FloatProgress(value=0.0, bar_style='info', description='Progress:', layout=Layout(height='25px', width='50%'),…"
      ]
     },
     "metadata": {},
     "output_type": "display_data"
    },
    {
     "name": "stdout",
     "output_type": "stream",
     "text": [
      "root\n",
      " |-- trip_id: string (nullable = true)\n",
      " |-- trip_headsign: string (nullable = true)\n",
      " |-- route_id: string (nullable = true)\n",
      " |-- route_name: string (nullable = true)\n",
      " |-- route_type: string (nullable = true)\n",
      " |-- transport_type: string (nullable = true)\n",
      " |-- transport_subtype: string (nullable = true)\n",
      " |-- stop_id: string (nullable = true)\n",
      " |-- stop_name: string (nullable = true)\n",
      " |-- arrival_time: string (nullable = true)\n",
      " |-- departure_time: string (nullable = true)\n",
      " |-- stop_seqnum: integer (nullable = true)\n",
      " |-- parent_station: string (nullable = true)\n",
      " |-- next_stop_id: string (nullable = true)\n",
      " |-- next_stop_name: string (nullable = true)\n",
      " |-- next_arrival_time: string (nullable = true)\n",
      " |-- next_parent_station: string (nullable = true)\n",
      " |-- next_departure_time: string (nullable = true)\n",
      " |-- is_walkable: boolean (nullable = false)\n",
      " |-- duration_s: double (nullable = true)\n",
      " |-- waiting_time_s: integer (nullable = true)\n",
      " |-- node_id: integer (nullable = true)\n",
      " |-- next_node_id: integer (nullable = true)\n",
      "\n",
      "+--------------------+-------------+------------+----------+----------+--------------+-----------------+-----------+----------------+------------+--------------+-----------+--------------+------------+-----------------+-----------------+-------------------+-------------------+-----------+----------+--------------+-------+------------+\n",
      "|             trip_id|trip_headsign|    route_id|route_name|route_type|transport_type|transport_subtype|    stop_id|       stop_name|arrival_time|departure_time|stop_seqnum|parent_station|next_stop_id|   next_stop_name|next_arrival_time|next_parent_station|next_departure_time|is_walkable|duration_s|waiting_time_s|node_id|next_node_id|\n",
      "+--------------------+-------------+------------+----------+----------+--------------+-----------------+-----------+----------------+------------+--------------+-----------+--------------+------------+-----------------+-----------------+-------------------+-------------------+-----------+----------+--------------+-------+------------+\n",
      "|1.TA.91-4-A-j23-1...|Zürich HB SZU|91-4-A-j23-1|        s4|       109|         train|                s|8503097:0:2|langnau-gattikon|    17:40:00|      17:40:00|          1| Parent8503097| 8503096:0:3|         adliswil|         17:45:00|      Parent8503096|           17:45:00|      false|     300.0|             0|    221|         222|\n",
      "|1.TA.91-4-A-j23-1...|Zürich HB SZU|91-4-A-j23-1|        s4|       109|         train|                s|8503096:0:3|        adliswil|    17:45:00|      17:45:00|          2| Parent8503096| 8503095:0:1|sood-oberleimbach|         17:46:00|                   |           17:46:00|      false|      60.0|             0|    222|        1610|\n",
      "+--------------------+-------------+------------+----------+----------+--------------+-----------------+-----------+----------------+------------+--------------+-----------+--------------+------------+-----------------+-----------------+-------------------+-------------------+-----------+----------+--------------+-------+------------+\n",
      "only showing top 2 rows"
     ]
    }
   ],
   "source": [
    "%%spark\n",
    "from pyspark.sql.types import IntegerType\n",
    "\n",
    "# create a mapping from string values to integer values\n",
    "string_to_int = {}\n",
    "next_int = 0\n",
    "for row in all_edges.select(col(\"stop_id\"), col(\"next_stop_id\")).distinct().collect():\n",
    "    source = row[\"stop_id\"]\n",
    "    target = row[\"next_stop_id\"]\n",
    "    if source not in string_to_int:\n",
    "        string_to_int[source] = next_int\n",
    "        next_int += 1\n",
    "    if target not in string_to_int:\n",
    "        string_to_int[target] = next_int\n",
    "        next_int += 1\n",
    "        \n",
    "# define a UDF to map the node ID to the corresponding integer\n",
    "string_to_int_udf = F.udf(lambda x: string_to_int[x], IntegerType())\n",
    "\n",
    "# add new columns with the mapped integer values\n",
    "all_edges = all_edges.withColumn(\"node_id\", string_to_int_udf(col(\"stop_id\")))\n",
    "all_edges = all_edges.withColumn(\"next_node_id\", string_to_int_udf(col(\"next_stop_id\")))\n",
    "\n",
    "all_edges.printSchema()\n",
    "all_edges.show(2)"
   ]
  },
  {
   "cell_type": "markdown",
   "id": "21fe73ce-0d60-41ec-88e2-9a5682e0f53d",
   "metadata": {
    "tags": []
   },
   "source": [
    "#### Store Edges"
   ]
  },
  {
   "cell_type": "code",
   "execution_count": 30,
   "id": "3406841b-1d13-4218-8c2a-c516fe1c8840",
   "metadata": {},
   "outputs": [
    {
     "data": {
      "application/vnd.jupyter.widget-view+json": {
       "model_id": "",
       "version_major": 2,
       "version_minor": 0
      },
      "text/plain": [
       "FloatProgress(value=0.0, bar_style='info', description='Progress:', layout=Layout(height='25px', width='50%'),…"
      ]
     },
     "metadata": {},
     "output_type": "display_data"
    }
   ],
   "source": [
    "%%spark\n",
    "for username in usernames:\n",
    "    all_edges.write.orc(f\"/user/{username}/network_data/all_edges\", mode='overwrite')"
   ]
  },
  {
   "cell_type": "code",
   "execution_count": 31,
   "id": "0f1e2b8d-a1b3-4d0d-94e9-f970276603c7",
   "metadata": {},
   "outputs": [
    {
     "data": {
      "application/vnd.jupyter.widget-view+json": {
       "model_id": "",
       "version_major": 2,
       "version_minor": 0
      },
      "text/plain": [
       "FloatProgress(value=0.0, bar_style='info', description='Progress:', layout=Layout(height='25px', width='50%'),…"
      ]
     },
     "metadata": {},
     "output_type": "display_data"
    }
   ],
   "source": [
    "%%spark\n",
    "for username in usernames:\n",
    "    edges.write.orc(f\"/user/{username}/network_data/sbb_edges\", mode='overwrite')"
   ]
  },
  {
   "cell_type": "markdown",
   "id": "1e54902e-16e8-448c-8b13-17780b06e5b7",
   "metadata": {
    "tags": []
   },
   "source": [
    "#### Load All Edges"
   ]
  },
  {
   "cell_type": "code",
   "execution_count": 32,
   "id": "e32984d4-9174-44ae-9840-cdac4506a8e4",
   "metadata": {},
   "outputs": [
    {
     "data": {
      "application/vnd.jupyter.widget-view+json": {
       "model_id": "",
       "version_major": 2,
       "version_minor": 0
      },
      "text/plain": [
       "FloatProgress(value=0.0, bar_style='info', description='Progress:', layout=Layout(height='25px', width='50%'),…"
      ]
     },
     "metadata": {},
     "output_type": "display_data"
    },
    {
     "name": "stdout",
     "output_type": "stream",
     "text": [
      "root\n",
      " |-- stop_name: string (nullable = true)\n",
      " |-- mean_arrival_delay: double (nullable = true)\n",
      "\n",
      "root\n",
      " |-- trip_id: string (nullable = true)\n",
      " |-- service_id: string (nullable = true)\n",
      " |-- route_id: string (nullable = true)\n",
      " |-- trip_headsign: string (nullable = true)\n",
      " |-- direction_id: string (nullable = true)\n",
      " |-- stop_id: string (nullable = true)\n",
      " |-- arrival_time: string (nullable = true)\n",
      " |-- departure_time: string (nullable = true)\n",
      " |-- stop_seqnum: integer (nullable = true)\n",
      "\n",
      "root\n",
      " |-- trip_id: string (nullable = true)\n",
      " |-- trip_headsign: string (nullable = true)\n",
      " |-- route_id: string (nullable = true)\n",
      " |-- route_name: string (nullable = true)\n",
      " |-- route_type: string (nullable = true)\n",
      " |-- transport_type: string (nullable = true)\n",
      " |-- transport_subtype: string (nullable = true)\n",
      " |-- stop_id: string (nullable = true)\n",
      " |-- stop_name: string (nullable = true)\n",
      " |-- arrival_time: string (nullable = true)\n",
      " |-- departure_time: string (nullable = true)\n",
      " |-- stop_seqnum: integer (nullable = true)\n",
      " |-- parent_station: string (nullable = true)\n",
      " |-- next_stop_id: string (nullable = true)\n",
      " |-- next_stop_name: string (nullable = true)\n",
      " |-- next_arrival_time: string (nullable = true)\n",
      " |-- next_parent_station: string (nullable = true)\n",
      " |-- next_departure_time: string (nullable = true)\n",
      " |-- is_walkable: boolean (nullable = true)\n",
      " |-- duration_s: double (nullable = true)\n",
      " |-- waiting_time_s: integer (nullable = true)\n",
      " |-- node_id: integer (nullable = true)\n",
      " |-- next_node_id: integer (nullable = true)"
     ]
    }
   ],
   "source": [
    "%%spark\n",
    "username = \"sly\"\n",
    "test_1 = spark.read.parquet(f\"/user/{username}/delays/avg_delay\")\n",
    "test_1.printSchema()\n",
    "\n",
    "username = \"ouerghem\"\n",
    "test_2 = spark.read.orc(f\"/user/{username}/preprocessed/pp_trips_with_stop_times\")\n",
    "test_2.printSchema()\n",
    "\n",
    "username = \"berkane\"\n",
    "test_3 = spark.read.orc(f\"/user/{username}/network_data/all_edges\")\n",
    "test_3.printSchema()"
   ]
  }
 ],
 "metadata": {
  "kernelspec": {
   "display_name": "Python 3 (ipykernel)",
   "language": "python",
   "name": "python3"
  },
  "language_info": {
   "codemirror_mode": {
    "name": "ipython",
    "version": 3
   },
   "file_extension": ".py",
   "mimetype": "text/x-python",
   "name": "python",
   "nbconvert_exporter": "python",
   "pygments_lexer": "ipython3",
   "version": "3.9.12"
  }
 },
 "nbformat": 4,
 "nbformat_minor": 5
}
