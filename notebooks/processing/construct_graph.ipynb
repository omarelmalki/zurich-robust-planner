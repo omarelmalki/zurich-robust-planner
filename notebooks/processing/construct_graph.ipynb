{
 "cells": [
  {
   "cell_type": "code",
   "execution_count": 1,
   "id": "5bf8e331-a9b6-432d-af72-35513599891d",
   "metadata": {},
   "outputs": [],
   "source": [
    "import sys\n",
    "\n",
    "MODULES_PATH = \"../../modules\"\n",
    "if MODULES_PATH not in sys.path:\n",
    "    sys.path.append(MODULES_PATH)\n",
    "    \n",
    "from database import *\n",
    "from hive_wrapper import *\n",
    "from utils import *\n",
    "import pandas as pd\n",
    "\n",
    "%reload_ext autoreload\n",
    "%autoreload 2"
   ]
  },
  {
   "cell_type": "code",
   "execution_count": 2,
   "id": "038dc15c-c955-417a-8cdc-72bbb7f4c86f",
   "metadata": {},
   "outputs": [],
   "source": [
    "username = \"boukil\"\n",
    "hive_connection = HiveConnection(*get_env_vars())"
   ]
  },
  {
   "cell_type": "code",
   "execution_count": 3,
   "id": "0f24916f-c2a8-4896-8d92-bb614bdf6350",
   "metadata": {},
   "outputs": [],
   "source": [
    "# all edges table creation\n",
    "query=f\"\"\"\n",
    "    DROP TABLE IF EXISTS {username}.all_edges\n",
    "\"\"\"\n",
    "hive_connection.exec(query)\n",
    "\n",
    "query = f\"\"\"\n",
    "    CREATE EXTERNAL TABLE {username}.all_edges(\n",
    "        trip_id string,\n",
    "        trip_headsign string,\n",
    "        route_id string,\n",
    "        route_name string,\n",
    "        route_type string,\n",
    "        transport_type string,\n",
    "        transport_subtype string,\n",
    "        stop_id string,\n",
    "        stop_name string,\n",
    "        arrival_time string,\n",
    "        departure_time string,\n",
    "        stop_seqnum integer,\n",
    "        parent_station string,\n",
    "        next_stop_id string,\n",
    "        next_stop_name string,\n",
    "        next_arrival_time string,\n",
    "        next_parent_station string,\n",
    "        next_departure_time string,\n",
    "        is_walkable boolean,\n",
    "        duration_s double,\n",
    "        waiting_time_s integer,\n",
    "        node_id integer,\n",
    "        next_node_id integer\n",
    "    )\n",
    "    STORED AS ORC\n",
    "    LOCATION '/user/{username}/network_data/all_edges'\n",
    "\"\"\"\n",
    "hive_connection.exec(query)"
   ]
  },
  {
   "cell_type": "code",
   "execution_count": 4,
   "id": "2d4a70f7-8b7d-48ec-ad06-8825e9ec12de",
   "metadata": {},
   "outputs": [
    {
     "name": "stderr",
     "output_type": "stream",
     "text": [
      "/home/jovyan/work/final-project/notebooks/processing/../../modules/hive_wrapper.py:100: UserWarning: pandas only supports SQLAlchemy connectable (engine/connection) or database string URI or sqlite3 DBAPI2 connection. Other DBAPI2 objects are not tested. Please consider using SQLAlchemy.\n",
      "  self.cache[query] = pd.read_sql(query, self.conn)\n"
     ]
    }
   ],
   "source": [
    "query = f\"\"\"\n",
    "    SELECT *\n",
    "    FROM {username}.all_edges\n",
    "\"\"\"\n",
    "edges_df = hive_connection.pandas_df(query)"
   ]
  },
  {
   "cell_type": "code",
   "execution_count": 5,
   "id": "21276c72-4605-4fd2-9093-b68c0936ef22",
   "metadata": {},
   "outputs": [
    {
     "data": {
      "text/plain": [
       "377021"
      ]
     },
     "execution_count": 5,
     "metadata": {},
     "output_type": "execute_result"
    }
   ],
   "source": [
    "len(edges_df)"
   ]
  },
  {
   "cell_type": "code",
   "execution_count": 6,
   "id": "73a8b77d-7d41-4843-b2b1-ba9c024ae70c",
   "metadata": {},
   "outputs": [
    {
     "data": {
      "text/html": [
       "<div>\n",
       "<style scoped>\n",
       "    .dataframe tbody tr th:only-of-type {\n",
       "        vertical-align: middle;\n",
       "    }\n",
       "\n",
       "    .dataframe tbody tr th {\n",
       "        vertical-align: top;\n",
       "    }\n",
       "\n",
       "    .dataframe thead th {\n",
       "        text-align: right;\n",
       "    }\n",
       "</style>\n",
       "<table border=\"1\" class=\"dataframe\">\n",
       "  <thead>\n",
       "    <tr style=\"text-align: right;\">\n",
       "      <th></th>\n",
       "      <th>all_edges.trip_id</th>\n",
       "      <th>all_edges.trip_headsign</th>\n",
       "      <th>all_edges.route_id</th>\n",
       "      <th>all_edges.route_name</th>\n",
       "      <th>all_edges.route_type</th>\n",
       "      <th>all_edges.transport_type</th>\n",
       "      <th>all_edges.transport_subtype</th>\n",
       "      <th>all_edges.stop_id</th>\n",
       "      <th>all_edges.stop_name</th>\n",
       "      <th>all_edges.arrival_time</th>\n",
       "      <th>...</th>\n",
       "      <th>all_edges.next_stop_id</th>\n",
       "      <th>all_edges.next_stop_name</th>\n",
       "      <th>all_edges.next_arrival_time</th>\n",
       "      <th>all_edges.next_parent_station</th>\n",
       "      <th>all_edges.next_departure_time</th>\n",
       "      <th>all_edges.is_walkable</th>\n",
       "      <th>all_edges.duration_s</th>\n",
       "      <th>all_edges.waiting_time_s</th>\n",
       "      <th>all_edges.node_id</th>\n",
       "      <th>all_edges.next_node_id</th>\n",
       "    </tr>\n",
       "  </thead>\n",
       "  <tbody>\n",
       "    <tr>\n",
       "      <th>0</th>\n",
       "      <td>1.TA.91-4-A-j23-1.1.H</td>\n",
       "      <td>Zürich HB SZU</td>\n",
       "      <td>91-4-A-j23-1</td>\n",
       "      <td>s4</td>\n",
       "      <td>109</td>\n",
       "      <td>train</td>\n",
       "      <td>s</td>\n",
       "      <td>8503097:0:2</td>\n",
       "      <td>langnau-gattikon</td>\n",
       "      <td>17:40:00</td>\n",
       "      <td>...</td>\n",
       "      <td>8503096:0:3</td>\n",
       "      <td>adliswil</td>\n",
       "      <td>17:45:00</td>\n",
       "      <td>Parent8503096</td>\n",
       "      <td>17:45:00</td>\n",
       "      <td>False</td>\n",
       "      <td>300.0</td>\n",
       "      <td>0.0</td>\n",
       "      <td>221</td>\n",
       "      <td>222</td>\n",
       "    </tr>\n",
       "    <tr>\n",
       "      <th>1</th>\n",
       "      <td>1.TA.91-4-A-j23-1.1.H</td>\n",
       "      <td>Zürich HB SZU</td>\n",
       "      <td>91-4-A-j23-1</td>\n",
       "      <td>s4</td>\n",
       "      <td>109</td>\n",
       "      <td>train</td>\n",
       "      <td>s</td>\n",
       "      <td>8503096:0:3</td>\n",
       "      <td>adliswil</td>\n",
       "      <td>17:45:00</td>\n",
       "      <td>...</td>\n",
       "      <td>8503095:0:1</td>\n",
       "      <td>sood-oberleimbach</td>\n",
       "      <td>17:46:00</td>\n",
       "      <td></td>\n",
       "      <td>17:46:00</td>\n",
       "      <td>False</td>\n",
       "      <td>60.0</td>\n",
       "      <td>0.0</td>\n",
       "      <td>222</td>\n",
       "      <td>1610</td>\n",
       "    </tr>\n",
       "    <tr>\n",
       "      <th>2</th>\n",
       "      <td>1.TA.91-4-A-j23-1.1.H</td>\n",
       "      <td>Zürich HB SZU</td>\n",
       "      <td>91-4-A-j23-1</td>\n",
       "      <td>s4</td>\n",
       "      <td>109</td>\n",
       "      <td>train</td>\n",
       "      <td>s</td>\n",
       "      <td>8503095:0:1</td>\n",
       "      <td>sood-oberleimbach</td>\n",
       "      <td>17:46:00</td>\n",
       "      <td>...</td>\n",
       "      <td>8503094:0:1</td>\n",
       "      <td>zürich leimbach</td>\n",
       "      <td>17:49:00</td>\n",
       "      <td>Parent8503094</td>\n",
       "      <td>17:49:00</td>\n",
       "      <td>False</td>\n",
       "      <td>180.0</td>\n",
       "      <td>0.0</td>\n",
       "      <td>1610</td>\n",
       "      <td>1401</td>\n",
       "    </tr>\n",
       "    <tr>\n",
       "      <th>3</th>\n",
       "      <td>1.TA.91-4-A-j23-1.1.H</td>\n",
       "      <td>Zürich HB SZU</td>\n",
       "      <td>91-4-A-j23-1</td>\n",
       "      <td>s4</td>\n",
       "      <td>109</td>\n",
       "      <td>train</td>\n",
       "      <td>s</td>\n",
       "      <td>8503094:0:1</td>\n",
       "      <td>zürich leimbach</td>\n",
       "      <td>17:49:00</td>\n",
       "      <td>...</td>\n",
       "      <td>8503093:0:1</td>\n",
       "      <td>zürich manegg</td>\n",
       "      <td>17:50:00</td>\n",
       "      <td>Parent8503093</td>\n",
       "      <td>17:50:00</td>\n",
       "      <td>False</td>\n",
       "      <td>60.0</td>\n",
       "      <td>0.0</td>\n",
       "      <td>1401</td>\n",
       "      <td>881</td>\n",
       "    </tr>\n",
       "    <tr>\n",
       "      <th>4</th>\n",
       "      <td>1.TA.91-4-A-j23-1.1.H</td>\n",
       "      <td>Zürich HB SZU</td>\n",
       "      <td>91-4-A-j23-1</td>\n",
       "      <td>s4</td>\n",
       "      <td>109</td>\n",
       "      <td>train</td>\n",
       "      <td>s</td>\n",
       "      <td>8503093:0:1</td>\n",
       "      <td>zürich manegg</td>\n",
       "      <td>17:50:00</td>\n",
       "      <td>...</td>\n",
       "      <td>8503086:0:1</td>\n",
       "      <td>zürich brunau</td>\n",
       "      <td>17:52:00</td>\n",
       "      <td>Parent8503086</td>\n",
       "      <td>17:52:00</td>\n",
       "      <td>False</td>\n",
       "      <td>120.0</td>\n",
       "      <td>0.0</td>\n",
       "      <td>881</td>\n",
       "      <td>1011</td>\n",
       "    </tr>\n",
       "  </tbody>\n",
       "</table>\n",
       "<p>5 rows × 23 columns</p>\n",
       "</div>"
      ],
      "text/plain": [
       "       all_edges.trip_id all_edges.trip_headsign all_edges.route_id  \\\n",
       "0  1.TA.91-4-A-j23-1.1.H           Zürich HB SZU       91-4-A-j23-1   \n",
       "1  1.TA.91-4-A-j23-1.1.H           Zürich HB SZU       91-4-A-j23-1   \n",
       "2  1.TA.91-4-A-j23-1.1.H           Zürich HB SZU       91-4-A-j23-1   \n",
       "3  1.TA.91-4-A-j23-1.1.H           Zürich HB SZU       91-4-A-j23-1   \n",
       "4  1.TA.91-4-A-j23-1.1.H           Zürich HB SZU       91-4-A-j23-1   \n",
       "\n",
       "  all_edges.route_name all_edges.route_type all_edges.transport_type  \\\n",
       "0                   s4                  109                    train   \n",
       "1                   s4                  109                    train   \n",
       "2                   s4                  109                    train   \n",
       "3                   s4                  109                    train   \n",
       "4                   s4                  109                    train   \n",
       "\n",
       "  all_edges.transport_subtype all_edges.stop_id all_edges.stop_name  \\\n",
       "0                           s       8503097:0:2    langnau-gattikon   \n",
       "1                           s       8503096:0:3            adliswil   \n",
       "2                           s       8503095:0:1   sood-oberleimbach   \n",
       "3                           s       8503094:0:1     zürich leimbach   \n",
       "4                           s       8503093:0:1       zürich manegg   \n",
       "\n",
       "  all_edges.arrival_time  ... all_edges.next_stop_id  \\\n",
       "0               17:40:00  ...            8503096:0:3   \n",
       "1               17:45:00  ...            8503095:0:1   \n",
       "2               17:46:00  ...            8503094:0:1   \n",
       "3               17:49:00  ...            8503093:0:1   \n",
       "4               17:50:00  ...            8503086:0:1   \n",
       "\n",
       "   all_edges.next_stop_name all_edges.next_arrival_time  \\\n",
       "0                  adliswil                    17:45:00   \n",
       "1         sood-oberleimbach                    17:46:00   \n",
       "2           zürich leimbach                    17:49:00   \n",
       "3             zürich manegg                    17:50:00   \n",
       "4             zürich brunau                    17:52:00   \n",
       "\n",
       "  all_edges.next_parent_station all_edges.next_departure_time  \\\n",
       "0                 Parent8503096                      17:45:00   \n",
       "1                                                    17:46:00   \n",
       "2                 Parent8503094                      17:49:00   \n",
       "3                 Parent8503093                      17:50:00   \n",
       "4                 Parent8503086                      17:52:00   \n",
       "\n",
       "  all_edges.is_walkable all_edges.duration_s all_edges.waiting_time_s  \\\n",
       "0                 False                300.0                      0.0   \n",
       "1                 False                 60.0                      0.0   \n",
       "2                 False                180.0                      0.0   \n",
       "3                 False                 60.0                      0.0   \n",
       "4                 False                120.0                      0.0   \n",
       "\n",
       "   all_edges.node_id  all_edges.next_node_id  \n",
       "0                221                     222  \n",
       "1                222                    1610  \n",
       "2               1610                    1401  \n",
       "3               1401                     881  \n",
       "4                881                    1011  \n",
       "\n",
       "[5 rows x 23 columns]"
      ]
     },
     "execution_count": 6,
     "metadata": {},
     "output_type": "execute_result"
    }
   ],
   "source": [
    "edges_df.head()"
   ]
  },
  {
   "cell_type": "code",
   "execution_count": 7,
   "id": "ac500254-1336-40f0-b7fd-5c522a28b8d9",
   "metadata": {},
   "outputs": [
    {
     "data": {
      "text/plain": [
       "Index(['trip_id', 'trip_headsign', 'route_id', 'route_name', 'route_type',\n",
       "       'transport_type', 'transport_subtype', 'stop_id', 'stop_name',\n",
       "       'arrival_time', 'departure_time', 'stop_seqnum', 'parent_station',\n",
       "       'next_stop_id', 'next_stop_name', 'next_arrival_time',\n",
       "       'next_parent_station', 'next_departure_time', 'is_walkable',\n",
       "       'duration_s', 'waiting_time_s', 'node_id', 'next_node_id'],\n",
       "      dtype='object')"
      ]
     },
     "execution_count": 7,
     "metadata": {},
     "output_type": "execute_result"
    }
   ],
   "source": [
    "edges_df.columns = [c[10:] for c in edges_df.columns]\n",
    "edges_df.columns"
   ]
  },
  {
   "cell_type": "code",
   "execution_count": 8,
   "id": "8b3511b7-f08a-4098-aa89-561a2cecb615",
   "metadata": {},
   "outputs": [],
   "source": [
    "attributes = ['trip_id', \n",
    "              'trip_headsign',\n",
    "              \n",
    "              'route_name',\n",
    "              \n",
    "              'transport_type',\n",
    "              'transport_subtype',\n",
    "              \n",
    "              'stop_id',\n",
    "              'stop_name',\n",
    "              \n",
    "              'arrival_time',\n",
    "              'departure_time',\n",
    "              \n",
    "              'next_stop_id',\n",
    "              'next_stop_name',\n",
    "              \n",
    "              'next_arrival_time',\n",
    "              'next_departure_time',\n",
    "              \n",
    "              'is_walkable',\n",
    "              \n",
    "              'duration_s',\n",
    "              'waiting_time_s'\n",
    "]"
   ]
  },
  {
   "cell_type": "code",
   "execution_count": 9,
   "id": "53a2f82f-5bd4-49c3-af71-a9a12ce5d9ea",
   "metadata": {},
   "outputs": [
    {
     "data": {
      "text/html": [
       "<div>\n",
       "<style scoped>\n",
       "    .dataframe tbody tr th:only-of-type {\n",
       "        vertical-align: middle;\n",
       "    }\n",
       "\n",
       "    .dataframe tbody tr th {\n",
       "        vertical-align: top;\n",
       "    }\n",
       "\n",
       "    .dataframe thead th {\n",
       "        text-align: right;\n",
       "    }\n",
       "</style>\n",
       "<table border=\"1\" class=\"dataframe\">\n",
       "  <thead>\n",
       "    <tr style=\"text-align: right;\">\n",
       "      <th></th>\n",
       "      <th>stop_id</th>\n",
       "      <th>next_stop_id</th>\n",
       "    </tr>\n",
       "  </thead>\n",
       "  <tbody>\n",
       "    <tr>\n",
       "      <th>0</th>\n",
       "      <td>8503097:0:2</td>\n",
       "      <td>8503096:0:3</td>\n",
       "    </tr>\n",
       "    <tr>\n",
       "      <th>1</th>\n",
       "      <td>8503096:0:3</td>\n",
       "      <td>8503095:0:1</td>\n",
       "    </tr>\n",
       "    <tr>\n",
       "      <th>2</th>\n",
       "      <td>8503095:0:1</td>\n",
       "      <td>8503094:0:1</td>\n",
       "    </tr>\n",
       "    <tr>\n",
       "      <th>3</th>\n",
       "      <td>8503094:0:1</td>\n",
       "      <td>8503093:0:1</td>\n",
       "    </tr>\n",
       "    <tr>\n",
       "      <th>4</th>\n",
       "      <td>8503093:0:1</td>\n",
       "      <td>8503086:0:1</td>\n",
       "    </tr>\n",
       "  </tbody>\n",
       "</table>\n",
       "</div>"
      ],
      "text/plain": [
       "       stop_id next_stop_id\n",
       "0  8503097:0:2  8503096:0:3\n",
       "1  8503096:0:3  8503095:0:1\n",
       "2  8503095:0:1  8503094:0:1\n",
       "3  8503094:0:1  8503093:0:1\n",
       "4  8503093:0:1  8503086:0:1"
      ]
     },
     "execution_count": 9,
     "metadata": {},
     "output_type": "execute_result"
    }
   ],
   "source": [
    "edges_df[[\"stop_id\", \"next_stop_id\"]].head()#.isna().any()"
   ]
  },
  {
   "cell_type": "code",
   "execution_count": 10,
   "id": "e947e625-428f-4b2c-934a-462e776cf315",
   "metadata": {},
   "outputs": [
    {
     "name": "stdout",
     "output_type": "stream",
     "text": [
      "Requirement already satisfied: networkx in /opt/conda/lib/python3.9/site-packages (3.1)\n"
     ]
    }
   ],
   "source": [
    "!pip install networkx"
   ]
  },
  {
   "cell_type": "code",
   "execution_count": 11,
   "id": "82702d00-7464-4487-a66a-81fee78e63b7",
   "metadata": {},
   "outputs": [
    {
     "data": {
      "text/plain": [
       "(377021, 2229)"
      ]
     },
     "execution_count": 11,
     "metadata": {},
     "output_type": "execute_result"
    }
   ],
   "source": [
    "import networkx as nx\n",
    "\n",
    "graph = nx.from_pandas_edgelist(edges_df, \n",
    "                                source='next_stop_id', \n",
    "                                target='stop_id', \n",
    "                                edge_attr=attributes, \n",
    "                                create_using=nx.MultiDiGraph)\n",
    "\n",
    "graph.number_of_edges(), graph.number_of_nodes()"
   ]
  },
  {
   "cell_type": "code",
   "execution_count": 13,
   "id": "45c9aad3-adcf-469f-9a9c-f5835c67df34",
   "metadata": {},
   "outputs": [],
   "source": [
    "import pickle\n",
    "# Save the graph to a pickle file\n",
    "with open(\"../../data/transport_network.pkl\", \"wb\") as f:\n",
    "    pickle.dump(graph, f)"
   ]
  },
  {
   "cell_type": "code",
   "execution_count": 14,
   "id": "3082c793-1d95-4312-9143-9e48be6fd454",
   "metadata": {},
   "outputs": [],
   "source": [
    "import networkx as nx\n",
    "import pickle\n",
    "import datetime\n",
    "\n",
    "# Load the graph from a pickle file\n",
    "with open(\"../../data/transport_network.pkl\", \"rb\") as f:\n",
    "    graph = pickle.load(f)"
   ]
  }
 ],
 "metadata": {
  "kernelspec": {
   "display_name": "Python 3 (ipykernel)",
   "language": "python",
   "name": "python3"
  },
  "language_info": {
   "codemirror_mode": {
    "name": "ipython",
    "version": 3
   },
   "file_extension": ".py",
   "mimetype": "text/x-python",
   "name": "python",
   "nbconvert_exporter": "python",
   "pygments_lexer": "ipython3",
   "version": "3.9.12"
  }
 },
 "nbformat": 4,
 "nbformat_minor": 5
}
